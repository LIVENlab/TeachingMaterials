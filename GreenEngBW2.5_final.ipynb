{
 "cells": [
  {
   "cell_type": "markdown",
   "id": "8257f05327352ddb",
   "metadata": {
    "collapsed": false
   },
   "source": [
    "# 1 Getting started\n",
    "\n",
    "Please make sure you have the proper environment and all necessary packages installed. Please refer to the README file for setting this up. \n",
    "Also, **remember to choose the conda env:ricse_bw25 as kernel**.\n",
    "\n",
    "Please note that this notebook is designed to quickly help you complete LCA with BW25. However there is much to learn about data types \n",
    "\n",
    "This notebook has excerpts form the Brightway Book [here](https://learn.brightway.dev/en/latest/content/chapters/BW25/BW25_introduction.html#introductory-note) \n",
    "\n",
    "For shortcuts, check the BW cheatsheet [here](https://docs.brightway.dev/en/latest/content/cheatsheet/index.html)\n"
   ]
  },
  {
   "cell_type": "markdown",
   "id": "4bd0978c13c4ec89",
   "metadata": {
    "collapsed": false
   },
   "source": [
    "# 2 Understanding BW25 structure\n",
    "After you have BW25 up and running, you need to understand the BW2 data structure. Please read about it in the BW25 site [here](https://docs.brightway.dev/en/latest/content/overview/structure.html)."
   ]
  },
  {
   "cell_type": "markdown",
   "id": "f2c349a0-f2f7-4fc3-ace1-ceade030ec39",
   "metadata": {},
   "source": [
    "# 3 Importing needed packages\n",
    "As you may know, before you are able to import the packages we will later use. For the moment:"
   ]
  },
  {
   "cell_type": "code",
   "execution_count": 62,
   "id": "251dbb8d-e50b-43a2-a487-2f2684b980e1",
   "metadata": {
    "ExecuteTime": {
     "end_time": "2024-11-26T23:18:47.522300300Z",
     "start_time": "2024-11-26T23:18:47.513683500Z"
    }
   },
   "outputs": [],
   "source": [
    "import bw2analyzer as bwa\n",
    "import bw2calc as bc\n",
    "import bw2data as bd\n",
    "import bw2io as bi\n",
    "\n",
    "import matplotlib.pyplot as plt\n",
    "import numpy as np\n",
    "import pandas as pd\n",
    "import seaborn as sns"
   ]
  },
  {
   "cell_type": "markdown",
   "id": "f320bbca-8df8-4118-9723-a242dcab16c0",
   "metadata": {},
   "source": [
    "# 4 Set up a project with biosphere and LCIA methods\n",
    "We need to set a project with the Biosphere3 and LCIA methods databases in it. \n",
    "\n",
    "In here you have only the very basics.\n",
    "More commands for projects: https://docs.brightway.dev/en/latest/content/cheatsheet/projects.html\n",
    "\n",
    "You can see what projects you have already doing:\n"
   ]
  },
  {
   "cell_type": "code",
   "execution_count": 3,
   "id": "0ca912fd-7e62-4866-97bd-12e0134a9885",
   "metadata": {
    "ExecuteTime": {
     "end_time": "2024-11-26T22:16:49.995950500Z",
     "start_time": "2024-11-26T22:16:49.989939500Z"
    }
   },
   "outputs": [
    {
     "data": {
      "text/plain": "[Project: default, Project: SAPP_chair, Project: Supdup Exercise 7 project]"
     },
     "execution_count": 3,
     "metadata": {},
     "output_type": "execute_result"
    }
   ],
   "source": [
    "sorted(bd.projects) "
   ]
  },
  {
   "cell_type": "markdown",
   "id": "b791dcc1-dffa-4e9d-920d-110becff037f",
   "metadata": {},
   "source": [
    "You can see the path to the place where the projects are saved doing:"
   ]
  },
  {
   "cell_type": "code",
   "execution_count": 2,
   "id": "c515d65f-d051-4a06-8e6c-5a68266439b2",
   "metadata": {
    "ExecuteTime": {
     "end_time": "2024-11-26T22:02:31.274955600Z",
     "start_time": "2024-11-26T22:02:31.273322700Z"
    }
   },
   "outputs": [
    {
     "data": {
      "text/plain": "WindowsPath('C:/Users/user/AppData/Local/pylca/Brightway3/default.c21f969b5f03d33d43e04f8f136e7682')"
     },
     "execution_count": 2,
     "metadata": {},
     "output_type": "execute_result"
    }
   ],
   "source": [
    "bd.projects.dir"
   ]
  },
  {
   "cell_type": "markdown",
   "id": "d453fd09-6bbc-4fd3-b322-07ae8d48d70a",
   "metadata": {},
   "source": [
    "Check the project that is currently active:"
   ]
  },
  {
   "cell_type": "code",
   "execution_count": 4,
   "id": "1a56b67d-02d0-47b5-89ec-dc32f961a2f3",
   "metadata": {
    "ExecuteTime": {
     "end_time": "2024-11-26T22:16:52.608544400Z",
     "start_time": "2024-11-26T22:16:52.592553500Z"
    }
   },
   "outputs": [
    {
     "data": {
      "text/plain": "'default'"
     },
     "execution_count": 4,
     "metadata": {},
     "output_type": "execute_result"
    }
   ],
   "source": [
    "bd.projects.current"
   ]
  },
  {
   "cell_type": "markdown",
   "id": "39657630-4d6b-41cb-87df-6d2e0b6be08a",
   "metadata": {},
   "source": [
    "If you did not active any project, the cell above will return the default project.\n",
    "\n",
    "There is a way of creating a project already with the Biosphere3 and the methods library in it. We will create the RICSE_prj project and will choose the tag of the Db we will later import: Ecoinvent 3.9.1."
   ]
  },
  {
   "cell_type": "code",
   "execution_count": 2,
   "id": "581cea4f-89bc-4f67-a089-231d437d05b9",
   "metadata": {
    "ExecuteTime": {
     "end_time": "2024-11-26T22:25:26.213249800Z",
     "start_time": "2024-11-26T22:25:16.481906200Z"
    }
   },
   "outputs": [
    {
     "name": "stdout",
     "output_type": "stream",
     "text": [
      "Restoring project backup archive - this could take a few minutes...\n",
      "Restored project: RICSE_prj\n"
     ]
    },
    {
     "data": {
      "text/plain": "'RICSE_prj'"
     },
     "execution_count": 2,
     "metadata": {},
     "output_type": "execute_result"
    }
   ],
   "source": [
    "bi.remote.install_project('ecoinvent-3.9.1-biosphere', 'RICSE_prj')"
   ]
  },
  {
   "cell_type": "markdown",
   "id": "666b63df-4be3-4e33-b082-d861532ca200",
   "metadata": {},
   "source": [
    "There are  few alternatives to the project_tag, is one of:\n",
    "* ecoinvent-3.10-biosphere\n",
    "* ecoinvent-3.8-biosphere\n",
    "* ecoinvent-3.9.1-biosphere\n",
    "* forwast\n",
    "* USEEIO-1.1\n",
    "\n",
    "The ecoinvent biosphere projects also include LCIA impact categories."
   ]
  },
  {
   "cell_type": "markdown",
   "id": "b440253d-c3c5-4213-bf05-b29fd0c6f5f8",
   "metadata": {},
   "source": [
    "Now we still need to set the **RICSE_prj** project as the active project:"
   ]
  },
  {
   "cell_type": "code",
   "execution_count": 3,
   "id": "60b8b130-f759-4e60-8b35-3060b0d42d9c",
   "metadata": {
    "ExecuteTime": {
     "end_time": "2024-11-26T22:27:42.387786500Z",
     "start_time": "2024-11-26T22:27:31.211394800Z"
    }
   },
   "outputs": [
    {
     "name": "stdout",
     "output_type": "stream",
     "text": [
      "23:27:31 [info     ] Applying automatic update: 4.0 database search directories FTS5\n",
      "23:27:31 [info     ] Reindexing database biosphere3\n"
     ]
    }
   ],
   "source": [
    "bd.projects.set_current(name='RICSE_prj')"
   ]
  },
  {
   "cell_type": "markdown",
   "source": [
    "Just in case you need to delete a project"
   ],
   "metadata": {
    "collapsed": false
   },
   "id": "57b590fbef7ecdaa"
  },
  {
   "cell_type": "code",
   "execution_count": 2,
   "outputs": [
    {
     "ename": "ValueError",
     "evalue": "RICSE_prj is not a project",
     "output_type": "error",
     "traceback": [
      "\u001B[1;31m---------------------------------------------------------------------------\u001B[0m",
      "\u001B[1;31mValueError\u001B[0m                                Traceback (most recent call last)",
      "Cell \u001B[1;32mIn[2], line 1\u001B[0m\n\u001B[1;32m----> 1\u001B[0m \u001B[43mbd\u001B[49m\u001B[38;5;241;43m.\u001B[39;49m\u001B[43mprojects\u001B[49m\u001B[38;5;241;43m.\u001B[39;49m\u001B[43mdelete_project\u001B[49m\u001B[43m(\u001B[49m\u001B[38;5;124;43m\"\u001B[39;49m\u001B[38;5;124;43mRICSE_prj\u001B[39;49m\u001B[38;5;124;43m\"\u001B[39;49m\u001B[43m,\u001B[49m\u001B[43mdelete_dir\u001B[49m\u001B[38;5;241;43m=\u001B[39;49m\u001B[38;5;28;43;01mTrue\u001B[39;49;00m\u001B[43m)\u001B[49m\n",
      "File \u001B[1;32m~\\anaconda3\\envs\\ricse_bw25\\Lib\\site-packages\\bw2data\\project.py:316\u001B[0m, in \u001B[0;36mProjectManager.delete_project\u001B[1;34m(self, name, delete_dir)\u001B[0m\n\u001B[0;32m    314\u001B[0m victim \u001B[38;5;241m=\u001B[39m name \u001B[38;5;129;01mor\u001B[39;00m \u001B[38;5;28mself\u001B[39m\u001B[38;5;241m.\u001B[39mcurrent\n\u001B[0;32m    315\u001B[0m \u001B[38;5;28;01mif\u001B[39;00m victim \u001B[38;5;129;01mnot\u001B[39;00m \u001B[38;5;129;01min\u001B[39;00m \u001B[38;5;28mself\u001B[39m:\n\u001B[1;32m--> 316\u001B[0m     \u001B[38;5;28;01mraise\u001B[39;00m \u001B[38;5;167;01mValueError\u001B[39;00m(\u001B[38;5;124m\"\u001B[39m\u001B[38;5;132;01m{}\u001B[39;00m\u001B[38;5;124m is not a project\u001B[39m\u001B[38;5;124m\"\u001B[39m\u001B[38;5;241m.\u001B[39mformat(victim))\n\u001B[0;32m    318\u001B[0m \u001B[38;5;28;01mif\u001B[39;00m \u001B[38;5;28mlen\u001B[39m(\u001B[38;5;28mself\u001B[39m) \u001B[38;5;241m==\u001B[39m \u001B[38;5;241m1\u001B[39m:\n\u001B[0;32m    319\u001B[0m     \u001B[38;5;28;01mraise\u001B[39;00m \u001B[38;5;167;01mValueError\u001B[39;00m(\u001B[38;5;124m\"\u001B[39m\u001B[38;5;124mCan\u001B[39m\u001B[38;5;124m'\u001B[39m\u001B[38;5;124mt delete only remaining project\u001B[39m\u001B[38;5;124m\"\u001B[39m)\n",
      "\u001B[1;31mValueError\u001B[0m: RICSE_prj is not a project"
     ]
    }
   ],
   "source": [
    "bd.projects.delete_project(\"RICSE_prj\",delete_dir=True)"
   ],
   "metadata": {
    "collapsed": false,
    "ExecuteTime": {
     "end_time": "2024-11-26T22:16:41.950697100Z",
     "start_time": "2024-11-26T22:16:41.468360900Z"
    }
   },
   "id": "47837f2d-7662-4a1d-8bd0-8d3785eb9a2e"
  },
  {
   "cell_type": "markdown",
   "id": "35f15f85-ac31-458c-a0e0-4c88084d7bdf",
   "metadata": {},
   "source": [
    "You can now come back to the previous lines of code and check that your project has been added to your project list!!"
   ]
  },
  {
   "cell_type": "markdown",
   "id": "413d6215-915f-4c92-a4be-6ad252470894",
   "metadata": {},
   "source": [
    "# 5 Set databases\n",
    "We have just created an empty project. If it is the first time working with it, it does not yet contain any inventory data. If you have worked with it, it will have DBs.\n",
    "\n",
    "More information about databases here: https://docs.brightway.dev/en/latest/content/cheatsheet/databases.html\n",
    "\n",
    "We can check the DBs of our project now:"
   ]
  },
  {
   "cell_type": "code",
   "execution_count": 4,
   "id": "26687521-8df2-41c7-b01f-2367a67aed3e",
   "metadata": {
    "ExecuteTime": {
     "end_time": "2024-11-26T22:27:54.979124800Z",
     "start_time": "2024-11-26T22:27:54.972840500Z"
    }
   },
   "outputs": [
    {
     "data": {
      "text/plain": "Databases dictionary with 1 object(s):\n\tbiosphere3"
     },
     "execution_count": 4,
     "metadata": {},
     "output_type": "execute_result"
    }
   ],
   "source": [
    "bd.databases"
   ]
  },
  {
   "cell_type": "markdown",
   "id": "aeb7af7c-6457-4625-86ed-a2aab51dc667",
   "metadata": {},
   "source": [
    "In case you would like to check the methods in your DB, you can do:"
   ]
  },
  {
   "cell_type": "code",
   "execution_count": null,
   "id": "0770a119-e436-45dc-a973-46d1c512f1c7",
   "metadata": {},
   "outputs": [],
   "source": [
    "sorted(bd.methods)"
   ]
  },
  {
   "cell_type": "markdown",
   "id": "67d0ca25-7699-4c25-866e-422ef5ce9690",
   "metadata": {},
   "source": [
    "## 5.1 Importing Ecoivent\n",
    "\n",
    "Now we import the Ecoinvent data. We will start with the UP data and then upload the LCI data\n",
    "Remember to unzip the file. Then, provide the path to the unzipped folder **datasets** in the code below. \n",
    "\n",
    "You can find more information about data importing here:\n",
    "https://docs.brightway.dev/en/latest/content/cheatsheet/importing.html#\n",
    "\n",
    "We are importing first the Unit Process DB. Even thought we can create foreground processes ourselves, it will come in hando to have the option of using and modifying a process from the UP database.\n",
    "**This process takes about 2 minutes in Cristina's computer**\n"
   ]
  },
  {
   "cell_type": "code",
   "execution_count": 5,
   "id": "141aead9-6f83-46a0-993d-e85e3d3bc29e",
   "metadata": {
    "ExecuteTime": {
     "end_time": "2024-11-26T22:30:59.338601900Z",
     "start_time": "2024-11-26T22:27:58.592555400Z"
    }
   },
   "outputs": [
    {
     "name": "stdout",
     "output_type": "stream",
     "text": [
      "Extracting XML data from 21238 datasets\n",
      "Extracted 21238 datasets in 57.76 seconds\n",
      "Applying strategy: normalize_units\n",
      "Applying strategy: update_ecoinvent_locations\n",
      "Applying strategy: remove_zero_amount_coproducts\n",
      "Applying strategy: remove_zero_amount_inputs_with_no_activity\n",
      "Applying strategy: remove_unnamed_parameters\n",
      "Applying strategy: es2_assign_only_product_with_amount_as_reference_product\n",
      "Applying strategy: assign_single_product_as_activity\n",
      "Applying strategy: create_composite_code\n",
      "Applying strategy: drop_unspecified_subcategories\n",
      "Applying strategy: fix_ecoinvent_flows_pre35\n",
      "Applying strategy: drop_temporary_outdated_biosphere_flows\n",
      "Applying strategy: link_biosphere_by_flow_uuid\n",
      "Applying strategy: link_internal_technosphere_by_composite_code\n",
      "Applying strategy: delete_exchanges_missing_activity\n",
      "Applying strategy: delete_ghost_exchanges\n",
      "Applying strategy: remove_uncertainty_from_negative_loss_exchanges\n",
      "Applying strategy: fix_unreasonably_high_lognormal_uncertainties\n",
      "Applying strategy: convert_activity_parameters_to_list\n",
      "Applying strategy: add_cpc_classification_from_single_reference_product\n",
      "Applying strategy: delete_none_synonyms\n",
      "Applying strategy: update_social_flows_in_older_consequential\n",
      "Applying strategy: set_lognormal_loc_value\n",
      "Applied 22 strategies in 8.17 seconds\n",
      "23:29:04 [warning  ] Not able to determine geocollections for all datasets. This database is not ready for regionalization.\n"
     ]
    },
    {
     "name": "stderr",
     "output_type": "stream",
     "text": [
      "100%|██████████| 21238/21238 [00:51<00:00, 414.02it/s]\n"
     ]
    },
    {
     "name": "stdout",
     "output_type": "stream",
     "text": [
      "23:29:56 [info     ] Vacuuming database            \n",
      "Created database: ei_391_cutoff\n"
     ]
    },
    {
     "data": {
      "text/plain": "Brightway2 SQLiteBackend: ei_391_cutoff"
     },
     "execution_count": 5,
     "metadata": {},
     "output_type": "execute_result"
    }
   ],
   "source": [
    "filedir=r'C:\\Users\\user\\UAB\\LIVENlab - ENBIOSdev - ENBIOSdev\\Ecoinvent_RAW\\ecoinvent391_cutoff_DONOTEDIT\\datasets'\n",
    "importer = bi.SingleOutputEcospold2Importer(\n",
    "    dirpath=filedir,\n",
    "    db_name='ei_391_cutoff'\n",
    ")\n",
    "importer.apply_strategies()\n",
    "importer.write_database()"
   ]
  },
  {
   "cell_type": "code",
   "execution_count": null,
   "id": "ab97b7ff-1924-4076-ad3a-a73a0d657813",
   "metadata": {},
   "outputs": [],
   "source": [
    "#to delete a DB\n",
    "#del bd.databases['<database_name>']"
   ]
  },
  {
   "cell_type": "markdown",
   "id": "63dd8fb3-869f-451e-a93f-9a518eaa34e4",
   "metadata": {},
   "source": [
    "## 5.2 Check the lenght of a database\n",
    "In you are unsure about the proper importing of the ecoinvent DBs, check here."
   ]
  },
  {
   "cell_type": "code",
   "execution_count": 6,
   "id": "8a5e33f6-47c9-49e2-b514-c7ab574bb44b",
   "metadata": {
    "ExecuteTime": {
     "end_time": "2024-11-26T22:32:14.015013200Z",
     "start_time": "2024-11-26T22:32:13.998970800Z"
    }
   },
   "outputs": [
    {
     "name": "stdout",
     "output_type": "stream",
     "text": [
      "The database contains 21238 datasets.\n"
     ]
    }
   ],
   "source": [
    "db = bd.Database('ei_391_cutoff')\n",
    "# Get the length of the database\n",
    "length = len(db)\n",
    "print(f\"The database contains {length} datasets.\")"
   ]
  },
  {
   "cell_type": "markdown",
   "id": "fb7fd60e-2cba-400f-b072-d1a1687ddccb",
   "metadata": {},
   "source": [
    "We can also draw the interactions of the Database. This is how the technosphere links of a database look like:"
   ]
  },
  {
   "cell_type": "code",
   "execution_count": null,
   "id": "6783717e-edbe-49cb-968f-4be7957f37c5",
   "metadata": {},
   "outputs": [],
   "source": [
    "ei = bd.Database('ei_391_cutoff')\n",
    "ei.graph_technosphere()\n"
   ]
  },
  {
   "cell_type": "markdown",
   "source": [
    "## 5.3 Understanding nodes\n",
    "Let's examine what's inside ecoinvent. This is how we search inside any database.\n",
    "\n",
    "You can produce nodes and assign their related exchanges manually. For a cheatsheet: \n",
    "https://docs.brightway.dev/en/latest/content/cheatsheet/inventory.html"
   ],
   "metadata": {
    "collapsed": false
   },
   "id": "e66e56420f67ff6c"
  },
  {
   "cell_type": "code",
   "execution_count": null,
   "outputs": [],
   "source": [
    "bd.Database('ei_391_cutoff').search('electricity production, wind', limit=100)"
   ],
   "metadata": {
    "collapsed": false
   },
   "id": "21dde4c37f072491"
  },
  {
   "cell_type": "markdown",
   "source": [
    "And this is how we isolate a node of the database:"
   ],
   "metadata": {
    "collapsed": false
   },
   "id": "ec7e904ce3260638"
  },
  {
   "cell_type": "code",
   "execution_count": null,
   "outputs": [],
   "source": [
    "mynode = bd.Database('ei_391_cutoff').get(name = 'electricity production, wind, >3MW turbine, onshore', location = 'DE')\n",
    "mynode"
   ],
   "metadata": {
    "collapsed": false
   },
   "id": "fa14771f3e7a314"
  },
  {
   "cell_type": "code",
   "execution_count": null,
   "outputs": [],
   "source": [
    "myrandomnode = bd.Database('ei_391_cutoff').random()\n",
    "myrandomnode"
   ],
   "metadata": {
    "collapsed": false
   },
   "id": "554ec2daf81d9476"
  },
  {
   "cell_type": "markdown",
   "source": [
    "Nodes have the form of complicated structures. You can see the attributes of a node by doing:"
   ],
   "metadata": {
    "collapsed": false
   },
   "id": "9faf4c81225af089"
  },
  {
   "cell_type": "code",
   "execution_count": null,
   "outputs": [],
   "source": [
    "myrandomnode.as_dict()"
   ],
   "metadata": {
    "collapsed": false
   },
   "id": "1e1a21d940719b27"
  },
  {
   "cell_type": "markdown",
   "source": [
    "See how you have a first part with metadata about the scope, the codes and units and other information and then a set of exchanges with their types. We can also see the key f a node formed by the database name and the code of the node."
   ],
   "metadata": {
    "collapsed": false
   },
   "id": "6616c526deeb3d33"
  },
  {
   "cell_type": "code",
   "execution_count": null,
   "outputs": [],
   "source": [
    "myrandomnode.key"
   ],
   "metadata": {
    "collapsed": false
   },
   "id": "dabd91261de8e521"
  },
  {
   "cell_type": "markdown",
   "source": [
    "## 5.4 Understanding edges\n",
    "Edges are the connections between nodes. They can be of different types including:\n",
    "* Technosphere: the inputs to a process\n",
    "* Biosphere: the emissions to the environment or input from the environment\n",
    "* Production: the production of the reference product\n",
    "\n",
    "Let's see the differences between the edges of a node form the UP and the LCI databases.\n",
    "\n",
    "This is how you can see the inputs of a node:"
   ],
   "metadata": {
    "collapsed": false
   },
   "id": "d629cf63a4bd81c6"
  },
  {
   "cell_type": "code",
   "execution_count": null,
   "outputs": [],
   "source": [
    "list(myrandomnode.technosphere()) "
   ],
   "metadata": {
    "collapsed": false
   },
   "id": "68955d0d2c98103b"
  },
  {
   "cell_type": "markdown",
   "source": [
    "This is how you see the products of a node:"
   ],
   "metadata": {
    "collapsed": false
   },
   "id": "5aec9b6b2014361f"
  },
  {
   "cell_type": "code",
   "execution_count": null,
   "outputs": [],
   "source": [
    "list(myrandomnode.production()) "
   ],
   "metadata": {
    "collapsed": false
   },
   "id": "2fee714e4fa6c37a"
  },
  {
   "cell_type": "markdown",
   "source": [
    "This is how you see the exchanges with nature:"
   ],
   "metadata": {
    "collapsed": false
   },
   "id": "e335370de60a994b"
  },
  {
   "cell_type": "code",
   "execution_count": null,
   "outputs": [],
   "source": [
    "list(myrandomnode.biosphere()) "
   ],
   "metadata": {
    "collapsed": false
   },
   "id": "7065920d964e1487"
  },
  {
   "cell_type": "markdown",
   "source": [
    "This is how you see who is consuming the products of the node (Downstream):"
   ],
   "metadata": {
    "collapsed": false
   },
   "id": "26eea333b7ae3ce6"
  },
  {
   "cell_type": "code",
   "execution_count": null,
   "outputs": [],
   "source": [
    "list(myrandomnode.consumers())"
   ],
   "metadata": {
    "collapsed": false
   },
   "id": "4c2349142e473b21"
  },
  {
   "cell_type": "markdown",
   "source": [
    "This is how you change an exchange's attribute:"
   ],
   "metadata": {
    "collapsed": false
   },
   "id": "15c8cccf9a28775"
  },
  {
   "cell_type": "code",
   "execution_count": null,
   "outputs": [],
   "source": [
    "#myrandomnode.exchanges()[0]['amount'] = 2.5"
   ],
   "metadata": {
    "collapsed": false
   },
   "id": "23819524e41099f6"
  },
  {
   "cell_type": "markdown",
   "source": [
    "And you can also save the changes:"
   ],
   "metadata": {
    "collapsed": false
   },
   "id": "4bd7386647399a59"
  },
  {
   "cell_type": "code",
   "execution_count": null,
   "outputs": [],
   "source": [
    "#myrandomnode.save()"
   ],
   "metadata": {
    "collapsed": false
   },
   "id": "3d390944abce7109"
  },
  {
   "cell_type": "markdown",
   "source": [
    "# 6 Producing your own LCA system\n",
    "\n",
    "We will use a simple example to understand how to create a node from scratch and a system with their nodes and edges in BW25. Let's assume that we would like to model the Spanish energy mix and calculate the impacts associated to it. Our scope will include the following inputs to the energy mix:\n",
    "* 40% of wind energy\n",
    "* 30% of photovoltaic energy\n",
    "* 20% of the electricity comes from storage\n",
    "\n",
    "We need to start creating and registering a new empty DB, where we will update our new processes, we will call it **myfg_db**. After we have created it, we can check that it is included in the list of BDs to be sure."
   ],
   "metadata": {
    "collapsed": false
   },
   "id": "950cfced-0867-41c8-a7ce-cb9ea07b5a2c"
  },
  {
   "cell_type": "code",
   "execution_count": 7,
   "id": "ddb861fecc49d93c",
   "metadata": {
    "ExecuteTime": {
     "end_time": "2024-11-26T22:32:35.518771600Z",
     "start_time": "2024-11-26T22:32:35.502226600Z"
    }
   },
   "outputs": [],
   "source": [
    "myfg_db = bd.Database('myfg_db')\n",
    "myfg_db.register()\n"
   ]
  },
  {
   "cell_type": "markdown",
   "source": [
    "We also might want to check that's already in our myfg_db database list:"
   ],
   "metadata": {
    "collapsed": false
   },
   "id": "a4d8cb3b85b3f568"
  },
  {
   "cell_type": "code",
   "execution_count": 8,
   "outputs": [],
   "source": [
    "myfg_db = bd.Database('myfg_db')\n",
    "for activity in myfg_db:\n",
    "    print(f\"Activity: {activity['name']} ({activity['location']})\")"
   ],
   "metadata": {
    "collapsed": false,
    "ExecuteTime": {
     "end_time": "2024-11-26T22:32:39.749373700Z",
     "start_time": "2024-11-26T22:32:39.733388400Z"
    }
   },
   "id": "3ed9adeb0ca76fe2"
  },
  {
   "cell_type": "markdown",
   "source": [
    "Or we might need to delete it:"
   ],
   "metadata": {
    "collapsed": false
   },
   "id": "456a50ed59180622"
  },
  {
   "cell_type": "code",
   "execution_count": null,
   "outputs": [],
   "source": [
    "#del bd.databases['myfg_db']"
   ],
   "metadata": {
    "collapsed": false
   },
   "id": "1bbd08dffadc819"
  },
  {
   "cell_type": "markdown",
   "id": "e7ada0c8-1395-4f51-bbb8-8a40265572f9",
   "metadata": {},
   "source": [
    "## 6.1 Create Activities\n",
    "Now we can create our reference node for the energy mix that we wil name **enermix**. As we saw above a node has many attributes that we need to add, including the name, the code, the categories, the type, the unit and the location of the activity. The code must be unique for each activity.\n"
   ]
  },
  {
   "cell_type": "code",
   "execution_count": 30,
   "id": "8246c58fe6b33043",
   "metadata": {
    "ExecuteTime": {
     "end_time": "2024-11-26T22:36:05.752968800Z",
     "start_time": "2024-11-26T22:36:05.737679800Z"
    }
   },
   "outputs": [],
   "source": [
    "enermix = bd.Database('myfg_db').new_node(\n",
    "    code='energy mix SP ricse', \n",
    "    name=\"Energy Mix Spain RICSE\", \n",
    "    categories=('energy',),\n",
    "    unit='kilowatt hour',\n",
    "    location= 'ES')\n",
    "enermix.save()"
   ]
  },
  {
   "cell_type": "markdown",
   "source": [
    "We can now check the contents of the node"
   ],
   "metadata": {
    "collapsed": false
   },
   "id": "6dc644202bf52676"
  },
  {
   "cell_type": "code",
   "execution_count": 28,
   "outputs": [],
   "source": [
    "for activity in myfg_db:\n",
    "    print(f\"Activity: {activity['name']} ({activity['location']})\")\n",
    "   "
   ],
   "metadata": {
    "collapsed": false,
    "ExecuteTime": {
     "end_time": "2024-11-26T22:36:00.023900300Z",
     "start_time": "2024-11-26T22:36:00.007370700Z"
    }
   },
   "id": "91ff716331743f38"
  },
  {
   "cell_type": "code",
   "execution_count": 31,
   "outputs": [
    {
     "data": {
      "text/plain": "{'database': 'myfg_db',\n 'code': 'energy mix SP ricse',\n 'name': 'Energy Mix Spain RICSE',\n 'categories': ('energy',),\n 'unit': 'kilowatt hour',\n 'location': 'ES',\n 'id': 25948}"
     },
     "execution_count": 31,
     "metadata": {},
     "output_type": "execute_result"
    }
   ],
   "source": [
    "enermix=bd.Database('myfg_db').get('energy mix SP ricse')\n",
    "enermix.as_dict()"
   ],
   "metadata": {
    "collapsed": false,
    "ExecuteTime": {
     "end_time": "2024-11-26T22:36:07.463082800Z",
     "start_time": "2024-11-26T22:36:07.447175100Z"
    }
   },
   "id": "387ac2613079d7d3"
  },
  {
   "cell_type": "markdown",
   "source": [
    "**Project TIP**: You can create any other nodes you need to create manually for your model in the same way.\n",
    "\n",
    "And if you need to delete your node:"
   ],
   "metadata": {
    "collapsed": false
   },
   "id": "1cffe21ff7f8ed5a"
  },
  {
   "cell_type": "code",
   "execution_count": 27,
   "outputs": [],
   "source": [
    "#enermix=bd.Database('myfg_db').get('energy mix SP ricse')\n",
    "#enermix.delete()"
   ],
   "metadata": {
    "collapsed": false,
    "ExecuteTime": {
     "end_time": "2024-11-26T22:35:52.869096500Z",
     "start_time": "2024-11-26T22:35:52.843929600Z"
    }
   },
   "id": "651e90577a669443"
  },
  {
   "cell_type": "markdown",
   "source": [
    "## 6.2 Create exchanges\n",
    "We are now going to add the inputs of wind, photovoltaics and battery provided electricity in our mix using nodes from the ecoinvent database.\n",
    "\n",
    "As there are many processes with the same name and different location of with different technologies, we want to make sure we add the exact process we need. We are using this search engine to define our three nodes and also start by adding from the UP database, for the moment.\n",
    "\n",
    "You can use the facet parameter to filter the search results. For example, if you want to search for a process in a specific location, you can use the location facet."
   ],
   "metadata": {
    "collapsed": false
   },
   "id": "9b3192e136bee410"
  },
  {
   "cell_type": "code",
   "execution_count": null,
   "outputs": [],
   "source": [
    "bd.Database('ei_391_cutoff').search('battery', limit=100, facet='location')"
   ],
   "metadata": {
    "collapsed": false
   },
   "id": "91d3a033523d7376"
  },
  {
   "cell_type": "code",
   "execution_count": 32,
   "outputs": [
    {
     "data": {
      "text/plain": "'battery production, lead acid, rechargeable, stationary' (kilogram, US, None)"
     },
     "execution_count": 32,
     "metadata": {},
     "output_type": "execute_result"
    }
   ],
   "source": [
    "windup = bd.Database('ei_391_cutoff').get(name = 'electricity production, wind, 1-3MW turbine, onshore', location = 'ES')\n",
    "PVup = bd.Database('ei_391_cutoff').get(name = 'electricity production, photovoltaic, 3kWp slanted-roof installation, single-Si, panel, mounted', location = 'ES')\n",
    "batteryup = bd.Database('ei_391_cutoff').get (name = 'battery production, lead acid, rechargeable, stationary', location = 'US')\n",
    "batteryup"
   ],
   "metadata": {
    "collapsed": false,
    "ExecuteTime": {
     "end_time": "2024-11-26T22:36:39.136009Z",
     "start_time": "2024-11-26T22:36:38.806235500Z"
    }
   },
   "id": "babc56ff25790c52"
  },
  {
   "cell_type": "markdown",
   "source": [
    "Note that the batteries in ecoinvent are given in KG. This means that in order for us to include electricity frm battery we have to include the conversion factor from KG to KWh. A typical value for the energy density of a battery is 0.1 KWh/Kg. and in each cycle it produces.\n",
    "\n",
    "Remember that we are modelling for 1 Kwh of electricity produced by the energymix activity."
   ],
   "metadata": {
    "collapsed": false
   },
   "id": "e49d1913f6334794"
  },
  {
   "cell_type": "code",
   "execution_count": 33,
   "outputs": [],
   "source": [
    "prodedge = enermix.new_edge(\n",
    "    amount=1, \n",
    "    type='production',\n",
    "    input= enermix)\n",
    "prodedge.save()\n",
    "windedge = enermix.new_edge(\n",
    "    amount=0.4, \n",
    "    code = 'windup',    \n",
    "    type='technosphere',\n",
    "    input= windup)\n",
    "windedge.save()\n",
    "\n",
    "PVedge = enermix.new_edge(\n",
    "    amount=0.3, \n",
    "    code = 'PVup',    \n",
    "    type='technosphere',\n",
    "    input= PVup) \n",
    "PVedge.save()\n",
    "\n",
    "batterydensity_kgkwh= 0.1\n",
    "Batedge =enermix.new_edge(\n",
    "    amount=0.2/batterydensity_kgkwh, \n",
    "    code = 'battup',    \n",
    "    type='technosphere',\n",
    "    input= batteryup)\n",
    "Batedge.save()"
   ],
   "metadata": {
    "collapsed": false,
    "ExecuteTime": {
     "end_time": "2024-11-26T22:36:43.018462100Z",
     "start_time": "2024-11-26T22:36:42.974684Z"
    }
   },
   "id": "31ebd8c4-c9d0-4789-b90f-11150e41e87a"
  },
  {
   "cell_type": "markdown",
   "source": [
    "We can now check the exchanges of the node:"
   ],
   "metadata": {
    "collapsed": false
   },
   "id": "3fa1ecc0d99ecf7f"
  },
  {
   "cell_type": "code",
   "execution_count": 34,
   "outputs": [
    {
     "data": {
      "text/plain": "[Exchange: 0.4 kilowatt hour 'electricity production, wind, 1-3MW turbine, onshore' (kilowatt hour, ES, None) to 'Energy Mix Spain RICSE' (kilowatt hour, ES, ('energy',))>,\n Exchange: 0.3 kilowatt hour 'electricity production, photovoltaic, 3kWp slanted-roof installation, single-Si, panel, mounted' (kilowatt hour, ES, None) to 'Energy Mix Spain RICSE' (kilowatt hour, ES, ('energy',))>,\n Exchange: 2.0 kilogram 'battery production, lead acid, rechargeable, stationary' (kilogram, US, None) to 'Energy Mix Spain RICSE' (kilowatt hour, ES, ('energy',))>]"
     },
     "execution_count": 34,
     "metadata": {},
     "output_type": "execute_result"
    }
   ],
   "source": [
    "list(enermix.technosphere()) "
   ],
   "metadata": {
    "collapsed": false,
    "ExecuteTime": {
     "end_time": "2024-11-26T22:36:48.765414Z",
     "start_time": "2024-11-26T22:36:48.743210700Z"
    }
   },
   "id": "9ce11d75675485bc"
  },
  {
   "cell_type": "markdown",
   "source": [],
   "metadata": {
    "collapsed": false
   },
   "id": "b5bfe9f80c0ee28f"
  },
  {
   "cell_type": "markdown",
   "source": [
    "Of the flows going to or coming from the environment:"
   ],
   "metadata": {
    "collapsed": false
   },
   "id": "e53164d5b94fd733"
  },
  {
   "cell_type": "code",
   "execution_count": 15,
   "outputs": [
    {
     "data": {
      "text/plain": "[]"
     },
     "execution_count": 15,
     "metadata": {},
     "output_type": "execute_result"
    }
   ],
   "source": [
    "list(enermix.biosphere())"
   ],
   "metadata": {
    "collapsed": false,
    "ExecuteTime": {
     "end_time": "2024-11-26T22:33:08.900314200Z",
     "start_time": "2024-11-26T22:33:08.883478600Z"
    }
   },
   "id": "d9fb81e80c7533e8"
  },
  {
   "cell_type": "markdown",
   "source": [
    "If you need to delete exchanges: "
   ],
   "metadata": {
    "collapsed": false
   },
   "id": "52e378c07c1b7c5c"
  },
  {
   "cell_type": "code",
   "execution_count": null,
   "outputs": [],
   "source": [
    "#my_edge = enermix.exchanges(name = )\n",
    "#my_edge.delete()"
   ],
   "metadata": {
    "collapsed": false
   },
   "id": "91ee85e06f4a3ed2"
  },
  {
   "cell_type": "markdown",
   "id": "b14df34b-b85e-4dee-b685-454fdb5135aa",
   "metadata": {},
   "source": [
    "# 7 Inventory and  Impact Assessment\n",
    "\n",
    "In BW25 there is a function to calculate LCIA results for a single functional unit and a single method. This is the `LCA` class. However the interesting result of a LCA is usually the contribution and comparison of results for different methods, indicators and functional units. This is done with the `MultiLCA` class."
   ]
  },
  {
   "cell_type": "markdown",
   "source": [
    "## 7.1 Examining LCIA methods\n",
    "Let's first examine again the methods you have in your project: "
   ],
   "metadata": {
    "collapsed": false
   },
   "id": "498f9cceb41937a2"
  },
  {
   "cell_type": "code",
   "execution_count": 25,
   "outputs": [
    {
     "data": {
      "text/plain": "[('CML v4.8 2016',\n  'acidification',\n  'acidification (incl. fate, average Europe total, A&B)'),\n ('CML v4.8 2016', 'climate change', 'global warming potential (GWP100)'),\n ('CML v4.8 2016',\n  'ecotoxicity: freshwater',\n  'freshwater aquatic ecotoxicity (FAETP inf)'),\n ('CML v4.8 2016',\n  'ecotoxicity: marine',\n  'marine aquatic ecotoxicity (MAETP inf)'),\n ('CML v4.8 2016',\n  'ecotoxicity: terrestrial',\n  'terrestrial ecotoxicity (TETP inf)'),\n ('CML v4.8 2016',\n  'energy resources: non-renewable',\n  'abiotic depletion potential (ADP): fossil fuels'),\n ('CML v4.8 2016', 'eutrophication', 'eutrophication (fate not incl.)'),\n ('CML v4.8 2016', 'human toxicity', 'human toxicity (HTP inf)'),\n ('CML v4.8 2016',\n  'material resources: metals/minerals',\n  'abiotic depletion potential (ADP): elements (ultimate reserves)'),\n ('CML v4.8 2016',\n  'ozone depletion',\n  'ozone layer depletion (ODP steady state)'),\n ('CML v4.8 2016',\n  'photochemical oxidant formation',\n  'photochemical oxidation (high NOx)'),\n ('CML v4.8 2016 no LT',\n  'acidification no LT',\n  'acidification (incl. fate, average Europe total, A&B) no LT'),\n ('CML v4.8 2016 no LT',\n  'climate change no LT',\n  'global warming potential (GWP100) no LT'),\n ('CML v4.8 2016 no LT',\n  'ecotoxicity: freshwater no LT',\n  'freshwater aquatic ecotoxicity (FAETP inf) no LT'),\n ('CML v4.8 2016 no LT',\n  'ecotoxicity: marine no LT',\n  'marine aquatic ecotoxicity (MAETP inf) no LT'),\n ('CML v4.8 2016 no LT',\n  'ecotoxicity: terrestrial no LT',\n  'terrestrial ecotoxicity (TETP inf) no LT'),\n ('CML v4.8 2016 no LT',\n  'energy resources: non-renewable no LT',\n  'abiotic depletion potential (ADP): fossil fuels no LT'),\n ('CML v4.8 2016 no LT',\n  'eutrophication no LT',\n  'eutrophication (fate not incl.) no LT'),\n ('CML v4.8 2016 no LT',\n  'human toxicity no LT',\n  'human toxicity (HTP inf) no LT'),\n ('CML v4.8 2016 no LT',\n  'material resources: metals/minerals no LT',\n  'abiotic depletion potential (ADP): elements (ultimate reserves) no LT'),\n ('CML v4.8 2016 no LT',\n  'ozone depletion no LT',\n  'ozone layer depletion (ODP steady state) no LT'),\n ('CML v4.8 2016 no LT',\n  'photochemical oxidant formation no LT',\n  'photochemical oxidation (high NOx) no LT'),\n ('Crustal Scarcity Indicator 2020',\n  'material resources: metals/minerals',\n  'crustal scarcity potential (CSP)'),\n ('Cumulative Energy Demand (CED)',\n  'energy resources: non-renewable',\n  'energy content (HHV)'),\n ('Cumulative Energy Demand (CED)',\n  'energy resources: non-renewable, biomass',\n  'energy content (HHV)'),\n ('Cumulative Energy Demand (CED)',\n  'energy resources: non-renewable, fossil',\n  'energy content (HHV)'),\n ('Cumulative Energy Demand (CED)',\n  'energy resources: non-renewable, nuclear',\n  'energy content (HHV)'),\n ('Cumulative Energy Demand (CED)',\n  'energy resources: renewable',\n  'energy content (HHV)'),\n ('Cumulative Energy Demand (CED)',\n  'energy resources: renewable, biomass',\n  'energy content (HHV)'),\n ('Cumulative Energy Demand (CED)',\n  'energy resources: renewable, geothermal',\n  'energy content (HHV)'),\n ('Cumulative Energy Demand (CED)',\n  'energy resources: renewable, geothermal, solar, wind',\n  'energy content (HHV)'),\n ('Cumulative Energy Demand (CED)',\n  'energy resources: renewable, solar',\n  'energy content (HHV)'),\n ('Cumulative Energy Demand (CED)',\n  'energy resources: renewable, water',\n  'energy content (HHV)'),\n ('Cumulative Energy Demand (CED)',\n  'energy resources: renewable, wind',\n  'energy content (HHV)'),\n ('Cumulative Energy Demand (CED)', 'total', 'energy content (HHV)'),\n ('Cumulative Exergy Demand (CExD)',\n  'energy resources: non-renewable',\n  'exergy content'),\n ('Cumulative Exergy Demand (CExD)',\n  'energy resources: non-renewable, biomass',\n  'exergy content'),\n ('Cumulative Exergy Demand (CExD)',\n  'energy resources: non-renewable, fossil',\n  'exergy content'),\n ('Cumulative Exergy Demand (CExD)',\n  'energy resources: non-renewable, nuclear',\n  'exergy content'),\n ('Cumulative Exergy Demand (CExD)',\n  'energy resources: renewable',\n  'exergy content'),\n ('Cumulative Exergy Demand (CExD)',\n  'energy resources: renewable, biomass',\n  'exergy content'),\n ('Cumulative Exergy Demand (CExD)',\n  'energy resources: renewable, solar',\n  'exergy content'),\n ('Cumulative Exergy Demand (CExD)',\n  'energy resources: renewable, water',\n  'exergy content'),\n ('Cumulative Exergy Demand (CExD)',\n  'energy resources: renewable, wind',\n  'exergy content'),\n ('Cumulative Exergy Demand (CExD)', 'material resources', 'exergy content'),\n ('Cumulative Exergy Demand (CExD)',\n  'material resources: metals',\n  'exergy content'),\n ('Cumulative Exergy Demand (CExD)',\n  'material resources: minerals',\n  'exergy content'),\n ('Cumulative Exergy Demand (CExD)',\n  'material resources: water',\n  'exergy content'),\n ('Cumulative Exergy Demand (CExD)', 'total', 'exergy content'),\n ('EDIP 2003', 'acidification', 'acidification'),\n ('EDIP 2003', 'ecotoxicity', 'acute, in water'),\n ('EDIP 2003', 'ecotoxicity', 'chronic, in soil'),\n ('EDIP 2003', 'ecotoxicity', 'chronic, in water'),\n ('EDIP 2003', 'ecotoxicity', 'in sewage treatment plants'),\n ('EDIP 2003', 'eutrophication', 'combined potential'),\n ('EDIP 2003', 'eutrophication', 'separate N potential'),\n ('EDIP 2003', 'eutrophication', 'separate P potential'),\n ('EDIP 2003', 'eutrophication', 'terrestrial eutrophication'),\n ('EDIP 2003', 'global warming', 'GWP 100a'),\n ('EDIP 2003', 'global warming', 'GWP 20a'),\n ('EDIP 2003', 'global warming', 'GWP 500a'),\n ('EDIP 2003', 'human toxicity', 'via air'),\n ('EDIP 2003', 'human toxicity', 'via soil'),\n ('EDIP 2003', 'human toxicity', 'via surface water'),\n ('EDIP 2003', 'land filling', 'bulk waste'),\n ('EDIP 2003', 'land filling', 'hazardous waste'),\n ('EDIP 2003', 'land filling', 'radioactive waste'),\n ('EDIP 2003', 'land filling', 'slag and ashes'),\n ('EDIP 2003', 'non-renewable resources', 'aluminium'),\n ('EDIP 2003', 'non-renewable resources', 'antimony'),\n ('EDIP 2003', 'non-renewable resources', 'brown coal'),\n ('EDIP 2003', 'non-renewable resources', 'cadmium'),\n ('EDIP 2003', 'non-renewable resources', 'cerium'),\n ('EDIP 2003', 'non-renewable resources', 'coal'),\n ('EDIP 2003', 'non-renewable resources', 'cobalt'),\n ('EDIP 2003', 'non-renewable resources', 'copper'),\n ('EDIP 2003', 'non-renewable resources', 'gold'),\n ('EDIP 2003', 'non-renewable resources', 'iron'),\n ('EDIP 2003', 'non-renewable resources', 'lanthanum'),\n ('EDIP 2003', 'non-renewable resources', 'lead'),\n ('EDIP 2003', 'non-renewable resources', 'manganese'),\n ('EDIP 2003', 'non-renewable resources', 'mercury'),\n ('EDIP 2003', 'non-renewable resources', 'molybdenum'),\n ('EDIP 2003', 'non-renewable resources', 'natural gas'),\n ('EDIP 2003', 'non-renewable resources', 'nickel'),\n ('EDIP 2003', 'non-renewable resources', 'oil'),\n ('EDIP 2003', 'non-renewable resources', 'palladium'),\n ('EDIP 2003', 'non-renewable resources', 'platinum'),\n ('EDIP 2003', 'non-renewable resources', 'silver'),\n ('EDIP 2003', 'non-renewable resources', 'tantalum'),\n ('EDIP 2003', 'non-renewable resources', 'tin'),\n ('EDIP 2003', 'non-renewable resources', 'zinc'),\n ('EDIP 2003', 'photochemical ozone formation', 'impacts on human health'),\n ('EDIP 2003', 'photochemical ozone formation', 'impacts on vegetation'),\n ('EDIP 2003', 'renewable resources', 'wood'),\n ('EDIP 2003', 'stratospheric ozone depletion', 'ODP total'),\n ('EDIP 2003 no LT', 'acidification no LT', 'acidification no LT'),\n ('EDIP 2003 no LT', 'ecotoxicity no LT', 'acute, in water no LT'),\n ('EDIP 2003 no LT', 'ecotoxicity no LT', 'chronic, in soil no LT'),\n ('EDIP 2003 no LT', 'ecotoxicity no LT', 'chronic, in water no LT'),\n ('EDIP 2003 no LT', 'ecotoxicity no LT', 'in sewage treatment plants no LT'),\n ('EDIP 2003 no LT', 'eutrophication no LT', 'combined potential no LT'),\n ('EDIP 2003 no LT', 'eutrophication no LT', 'separate N potential no LT'),\n ('EDIP 2003 no LT', 'eutrophication no LT', 'separate P potential no LT'),\n ('EDIP 2003 no LT',\n  'eutrophication no LT',\n  'terrestrial eutrophication no LT'),\n ('EDIP 2003 no LT', 'global warming no LT', 'GWP 100a no LT'),\n ('EDIP 2003 no LT', 'global warming no LT', 'GWP 20a no LT'),\n ('EDIP 2003 no LT', 'global warming no LT', 'GWP 500a no LT'),\n ('EDIP 2003 no LT', 'human toxicity no LT', 'via air no LT'),\n ('EDIP 2003 no LT', 'human toxicity no LT', 'via soil no LT'),\n ('EDIP 2003 no LT', 'human toxicity no LT', 'via surface water no LT'),\n ('EDIP 2003 no LT', 'land filling no LT', 'bulk waste no LT'),\n ('EDIP 2003 no LT', 'land filling no LT', 'hazardous waste no LT'),\n ('EDIP 2003 no LT', 'land filling no LT', 'radioactive waste no LT'),\n ('EDIP 2003 no LT', 'land filling no LT', 'slag and ashes no LT'),\n ('EDIP 2003 no LT', 'non-renewable resources no LT', 'aluminium no LT'),\n ('EDIP 2003 no LT', 'non-renewable resources no LT', 'antimony no LT'),\n ('EDIP 2003 no LT', 'non-renewable resources no LT', 'brown coal no LT'),\n ('EDIP 2003 no LT', 'non-renewable resources no LT', 'cadmium no LT'),\n ('EDIP 2003 no LT', 'non-renewable resources no LT', 'cerium no LT'),\n ('EDIP 2003 no LT', 'non-renewable resources no LT', 'coal no LT'),\n ('EDIP 2003 no LT', 'non-renewable resources no LT', 'cobalt no LT'),\n ('EDIP 2003 no LT', 'non-renewable resources no LT', 'copper no LT'),\n ('EDIP 2003 no LT', 'non-renewable resources no LT', 'gold no LT'),\n ('EDIP 2003 no LT', 'non-renewable resources no LT', 'iron no LT'),\n ('EDIP 2003 no LT', 'non-renewable resources no LT', 'lanthanum no LT'),\n ('EDIP 2003 no LT', 'non-renewable resources no LT', 'lead no LT'),\n ('EDIP 2003 no LT', 'non-renewable resources no LT', 'manganese no LT'),\n ('EDIP 2003 no LT', 'non-renewable resources no LT', 'mercury no LT'),\n ('EDIP 2003 no LT', 'non-renewable resources no LT', 'molybdenum no LT'),\n ('EDIP 2003 no LT', 'non-renewable resources no LT', 'natural gas no LT'),\n ('EDIP 2003 no LT', 'non-renewable resources no LT', 'nickel no LT'),\n ('EDIP 2003 no LT', 'non-renewable resources no LT', 'oil no LT'),\n ('EDIP 2003 no LT', 'non-renewable resources no LT', 'palladium no LT'),\n ('EDIP 2003 no LT', 'non-renewable resources no LT', 'platinum no LT'),\n ('EDIP 2003 no LT', 'non-renewable resources no LT', 'silver no LT'),\n ('EDIP 2003 no LT', 'non-renewable resources no LT', 'tantalum no LT'),\n ('EDIP 2003 no LT', 'non-renewable resources no LT', 'tin no LT'),\n ('EDIP 2003 no LT', 'non-renewable resources no LT', 'zinc no LT'),\n ('EDIP 2003 no LT',\n  'photochemical ozone formation no LT',\n  'impacts on human health no LT'),\n ('EDIP 2003 no LT',\n  'photochemical ozone formation no LT',\n  'impacts on vegetation no LT'),\n ('EDIP 2003 no LT', 'renewable resources no LT', 'wood no LT'),\n ('EDIP 2003 no LT', 'stratospheric ozone depletion no LT', 'ODP total no LT'),\n ('EF v3.0', 'acidification', 'accumulated exceedance (AE)'),\n ('EF v3.0', 'climate change', 'global warming potential (GWP100)'),\n ('EF v3.0', 'climate change: biogenic', 'global warming potential (GWP100)'),\n ('EF v3.0', 'climate change: fossil', 'global warming potential (GWP100)'),\n ('EF v3.0',\n  'climate change: land use and land use change',\n  'global warming potential (GWP100)'),\n ('EF v3.0',\n  'ecotoxicity: freshwater',\n  'comparative toxic unit for ecosystems (CTUe)'),\n ('EF v3.0',\n  'ecotoxicity: freshwater, inorganics',\n  'comparative toxic unit for ecosystems (CTUe)'),\n ('EF v3.0',\n  'ecotoxicity: freshwater, metals',\n  'comparative toxic unit for ecosystems (CTUe)'),\n ('EF v3.0',\n  'ecotoxicity: freshwater, organics',\n  'comparative toxic unit for ecosystems (CTUe)'),\n ('EF v3.0',\n  'energy resources: non-renewable',\n  'abiotic depletion potential (ADP): fossil fuels'),\n ('EF v3.0',\n  'eutrophication: freshwater',\n  'fraction of nutrients reaching freshwater end compartment (P)'),\n ('EF v3.0',\n  'eutrophication: marine',\n  'fraction of nutrients reaching marine end compartment (N)'),\n ('EF v3.0', 'eutrophication: terrestrial', 'accumulated exceedance (AE)'),\n ('EF v3.0',\n  'human toxicity: carcinogenic',\n  'comparative toxic unit for human (CTUh)'),\n ('EF v3.0',\n  'human toxicity: carcinogenic, inorganics',\n  'comparative toxic unit for human (CTUh)'),\n ('EF v3.0',\n  'human toxicity: carcinogenic, metals',\n  'comparative toxic unit for human (CTUh)'),\n ('EF v3.0',\n  'human toxicity: carcinogenic, organics',\n  'comparative toxic unit for human (CTUh)'),\n ('EF v3.0',\n  'human toxicity: non-carcinogenic',\n  'comparative toxic unit for human (CTUh)'),\n ('EF v3.0',\n  'human toxicity: non-carcinogenic, inorganics',\n  'comparative toxic unit for human (CTUh)'),\n ('EF v3.0',\n  'human toxicity: non-carcinogenic, metals',\n  'comparative toxic unit for human (CTUh)'),\n ('EF v3.0',\n  'human toxicity: non-carcinogenic, organics',\n  'comparative toxic unit for human (CTUh)'),\n ('EF v3.0',\n  'ionising radiation: human health',\n  'human exposure efficiency relative to u235'),\n ('EF v3.0', 'land use', 'soil quality index'),\n ('EF v3.0',\n  'material resources: metals/minerals',\n  'abiotic depletion potential (ADP): elements (ultimate reserves)'),\n ('EF v3.0', 'ozone depletion', 'ozone depletion potential (ODP)'),\n ('EF v3.0', 'particulate matter formation', 'impact on human health'),\n ('EF v3.0',\n  'photochemical oxidant formation: human health',\n  'tropospheric ozone concentration increase'),\n ('EF v3.0',\n  'water use',\n  'user deprivation potential (deprivation-weighted water consumption)'),\n ('EF v3.0 EN15804', 'acidification', 'accumulated exceedance (AE)'),\n ('EF v3.0 EN15804', 'climate change', 'global warming potential (GWP100)'),\n ('EF v3.0 EN15804',\n  'climate change: biogenic',\n  'global warming potential (GWP100)'),\n ('EF v3.0 EN15804',\n  'climate change: fossil',\n  'global warming potential (GWP100)'),\n ('EF v3.0 EN15804',\n  'climate change: land use and land use change',\n  'global warming potential (GWP100)'),\n ('EF v3.0 EN15804',\n  'ecotoxicity: freshwater',\n  'comparative toxic unit for ecosystems (CTUe)'),\n ('EF v3.0 EN15804',\n  'energy resources: non-renewable',\n  'abiotic depletion potential (ADP): fossil fuels'),\n ('EF v3.0 EN15804',\n  'eutrophication: freshwater',\n  'fraction of nutrients reaching freshwater end compartment (P)'),\n ('EF v3.0 EN15804',\n  'eutrophication: marine',\n  'fraction of nutrients reaching marine end compartment (N)'),\n ('EF v3.0 EN15804',\n  'eutrophication: terrestrial',\n  'accumulated exceedance (AE)'),\n ('EF v3.0 EN15804',\n  'human toxicity: carcinogenic',\n  'comparative toxic unit for human (CTUh)'),\n ('EF v3.0 EN15804',\n  'human toxicity: non-carcinogenic',\n  'comparative toxic unit for human (CTUh)'),\n ('EF v3.0 EN15804',\n  'ionising radiation: human health',\n  'human exposure efficiency relative to u235'),\n ('EF v3.0 EN15804', 'land use', 'soil quality index'),\n ('EF v3.0 EN15804',\n  'material resources: metals/minerals',\n  'abiotic depletion potential (ADP): elements (ultimate reserves)'),\n ('EF v3.0 EN15804', 'ozone depletion', 'ozone depletion potential (ODP)'),\n ('EF v3.0 EN15804', 'particulate matter formation', 'impact on human health'),\n ('EF v3.0 EN15804',\n  'photochemical oxidant formation: human health',\n  'tropospheric ozone concentration increase'),\n ('EF v3.0 EN15804',\n  'water use',\n  'user deprivation potential (deprivation-weighted water consumption)'),\n ('EF v3.0 no LT', 'acidification no LT', 'accumulated exceedance (AE) no LT'),\n ('EF v3.0 no LT',\n  'climate change no LT',\n  'global warming potential (GWP100) no LT'),\n ('EF v3.0 no LT',\n  'climate change: biogenic no LT',\n  'global warming potential (GWP100) no LT'),\n ('EF v3.0 no LT',\n  'climate change: fossil no LT',\n  'global warming potential (GWP100) no LT'),\n ('EF v3.0 no LT',\n  'climate change: land use and land use change no LT',\n  'global warming potential (GWP100) no LT'),\n ('EF v3.0 no LT',\n  'ecotoxicity: freshwater no LT',\n  'comparative toxic unit for ecosystems (CTUe) no LT'),\n ('EF v3.0 no LT',\n  'ecotoxicity: freshwater, inorganics no LT',\n  'comparative toxic unit for ecosystems (CTUe) no LT'),\n ('EF v3.0 no LT',\n  'ecotoxicity: freshwater, metals no LT',\n  'comparative toxic unit for ecosystems (CTUe) no LT'),\n ('EF v3.0 no LT',\n  'ecotoxicity: freshwater, organics no LT',\n  'comparative toxic unit for ecosystems (CTUe) no LT'),\n ('EF v3.0 no LT',\n  'energy resources: non-renewable no LT',\n  'abiotic depletion potential (ADP): fossil fuels no LT'),\n ('EF v3.0 no LT',\n  'eutrophication: freshwater no LT',\n  'fraction of nutrients reaching freshwater end compartment (P) no LT'),\n ('EF v3.0 no LT',\n  'eutrophication: marine no LT',\n  'fraction of nutrients reaching marine end compartment (N) no LT'),\n ('EF v3.0 no LT',\n  'eutrophication: terrestrial no LT',\n  'accumulated exceedance (AE) no LT'),\n ('EF v3.0 no LT',\n  'human toxicity: carcinogenic no LT',\n  'comparative toxic unit for human (CTUh) no LT'),\n ('EF v3.0 no LT',\n  'human toxicity: carcinogenic, inorganics no LT',\n  'comparative toxic unit for human (CTUh) no LT'),\n ('EF v3.0 no LT',\n  'human toxicity: carcinogenic, metals no LT',\n  'comparative toxic unit for human (CTUh) no LT'),\n ('EF v3.0 no LT',\n  'human toxicity: carcinogenic, organics no LT',\n  'comparative toxic unit for human (CTUh) no LT'),\n ('EF v3.0 no LT',\n  'human toxicity: non-carcinogenic no LT',\n  'comparative toxic unit for human (CTUh) no LT'),\n ('EF v3.0 no LT',\n  'human toxicity: non-carcinogenic, inorganics no LT',\n  'comparative toxic unit for human (CTUh) no LT'),\n ('EF v3.0 no LT',\n  'human toxicity: non-carcinogenic, metals no LT',\n  'comparative toxic unit for human (CTUh) no LT'),\n ('EF v3.0 no LT',\n  'human toxicity: non-carcinogenic, organics no LT',\n  'comparative toxic unit for human (CTUh) no LT'),\n ('EF v3.0 no LT',\n  'ionising radiation: human health no LT',\n  'human exposure efficiency relative to u235 no LT'),\n ('EF v3.0 no LT', 'land use no LT', 'soil quality index no LT'),\n ('EF v3.0 no LT',\n  'material resources: metals/minerals no LT',\n  'abiotic depletion potential (ADP): elements (ultimate reserves) no LT'),\n ('EF v3.0 no LT',\n  'ozone depletion no LT',\n  'ozone depletion potential (ODP) no LT'),\n ('EF v3.0 no LT',\n  'particulate matter formation no LT',\n  'impact on human health no LT'),\n ('EF v3.0 no LT',\n  'photochemical oxidant formation: human health no LT',\n  'tropospheric ozone concentration increase no LT'),\n ('EF v3.0 no LT',\n  'water use no LT',\n  'user deprivation potential (deprivation-weighted water consumption) no LT'),\n ('EF v3.1', 'acidification', 'accumulated exceedance (AE)'),\n ('EF v3.1', 'climate change', 'global warming potential (GWP100)'),\n ('EF v3.1', 'climate change: biogenic', 'global warming potential (GWP100)'),\n ('EF v3.1', 'climate change: fossil', 'global warming potential (GWP100)'),\n ('EF v3.1',\n  'climate change: land use and land use change',\n  'global warming potential (GWP100)'),\n ('EF v3.1',\n  'ecotoxicity: freshwater',\n  'comparative toxic unit for ecosystems (CTUe)'),\n ('EF v3.1',\n  'ecotoxicity: freshwater, inorganics',\n  'comparative toxic unit for ecosystems (CTUe)'),\n ('EF v3.1',\n  'ecotoxicity: freshwater, organics',\n  'comparative toxic unit for ecosystems (CTUe)'),\n ('EF v3.1',\n  'energy resources: non-renewable',\n  'abiotic depletion potential (ADP): fossil fuels'),\n ('EF v3.1',\n  'eutrophication: freshwater',\n  'fraction of nutrients reaching freshwater end compartment (P)'),\n ('EF v3.1',\n  'eutrophication: marine',\n  'fraction of nutrients reaching marine end compartment (N)'),\n ('EF v3.1', 'eutrophication: terrestrial', 'accumulated exceedance (AE)'),\n ('EF v3.1',\n  'human toxicity: carcinogenic',\n  'comparative toxic unit for human (CTUh)'),\n ('EF v3.1',\n  'human toxicity: carcinogenic, inorganics',\n  'comparative toxic unit for human (CTUh)'),\n ('EF v3.1',\n  'human toxicity: carcinogenic, organics',\n  'comparative toxic unit for human (CTUh)'),\n ('EF v3.1',\n  'human toxicity: non-carcinogenic',\n  'comparative toxic unit for human (CTUh)'),\n ('EF v3.1',\n  'human toxicity: non-carcinogenic, inorganics',\n  'comparative toxic unit for human (CTUh)'),\n ('EF v3.1',\n  'human toxicity: non-carcinogenic, organics',\n  'comparative toxic unit for human (CTUh)'),\n ('EF v3.1',\n  'ionising radiation: human health',\n  'human exposure efficiency relative to u235'),\n ('EF v3.1', 'land use', 'soil quality index'),\n ('EF v3.1',\n  'material resources: metals/minerals',\n  'abiotic depletion potential (ADP): elements (ultimate reserves)'),\n ('EF v3.1', 'ozone depletion', 'ozone depletion potential (ODP)'),\n ('EF v3.1', 'particulate matter formation', 'impact on human health'),\n ('EF v3.1',\n  'photochemical oxidant formation: human health',\n  'tropospheric ozone concentration increase'),\n ('EF v3.1',\n  'water use',\n  'user deprivation potential (deprivation-weighted water consumption)'),\n ('EF v3.1 EN15804', 'acidification', 'accumulated exceedance (AE)'),\n ('EF v3.1 EN15804', 'climate change', 'global warming potential (GWP100)'),\n ('EF v3.1 EN15804',\n  'climate change: biogenic',\n  'global warming potential (GWP100)'),\n ('EF v3.1 EN15804',\n  'climate change: fossil',\n  'global warming potential (GWP100)'),\n ('EF v3.1 EN15804',\n  'climate change: land use and land use change',\n  'global warming potential (GWP100)'),\n ('EF v3.1 EN15804',\n  'ecotoxicity: freshwater',\n  'comparative toxic unit for ecosystems (CTUe)'),\n ('EF v3.1 EN15804',\n  'energy resources: non-renewable',\n  'abiotic depletion potential (ADP): fossil fuels'),\n ('EF v3.1 EN15804',\n  'eutrophication: freshwater',\n  'fraction of nutrients reaching freshwater end compartment (P)'),\n ('EF v3.1 EN15804',\n  'eutrophication: marine',\n  'fraction of nutrients reaching marine end compartment (N)'),\n ('EF v3.1 EN15804',\n  'eutrophication: terrestrial',\n  'accumulated exceedance (AE)'),\n ('EF v3.1 EN15804',\n  'human toxicity: carcinogenic',\n  'comparative toxic unit for human (CTUh)'),\n ('EF v3.1 EN15804',\n  'human toxicity: non-carcinogenic',\n  'comparative toxic unit for human (CTUh)'),\n ('EF v3.1 EN15804',\n  'ionising radiation: human health',\n  'human exposure efficiency relative to u235'),\n ('EF v3.1 EN15804', 'land use', 'soil quality index'),\n ('EF v3.1 EN15804',\n  'material resources: metals/minerals',\n  'abiotic depletion potential (ADP): elements (ultimate reserves)'),\n ('EF v3.1 EN15804', 'ozone depletion', 'ozone depletion potential (ODP)'),\n ('EF v3.1 EN15804', 'particulate matter formation', 'impact on human health'),\n ('EF v3.1 EN15804',\n  'photochemical oxidant formation: human health',\n  'tropospheric ozone concentration increase'),\n ('EF v3.1 EN15804',\n  'water use',\n  'user deprivation potential (deprivation-weighted water consumption)'),\n ('EF v3.1 no LT', 'acidification no LT', 'accumulated exceedance (AE) no LT'),\n ('EF v3.1 no LT',\n  'climate change no LT',\n  'global warming potential (GWP100) no LT'),\n ('EF v3.1 no LT',\n  'climate change: biogenic no LT',\n  'global warming potential (GWP100) no LT'),\n ('EF v3.1 no LT',\n  'climate change: fossil no LT',\n  'global warming potential (GWP100) no LT'),\n ('EF v3.1 no LT',\n  'climate change: land use and land use change no LT',\n  'global warming potential (GWP100) no LT'),\n ('EF v3.1 no LT',\n  'ecotoxicity: freshwater no LT',\n  'comparative toxic unit for ecosystems (CTUe) no LT'),\n ('EF v3.1 no LT',\n  'ecotoxicity: freshwater, inorganics no LT',\n  'comparative toxic unit for ecosystems (CTUe) no LT'),\n ('EF v3.1 no LT',\n  'ecotoxicity: freshwater, organics no LT',\n  'comparative toxic unit for ecosystems (CTUe) no LT'),\n ('EF v3.1 no LT',\n  'energy resources: non-renewable no LT',\n  'abiotic depletion potential (ADP): fossil fuels no LT'),\n ('EF v3.1 no LT',\n  'eutrophication: freshwater no LT',\n  'fraction of nutrients reaching freshwater end compartment (P) no LT'),\n ('EF v3.1 no LT',\n  'eutrophication: marine no LT',\n  'fraction of nutrients reaching marine end compartment (N) no LT'),\n ('EF v3.1 no LT',\n  'eutrophication: terrestrial no LT',\n  'accumulated exceedance (AE) no LT'),\n ('EF v3.1 no LT',\n  'human toxicity: carcinogenic no LT',\n  'comparative toxic unit for human (CTUh) no LT'),\n ('EF v3.1 no LT',\n  'human toxicity: carcinogenic, inorganics no LT',\n  'comparative toxic unit for human (CTUh) no LT'),\n ('EF v3.1 no LT',\n  'human toxicity: carcinogenic, organics no LT',\n  'comparative toxic unit for human (CTUh) no LT'),\n ('EF v3.1 no LT',\n  'human toxicity: non-carcinogenic no LT',\n  'comparative toxic unit for human (CTUh) no LT'),\n ('EF v3.1 no LT',\n  'human toxicity: non-carcinogenic, inorganics no LT',\n  'comparative toxic unit for human (CTUh) no LT'),\n ('EF v3.1 no LT',\n  'human toxicity: non-carcinogenic, organics no LT',\n  'comparative toxic unit for human (CTUh) no LT'),\n ('EF v3.1 no LT',\n  'ionising radiation: human health no LT',\n  'human exposure efficiency relative to u235 no LT'),\n ('EF v3.1 no LT', 'land use no LT', 'soil quality index no LT'),\n ('EF v3.1 no LT',\n  'material resources: metals/minerals no LT',\n  'abiotic depletion potential (ADP): elements (ultimate reserves) no LT'),\n ('EF v3.1 no LT',\n  'ozone depletion no LT',\n  'ozone depletion potential (ODP) no LT'),\n ('EF v3.1 no LT',\n  'particulate matter formation no LT',\n  'impact on human health no LT'),\n ('EF v3.1 no LT',\n  'photochemical oxidant formation: human health no LT',\n  'tropospheric ozone concentration increase no LT'),\n ('EF v3.1 no LT',\n  'water use no LT',\n  'user deprivation potential (deprivation-weighted water consumption) no LT'),\n ('EN15804',\n  'inventory indicators ISO21930',\n  'Cumulative Energy Demand - non-renewable energy resources'),\n ('EN15804',\n  'inventory indicators ISO21930',\n  'Cumulative Energy Demand - renewable energy resources'),\n ('EN15804', 'inventory indicators ISO21930', 'exported energy - electricity'),\n ('EN15804', 'inventory indicators ISO21930', 'exported energy - heat'),\n ('EN15804', 'inventory indicators ISO21930', 'hazardous waste disposed'),\n ('EN15804',\n  'inventory indicators ISO21930',\n  'high-level radioactive waste disposed'),\n ('EN15804',\n  'inventory indicators ISO21930',\n  'intermediate and low-level radioactive waste disposed'),\n ('EN15804', 'inventory indicators ISO21930', 'materials for energy recovery'),\n ('EN15804', 'inventory indicators ISO21930', 'materials for recycling'),\n ('EN15804', 'inventory indicators ISO21930', 'non-hazardous waste disposed'),\n ('EN15804', 'inventory indicators ISO21930', 'recovered energy'),\n ('EN15804', 'inventory indicators ISO21930', 'use of net fresh water'),\n ('EN15804',\n  'inventory indicators ISO21930',\n  'use of renewable secondary fuels'),\n ('EN15804', 'inventory indicators ISO21930', 'use of secondary material'),\n ('EPS 2020d', 'emissions to air', 'monetary impact value'),\n ('EPS 2020d', 'emissions to soil', 'monetary impact value'),\n ('EPS 2020d', 'emissions to water', 'monetary impact value'),\n ('EPS 2020d',\n  'energy resources: non-renewable, fossil',\n  'monetary impact value'),\n ('EPS 2020d', 'land use', 'monetary impact value'),\n ('EPS 2020d', 'material resources: metals', 'monetary impact value'),\n ('EPS 2020d', 'total', 'monetary impact value'),\n ('EPS 2020d no LT', 'emissions to air no LT', 'monetary impact value no LT'),\n ('EPS 2020d no LT', 'emissions to soil no LT', 'monetary impact value no LT'),\n ('EPS 2020d no LT',\n  'emissions to water no LT',\n  'monetary impact value no LT'),\n ('EPS 2020d no LT',\n  'energy resources: non-renewable, fossil no LT',\n  'monetary impact value no LT'),\n ('EPS 2020d no LT', 'land use no LT', 'monetary impact value no LT'),\n ('EPS 2020d no LT',\n  'material resources: metals no LT',\n  'monetary impact value no LT'),\n ('EPS 2020d no LT', 'total no LT', 'monetary impact value no LT'),\n ('Ecological Footprint', 'CO2', 'global hectares'),\n ('Ecological Footprint', 'land occupation', 'global hectares'),\n ('Ecological Footprint', 'nuclear', 'global hectares'),\n ('Ecological Footprint', 'total', 'global hectares'),\n ('Ecological Scarcity 2021',\n  'climate change',\n  'global warming potential (GWP100)'),\n ('Ecological Scarcity 2021', 'emissions to air', 'air pollutants and PM'),\n ('Ecological Scarcity 2021',\n  'emissions to air',\n  'carcinogenic substances into air'),\n ('Ecological Scarcity 2021', 'emissions to air', 'heavy metals into air'),\n ('Ecological Scarcity 2021',\n  'emissions to air',\n  'radioactive substances into air'),\n ('Ecological Scarcity 2021', 'emissions to soil', 'heavy metals into soil'),\n ('Ecological Scarcity 2021', 'emissions to soil', 'pesticides into soil'),\n ('Ecological Scarcity 2021', 'emissions to water', 'POP into water'),\n ('Ecological Scarcity 2021', 'emissions to water', 'heavy metals into water'),\n ('Ecological Scarcity 2021',\n  'emissions to water',\n  'radioactive substances into water'),\n ('Ecological Scarcity 2021', 'emissions to water', 'water pollutants'),\n ('Ecological Scarcity 2021', 'energy resources', 'energy resources'),\n ('Ecological Scarcity 2021', 'land use', 'land use'),\n ('Ecological Scarcity 2021', 'mineral resources', 'mineral resources'),\n ('Ecological Scarcity 2021', 'natural resources', 'biotic resources'),\n ('Ecological Scarcity 2021', 'ozone depletion', 'ozone depletion'),\n ('Ecological Scarcity 2021', 'total', 'UBP'),\n ('Ecological Scarcity 2021',\n  'waste disposal',\n  'radioactive waste to deposit'),\n ('Ecological Scarcity 2021', 'waste disposal', 'waste, non radioactive'),\n ('Ecological Scarcity 2021', 'water use', 'water resources, evaporated'),\n ('Ecological Scarcity 2021 no LT',\n  'climate change no LT',\n  'global warming potential (GWP100) no LT'),\n ('Ecological Scarcity 2021 no LT',\n  'emissions to air no LT',\n  'air pollutants and PM no LT'),\n ('Ecological Scarcity 2021 no LT',\n  'emissions to air no LT',\n  'carcinogenic substances into air no LT'),\n ('Ecological Scarcity 2021 no LT',\n  'emissions to air no LT',\n  'heavy metals into air no LT'),\n ('Ecological Scarcity 2021 no LT',\n  'emissions to air no LT',\n  'radioactive substances into air no LT'),\n ('Ecological Scarcity 2021 no LT',\n  'emissions to soil no LT',\n  'heavy metals into soil no LT'),\n ('Ecological Scarcity 2021 no LT',\n  'emissions to soil no LT',\n  'pesticides into soil no LT'),\n ('Ecological Scarcity 2021 no LT',\n  'emissions to water no LT',\n  'POP into water no LT'),\n ('Ecological Scarcity 2021 no LT',\n  'emissions to water no LT',\n  'heavy metals into water no LT'),\n ('Ecological Scarcity 2021 no LT',\n  'emissions to water no LT',\n  'radioactive substances into water no LT'),\n ('Ecological Scarcity 2021 no LT',\n  'emissions to water no LT',\n  'water pollutants no LT'),\n ('Ecological Scarcity 2021 no LT',\n  'energy resources no LT',\n  'energy resources no LT'),\n ('Ecological Scarcity 2021 no LT', 'land use no LT', 'land use no LT'),\n ('Ecological Scarcity 2021 no LT',\n  'mineral resources no LT',\n  'mineral resources no LT'),\n ('Ecological Scarcity 2021 no LT',\n  'natural resources no LT',\n  'biotic resources no LT'),\n ('Ecological Scarcity 2021 no LT',\n  'ozone depletion no LT',\n  'ozone depletion no LT'),\n ('Ecological Scarcity 2021 no LT', 'total no LT', 'UBP no LT'),\n ('Ecological Scarcity 2021 no LT',\n  'waste disposal no LT',\n  'radioactive waste to deposit no LT'),\n ('Ecological Scarcity 2021 no LT',\n  'waste disposal no LT',\n  'waste, non radioactive no LT'),\n ('Ecological Scarcity 2021 no LT',\n  'water use no LT',\n  'water resources, evaporated no LT'),\n ('Ecosystem Damage Potential',\n  'land occupation',\n  'ecosystem damage potential'),\n ('Ecosystem Damage Potential',\n  'land transformation',\n  'ecosystem damage potential'),\n ('Ecosystem Damage Potential', 'total', 'ecosystem damage potential'),\n ('IMPACT 2002+ (Endpoint)', 'climate change', 'climate change'),\n ('IMPACT 2002+ (Endpoint)', 'climate change', 'total'),\n ('IMPACT 2002+ (Endpoint)', 'ecosystem quality', 'aquatic ecotoxicity'),\n ('IMPACT 2002+ (Endpoint)', 'ecosystem quality', 'land occupation'),\n ('IMPACT 2002+ (Endpoint)',\n  'ecosystem quality',\n  'terrestrial acidification & nutrification'),\n ('IMPACT 2002+ (Endpoint)', 'ecosystem quality', 'terrestrial ecotoxicity'),\n ('IMPACT 2002+ (Endpoint)', 'ecosystem quality', 'total'),\n ('IMPACT 2002+ (Endpoint)', 'human health', 'human toxicity'),\n ('IMPACT 2002+ (Endpoint)', 'human health', 'ionising radiation'),\n ('IMPACT 2002+ (Endpoint)', 'human health', 'ozone layer depletion'),\n ('IMPACT 2002+ (Endpoint)', 'human health', 'photochemical oxidation'),\n ('IMPACT 2002+ (Endpoint)',\n  'human health',\n  'respiratory effects (inorganics)'),\n ('IMPACT 2002+ (Endpoint)', 'human health', 'total'),\n ('IMPACT 2002+ (Endpoint)', 'resources', 'mineral extraction'),\n ('IMPACT 2002+ (Endpoint)', 'resources', 'non-renewable energy'),\n ('IMPACT 2002+ (Endpoint)', 'resources', 'total'),\n ('IMPACT 2002+ (Midpoint)', 'ecosystem quality', 'aquatic acidification'),\n ('IMPACT 2002+ (Midpoint)', 'ecosystem quality', 'aquatic eutrophication'),\n ('IPCC 2013',\n  'climate change',\n  'global temperature change potential (GTP100)'),\n ('IPCC 2013',\n  'climate change',\n  'global temperature change potential (GTP20)'),\n ('IPCC 2013', 'climate change', 'global warming potential (GWP100)'),\n ('IPCC 2013', 'climate change', 'global warming potential (GWP20)'),\n ('IPCC 2013 no LT',\n  'climate change no LT',\n  'global temperature change potential (GTP100) no LT'),\n ('IPCC 2013 no LT',\n  'climate change no LT',\n  'global temperature change potential (GTP20) no LT'),\n ('IPCC 2013 no LT',\n  'climate change no LT',\n  'global warming potential (GWP100) no LT'),\n ('IPCC 2013 no LT',\n  'climate change no LT',\n  'global warming potential (GWP20) no LT'),\n ('IPCC 2021',\n  'climate change',\n  'global temperature change potential (GTP100)'),\n ('IPCC 2021',\n  'climate change',\n  'global temperature change potential (GTP50)'),\n ('IPCC 2021', 'climate change', 'global warming potential (GWP100)'),\n ('IPCC 2021', 'climate change', 'global warming potential (GWP20)'),\n ('IPCC 2021', 'climate change', 'global warming potential (GWP500)'),\n ('IPCC 2021',\n  'climate change: biogenic',\n  'global temperature change potential (GTP100)'),\n ('IPCC 2021',\n  'climate change: biogenic',\n  'global temperature change potential (GTP50)'),\n ('IPCC 2021',\n  'climate change: biogenic',\n  'global warming potential (GWP100)'),\n ('IPCC 2021', 'climate change: biogenic', 'global warming potential (GWP20)'),\n ('IPCC 2021',\n  'climate change: biogenic',\n  'global warming potential (GWP500)'),\n ('IPCC 2021',\n  'climate change: biogenic, including SLCFs',\n  'global temperature change potential (GTP100)'),\n ('IPCC 2021',\n  'climate change: biogenic, including SLCFs',\n  'global warming potential (GWP100)'),\n ('IPCC 2021',\n  'climate change: biogenic, including SLCFs',\n  'global warming potential (GWP20)'),\n ('IPCC 2021',\n  'climate change: fossil',\n  'global temperature change potential (GTP100)'),\n ('IPCC 2021',\n  'climate change: fossil',\n  'global temperature change potential (GTP50)'),\n ('IPCC 2021', 'climate change: fossil', 'global warming potential (GWP100)'),\n ('IPCC 2021', 'climate change: fossil', 'global warming potential (GWP20)'),\n ('IPCC 2021', 'climate change: fossil', 'global warming potential (GWP500)'),\n ('IPCC 2021',\n  'climate change: fossil, including SLCFs',\n  'global temperature change potential (GTP100)'),\n ('IPCC 2021',\n  'climate change: fossil, including SLCFs',\n  'global warming potential (GWP100)'),\n ('IPCC 2021',\n  'climate change: fossil, including SLCFs',\n  'global warming potential (GWP20)'),\n ('IPCC 2021',\n  'climate change: including SLCFs',\n  'global temperature change potential (GTP100)'),\n ('IPCC 2021',\n  'climate change: including SLCFs',\n  'global warming potential (GWP100)'),\n ('IPCC 2021',\n  'climate change: including SLCFs',\n  'global warming potential (GWP20)'),\n ('IPCC 2021',\n  'climate change: land use',\n  'global temperature change potential (GTP100)'),\n ('IPCC 2021',\n  'climate change: land use',\n  'global temperature change potential (GTP50)'),\n ('IPCC 2021',\n  'climate change: land use',\n  'global warming potential (GWP100)'),\n ('IPCC 2021', 'climate change: land use', 'global warming potential (GWP20)'),\n ('IPCC 2021',\n  'climate change: land use',\n  'global warming potential (GWP500)'),\n ('IPCC 2021',\n  'climate change: land use, including SLCFs',\n  'global temperature change potential (GTP100)'),\n ('IPCC 2021',\n  'climate change: land use, including SLCFs',\n  'global warming potential (GWP100)'),\n ('IPCC 2021',\n  'climate change: land use, including SLCFs',\n  'global warming potential (GWP20)'),\n ('IPCC 2021 no LT',\n  'climate change no LT',\n  'global temperature change potential (GTP100) no LT'),\n ('IPCC 2021 no LT',\n  'climate change no LT',\n  'global temperature change potential (GTP50) no LT'),\n ('IPCC 2021 no LT',\n  'climate change no LT',\n  'global warming potential (GWP100) no LT'),\n ('IPCC 2021 no LT',\n  'climate change no LT',\n  'global warming potential (GWP20) no LT'),\n ('IPCC 2021 no LT',\n  'climate change no LT',\n  'global warming potential (GWP500) no LT'),\n ('IPCC 2021 no LT',\n  'climate change: biogenic no LT',\n  'global temperature change potential (GTP100) no LT'),\n ('IPCC 2021 no LT',\n  'climate change: biogenic no LT',\n  'global temperature change potential (GTP50) no LT'),\n ('IPCC 2021 no LT',\n  'climate change: biogenic no LT',\n  'global warming potential (GWP100) no LT'),\n ('IPCC 2021 no LT',\n  'climate change: biogenic no LT',\n  'global warming potential (GWP20) no LT'),\n ('IPCC 2021 no LT',\n  'climate change: biogenic no LT',\n  'global warming potential (GWP500) no LT'),\n ('IPCC 2021 no LT',\n  'climate change: biogenic, including SLCFs no LT',\n  'global temperature change potential (GTP100) no LT'),\n ('IPCC 2021 no LT',\n  'climate change: biogenic, including SLCFs no LT',\n  'global warming potential (GWP100) no LT'),\n ('IPCC 2021 no LT',\n  'climate change: biogenic, including SLCFs no LT',\n  'global warming potential (GWP20) no LT'),\n ('IPCC 2021 no LT',\n  'climate change: fossil no LT',\n  'global temperature change potential (GTP100) no LT'),\n ('IPCC 2021 no LT',\n  'climate change: fossil no LT',\n  'global temperature change potential (GTP50) no LT'),\n ('IPCC 2021 no LT',\n  'climate change: fossil no LT',\n  'global warming potential (GWP100) no LT'),\n ('IPCC 2021 no LT',\n  'climate change: fossil no LT',\n  'global warming potential (GWP20) no LT'),\n ('IPCC 2021 no LT',\n  'climate change: fossil no LT',\n  'global warming potential (GWP500) no LT'),\n ('IPCC 2021 no LT',\n  'climate change: fossil, including SLCFs no LT',\n  'global temperature change potential (GTP100) no LT'),\n ('IPCC 2021 no LT',\n  'climate change: fossil, including SLCFs no LT',\n  'global warming potential (GWP100) no LT'),\n ('IPCC 2021 no LT',\n  'climate change: fossil, including SLCFs no LT',\n  'global warming potential (GWP20) no LT'),\n ('IPCC 2021 no LT',\n  'climate change: including SLCFs no LT',\n  'global temperature change potential (GTP100) no LT'),\n ('IPCC 2021 no LT',\n  'climate change: including SLCFs no LT',\n  'global warming potential (GWP100) no LT'),\n ('IPCC 2021 no LT',\n  'climate change: including SLCFs no LT',\n  'global warming potential (GWP20) no LT'),\n ('IPCC 2021 no LT',\n  'climate change: land use no LT',\n  'global temperature change potential (GTP100) no LT'),\n ('IPCC 2021 no LT',\n  'climate change: land use no LT',\n  'global temperature change potential (GTP50) no LT'),\n ('IPCC 2021 no LT',\n  'climate change: land use no LT',\n  'global warming potential (GWP100) no LT'),\n ('IPCC 2021 no LT',\n  'climate change: land use no LT',\n  'global warming potential (GWP20) no LT'),\n ('IPCC 2021 no LT',\n  'climate change: land use no LT',\n  'global warming potential (GWP500) no LT'),\n ('IPCC 2021 no LT',\n  'climate change: land use, including SLCFs no LT',\n  'global temperature change potential (GTP100) no LT'),\n ('IPCC 2021 no LT',\n  'climate change: land use, including SLCFs no LT',\n  'global warming potential (GWP100) no LT'),\n ('IPCC 2021 no LT',\n  'climate change: land use, including SLCFs no LT',\n  'global warming potential (GWP20) no LT'),\n ('ReCiPe 2016 v1.03, endpoint (E)',\n  'ecosystem quality',\n  'acidification: terrestrial'),\n ('ReCiPe 2016 v1.03, endpoint (E)',\n  'ecosystem quality',\n  'climate change: freshwater ecosystems'),\n ('ReCiPe 2016 v1.03, endpoint (E)',\n  'ecosystem quality',\n  'climate change: terrestrial ecosystems'),\n ('ReCiPe 2016 v1.03, endpoint (E)',\n  'ecosystem quality',\n  'ecotoxicity: freshwater'),\n ('ReCiPe 2016 v1.03, endpoint (E)',\n  'ecosystem quality',\n  'ecotoxicity: marine'),\n ('ReCiPe 2016 v1.03, endpoint (E)',\n  'ecosystem quality',\n  'ecotoxicity: terrestrial'),\n ('ReCiPe 2016 v1.03, endpoint (E)',\n  'ecosystem quality',\n  'eutrophication: freshwater'),\n ('ReCiPe 2016 v1.03, endpoint (E)',\n  'ecosystem quality',\n  'eutrophication: marine'),\n ('ReCiPe 2016 v1.03, endpoint (E)', 'ecosystem quality', 'land use'),\n ('ReCiPe 2016 v1.03, endpoint (E)',\n  'ecosystem quality',\n  'photochemical oxidant formation: terrestrial ecosystems'),\n ('ReCiPe 2016 v1.03, endpoint (E)',\n  'ecosystem quality',\n  'water use: aquatic ecosystems'),\n ('ReCiPe 2016 v1.03, endpoint (E)',\n  'ecosystem quality',\n  'water use: terrestrial ecosystems'),\n ('ReCiPe 2016 v1.03, endpoint (E)',\n  'human health',\n  'climate change: human health'),\n ('ReCiPe 2016 v1.03, endpoint (E)',\n  'human health',\n  'human toxicity: carcinogenic'),\n ('ReCiPe 2016 v1.03, endpoint (E)',\n  'human health',\n  'human toxicity: non-carcinogenic'),\n ('ReCiPe 2016 v1.03, endpoint (E)', 'human health', 'ionising radiation'),\n ('ReCiPe 2016 v1.03, endpoint (E)', 'human health', 'ozone depletion'),\n ('ReCiPe 2016 v1.03, endpoint (E)',\n  'human health',\n  'particulate matter formation'),\n ('ReCiPe 2016 v1.03, endpoint (E)',\n  'human health',\n  'photochemical oxidant formation: human health'),\n ('ReCiPe 2016 v1.03, endpoint (E)',\n  'human health',\n  'water use: human health'),\n ('ReCiPe 2016 v1.03, endpoint (E)',\n  'natural resources',\n  'energy resources: non-renewable, fossil'),\n ('ReCiPe 2016 v1.03, endpoint (E)',\n  'natural resources',\n  'material resources: metals/minerals'),\n ('ReCiPe 2016 v1.03, endpoint (E)',\n  'total: ecosystem quality',\n  'ecosystem quality'),\n ('ReCiPe 2016 v1.03, endpoint (E)', 'total: human health', 'human health'),\n ('ReCiPe 2016 v1.03, endpoint (E)',\n  'total: natural resources',\n  'natural resources'),\n ('ReCiPe 2016 v1.03, endpoint (E) no LT',\n  'ecosystem quality no LT',\n  'acidification: terrestrial no LT'),\n ('ReCiPe 2016 v1.03, endpoint (E) no LT',\n  'ecosystem quality no LT',\n  'climate change: freshwater ecosystems no LT'),\n ('ReCiPe 2016 v1.03, endpoint (E) no LT',\n  'ecosystem quality no LT',\n  'climate change: terrestrial ecosystems no LT'),\n ('ReCiPe 2016 v1.03, endpoint (E) no LT',\n  'ecosystem quality no LT',\n  'ecotoxicity: freshwater no LT'),\n ('ReCiPe 2016 v1.03, endpoint (E) no LT',\n  'ecosystem quality no LT',\n  'ecotoxicity: marine no LT'),\n ('ReCiPe 2016 v1.03, endpoint (E) no LT',\n  'ecosystem quality no LT',\n  'ecotoxicity: terrestrial no LT'),\n ('ReCiPe 2016 v1.03, endpoint (E) no LT',\n  'ecosystem quality no LT',\n  'eutrophication: freshwater no LT'),\n ('ReCiPe 2016 v1.03, endpoint (E) no LT',\n  'ecosystem quality no LT',\n  'eutrophication: marine no LT'),\n ('ReCiPe 2016 v1.03, endpoint (E) no LT',\n  'ecosystem quality no LT',\n  'land use no LT'),\n ('ReCiPe 2016 v1.03, endpoint (E) no LT',\n  'ecosystem quality no LT',\n  'photochemical oxidant formation: terrestrial ecosystems no LT'),\n ('ReCiPe 2016 v1.03, endpoint (E) no LT',\n  'ecosystem quality no LT',\n  'water use: aquatic ecosystems no LT'),\n ('ReCiPe 2016 v1.03, endpoint (E) no LT',\n  'ecosystem quality no LT',\n  'water use: terrestrial ecosystems no LT'),\n ('ReCiPe 2016 v1.03, endpoint (E) no LT',\n  'human health no LT',\n  'climate change: human health no LT'),\n ('ReCiPe 2016 v1.03, endpoint (E) no LT',\n  'human health no LT',\n  'human toxicity: carcinogenic no LT'),\n ('ReCiPe 2016 v1.03, endpoint (E) no LT',\n  'human health no LT',\n  'human toxicity: non-carcinogenic no LT'),\n ('ReCiPe 2016 v1.03, endpoint (E) no LT',\n  'human health no LT',\n  'ionising radiation no LT'),\n ('ReCiPe 2016 v1.03, endpoint (E) no LT',\n  'human health no LT',\n  'ozone depletion no LT'),\n ('ReCiPe 2016 v1.03, endpoint (E) no LT',\n  'human health no LT',\n  'particulate matter formation no LT'),\n ('ReCiPe 2016 v1.03, endpoint (E) no LT',\n  'human health no LT',\n  'photochemical oxidant formation: human health no LT'),\n ('ReCiPe 2016 v1.03, endpoint (E) no LT',\n  'human health no LT',\n  'water use: human health no LT'),\n ('ReCiPe 2016 v1.03, endpoint (E) no LT',\n  'natural resources no LT',\n  'energy resources: non-renewable, fossil no LT'),\n ('ReCiPe 2016 v1.03, endpoint (E) no LT',\n  'natural resources no LT',\n  'material resources: metals/minerals no LT'),\n ('ReCiPe 2016 v1.03, endpoint (E) no LT',\n  'total: ecosystem quality no LT',\n  'ecosystem quality no LT'),\n ('ReCiPe 2016 v1.03, endpoint (E) no LT',\n  'total: human health no LT',\n  'human health no LT'),\n ('ReCiPe 2016 v1.03, endpoint (E) no LT',\n  'total: natural resources no LT',\n  'natural resources no LT'),\n ('ReCiPe 2016 v1.03, endpoint (H)',\n  'ecosystem quality',\n  'acidification: terrestrial'),\n ('ReCiPe 2016 v1.03, endpoint (H)',\n  'ecosystem quality',\n  'climate change: freshwater ecosystems'),\n ('ReCiPe 2016 v1.03, endpoint (H)',\n  'ecosystem quality',\n  'climate change: terrestrial ecosystems'),\n ('ReCiPe 2016 v1.03, endpoint (H)',\n  'ecosystem quality',\n  'ecotoxicity: freshwater'),\n ('ReCiPe 2016 v1.03, endpoint (H)',\n  'ecosystem quality',\n  'ecotoxicity: marine'),\n ('ReCiPe 2016 v1.03, endpoint (H)',\n  'ecosystem quality',\n  'ecotoxicity: terrestrial'),\n ('ReCiPe 2016 v1.03, endpoint (H)',\n  'ecosystem quality',\n  'eutrophication: freshwater'),\n ('ReCiPe 2016 v1.03, endpoint (H)',\n  'ecosystem quality',\n  'eutrophication: marine'),\n ('ReCiPe 2016 v1.03, endpoint (H)', 'ecosystem quality', 'land use'),\n ('ReCiPe 2016 v1.03, endpoint (H)',\n  'ecosystem quality',\n  'photochemical oxidant formation: terrestrial ecosystems'),\n ('ReCiPe 2016 v1.03, endpoint (H)',\n  'ecosystem quality',\n  'water use: aquatic ecosystems'),\n ('ReCiPe 2016 v1.03, endpoint (H)',\n  'ecosystem quality',\n  'water use: terrestrial ecosystems'),\n ('ReCiPe 2016 v1.03, endpoint (H)',\n  'human health',\n  'climate change: human health'),\n ('ReCiPe 2016 v1.03, endpoint (H)',\n  'human health',\n  'human toxicity: carcinogenic'),\n ('ReCiPe 2016 v1.03, endpoint (H)',\n  'human health',\n  'human toxicity: non-carcinogenic'),\n ('ReCiPe 2016 v1.03, endpoint (H)', 'human health', 'ionising radiation'),\n ('ReCiPe 2016 v1.03, endpoint (H)', 'human health', 'ozone depletion'),\n ('ReCiPe 2016 v1.03, endpoint (H)',\n  'human health',\n  'particulate matter formation'),\n ('ReCiPe 2016 v1.03, endpoint (H)',\n  'human health',\n  'photochemical oxidant formation: human health'),\n ('ReCiPe 2016 v1.03, endpoint (H)',\n  'human health',\n  'water use: human health'),\n ('ReCiPe 2016 v1.03, endpoint (H)',\n  'natural resources',\n  'energy resources: non-renewable, fossil'),\n ('ReCiPe 2016 v1.03, endpoint (H)',\n  'natural resources',\n  'material resources: metals/minerals'),\n ('ReCiPe 2016 v1.03, endpoint (H)',\n  'total: ecosystem quality',\n  'ecosystem quality'),\n ('ReCiPe 2016 v1.03, endpoint (H)', 'total: human health', 'human health'),\n ('ReCiPe 2016 v1.03, endpoint (H)',\n  'total: natural resources',\n  'natural resources'),\n ('ReCiPe 2016 v1.03, endpoint (H) no LT',\n  'ecosystem quality no LT',\n  'acidification: terrestrial no LT'),\n ('ReCiPe 2016 v1.03, endpoint (H) no LT',\n  'ecosystem quality no LT',\n  'climate change: freshwater ecosystems no LT'),\n ('ReCiPe 2016 v1.03, endpoint (H) no LT',\n  'ecosystem quality no LT',\n  'climate change: terrestrial ecosystems no LT'),\n ('ReCiPe 2016 v1.03, endpoint (H) no LT',\n  'ecosystem quality no LT',\n  'ecotoxicity: freshwater no LT'),\n ('ReCiPe 2016 v1.03, endpoint (H) no LT',\n  'ecosystem quality no LT',\n  'ecotoxicity: marine no LT'),\n ('ReCiPe 2016 v1.03, endpoint (H) no LT',\n  'ecosystem quality no LT',\n  'ecotoxicity: terrestrial no LT'),\n ('ReCiPe 2016 v1.03, endpoint (H) no LT',\n  'ecosystem quality no LT',\n  'eutrophication: freshwater no LT'),\n ('ReCiPe 2016 v1.03, endpoint (H) no LT',\n  'ecosystem quality no LT',\n  'eutrophication: marine no LT'),\n ('ReCiPe 2016 v1.03, endpoint (H) no LT',\n  'ecosystem quality no LT',\n  'land use no LT'),\n ('ReCiPe 2016 v1.03, endpoint (H) no LT',\n  'ecosystem quality no LT',\n  'photochemical oxidant formation: terrestrial ecosystems no LT'),\n ('ReCiPe 2016 v1.03, endpoint (H) no LT',\n  'ecosystem quality no LT',\n  'water use: aquatic ecosystems no LT'),\n ('ReCiPe 2016 v1.03, endpoint (H) no LT',\n  'ecosystem quality no LT',\n  'water use: terrestrial ecosystems no LT'),\n ('ReCiPe 2016 v1.03, endpoint (H) no LT',\n  'human health no LT',\n  'climate change: human health no LT'),\n ('ReCiPe 2016 v1.03, endpoint (H) no LT',\n  'human health no LT',\n  'human toxicity: carcinogenic no LT'),\n ('ReCiPe 2016 v1.03, endpoint (H) no LT',\n  'human health no LT',\n  'human toxicity: non-carcinogenic no LT'),\n ('ReCiPe 2016 v1.03, endpoint (H) no LT',\n  'human health no LT',\n  'ionising radiation no LT'),\n ('ReCiPe 2016 v1.03, endpoint (H) no LT',\n  'human health no LT',\n  'ozone depletion no LT'),\n ('ReCiPe 2016 v1.03, endpoint (H) no LT',\n  'human health no LT',\n  'particulate matter formation no LT'),\n ('ReCiPe 2016 v1.03, endpoint (H) no LT',\n  'human health no LT',\n  'photochemical oxidant formation: human health no LT'),\n ('ReCiPe 2016 v1.03, endpoint (H) no LT',\n  'human health no LT',\n  'water use: human health no LT'),\n ('ReCiPe 2016 v1.03, endpoint (H) no LT',\n  'natural resources no LT',\n  'energy resources: non-renewable, fossil no LT'),\n ('ReCiPe 2016 v1.03, endpoint (H) no LT',\n  'natural resources no LT',\n  'material resources: metals/minerals no LT'),\n ('ReCiPe 2016 v1.03, endpoint (H) no LT',\n  'total: ecosystem quality no LT',\n  'ecosystem quality no LT'),\n ('ReCiPe 2016 v1.03, endpoint (H) no LT',\n  'total: human health no LT',\n  'human health no LT'),\n ('ReCiPe 2016 v1.03, endpoint (H) no LT',\n  'total: natural resources no LT',\n  'natural resources no LT'),\n ('ReCiPe 2016 v1.03, endpoint (I)',\n  'ecosystem quality',\n  'acidification: terrestrial'),\n ('ReCiPe 2016 v1.03, endpoint (I)',\n  'ecosystem quality',\n  'climate change: freshwater ecosystems'),\n ('ReCiPe 2016 v1.03, endpoint (I)',\n  'ecosystem quality',\n  'climate change: terrestrial ecosystems'),\n ('ReCiPe 2016 v1.03, endpoint (I)',\n  'ecosystem quality',\n  'ecotoxicity: freshwater'),\n ('ReCiPe 2016 v1.03, endpoint (I)',\n  'ecosystem quality',\n  'ecotoxicity: marine'),\n ('ReCiPe 2016 v1.03, endpoint (I)',\n  'ecosystem quality',\n  'ecotoxicity: terrestrial'),\n ('ReCiPe 2016 v1.03, endpoint (I)',\n  'ecosystem quality',\n  'eutrophication: freshwater'),\n ('ReCiPe 2016 v1.03, endpoint (I)',\n  'ecosystem quality',\n  'eutrophication: marine'),\n ('ReCiPe 2016 v1.03, endpoint (I)', 'ecosystem quality', 'land use'),\n ('ReCiPe 2016 v1.03, endpoint (I)',\n  'ecosystem quality',\n  'photochemical oxidant formation: terrestrial ecosystems'),\n ('ReCiPe 2016 v1.03, endpoint (I)',\n  'ecosystem quality',\n  'water use: aquatic ecosystems'),\n ('ReCiPe 2016 v1.03, endpoint (I)',\n  'human health',\n  'climate change: human health'),\n ('ReCiPe 2016 v1.03, endpoint (I)',\n  'human health',\n  'human toxicity: carcinogenic'),\n ('ReCiPe 2016 v1.03, endpoint (I)',\n  'human health',\n  'human toxicity: non-carcinogenic'),\n ('ReCiPe 2016 v1.03, endpoint (I)', 'human health', 'ionising radiation'),\n ('ReCiPe 2016 v1.03, endpoint (I)', 'human health', 'ozone depletion'),\n ('ReCiPe 2016 v1.03, endpoint (I)',\n  'human health',\n  'particulate matter formation'),\n ('ReCiPe 2016 v1.03, endpoint (I)',\n  'human health',\n  'photochemical oxidant formation: human health'),\n ('ReCiPe 2016 v1.03, endpoint (I)',\n  'human health',\n  'water use: human health'),\n ('ReCiPe 2016 v1.03, endpoint (I)',\n  'natural resources',\n  'energy resources: non-renewable, fossil'),\n ('ReCiPe 2016 v1.03, endpoint (I)',\n  'natural resources',\n  'material resources: metals/minerals'),\n ('ReCiPe 2016 v1.03, endpoint (I)',\n  'total: ecosystem quality',\n  'ecosystem quality'),\n ('ReCiPe 2016 v1.03, endpoint (I)', 'total: human health', 'human health'),\n ('ReCiPe 2016 v1.03, endpoint (I)',\n  'total: natural resources',\n  'natural resources'),\n ('ReCiPe 2016 v1.03, endpoint (I) no LT',\n  'ecosystem quality no LT',\n  'acidification: terrestrial no LT'),\n ('ReCiPe 2016 v1.03, endpoint (I) no LT',\n  'ecosystem quality no LT',\n  'climate change: freshwater ecosystems no LT'),\n ('ReCiPe 2016 v1.03, endpoint (I) no LT',\n  'ecosystem quality no LT',\n  'climate change: terrestrial ecosystems no LT'),\n ('ReCiPe 2016 v1.03, endpoint (I) no LT',\n  'ecosystem quality no LT',\n  'ecotoxicity: freshwater no LT'),\n ('ReCiPe 2016 v1.03, endpoint (I) no LT',\n  'ecosystem quality no LT',\n  'ecotoxicity: marine no LT'),\n ('ReCiPe 2016 v1.03, endpoint (I) no LT',\n  'ecosystem quality no LT',\n  'ecotoxicity: terrestrial no LT'),\n ('ReCiPe 2016 v1.03, endpoint (I) no LT',\n  'ecosystem quality no LT',\n  'eutrophication: freshwater no LT'),\n ('ReCiPe 2016 v1.03, endpoint (I) no LT',\n  'ecosystem quality no LT',\n  'eutrophication: marine no LT'),\n ('ReCiPe 2016 v1.03, endpoint (I) no LT',\n  'ecosystem quality no LT',\n  'land use no LT'),\n ('ReCiPe 2016 v1.03, endpoint (I) no LT',\n  'ecosystem quality no LT',\n  'photochemical oxidant formation: terrestrial ecosystems no LT'),\n ('ReCiPe 2016 v1.03, endpoint (I) no LT',\n  'ecosystem quality no LT',\n  'water use: aquatic ecosystems no LT'),\n ('ReCiPe 2016 v1.03, endpoint (I) no LT',\n  'human health no LT',\n  'climate change: human health no LT'),\n ('ReCiPe 2016 v1.03, endpoint (I) no LT',\n  'human health no LT',\n  'human toxicity: carcinogenic no LT'),\n ('ReCiPe 2016 v1.03, endpoint (I) no LT',\n  'human health no LT',\n  'human toxicity: non-carcinogenic no LT'),\n ('ReCiPe 2016 v1.03, endpoint (I) no LT',\n  'human health no LT',\n  'ionising radiation no LT'),\n ('ReCiPe 2016 v1.03, endpoint (I) no LT',\n  'human health no LT',\n  'ozone depletion no LT'),\n ('ReCiPe 2016 v1.03, endpoint (I) no LT',\n  'human health no LT',\n  'particulate matter formation no LT'),\n ('ReCiPe 2016 v1.03, endpoint (I) no LT',\n  'human health no LT',\n  'photochemical oxidant formation: human health no LT'),\n ('ReCiPe 2016 v1.03, endpoint (I) no LT',\n  'human health no LT',\n  'water use: human health no LT'),\n ('ReCiPe 2016 v1.03, endpoint (I) no LT',\n  'natural resources no LT',\n  'energy resources: non-renewable, fossil no LT'),\n ('ReCiPe 2016 v1.03, endpoint (I) no LT',\n  'natural resources no LT',\n  'material resources: metals/minerals no LT'),\n ('ReCiPe 2016 v1.03, endpoint (I) no LT',\n  'total: ecosystem quality no LT',\n  'ecosystem quality no LT'),\n ('ReCiPe 2016 v1.03, endpoint (I) no LT',\n  'total: human health no LT',\n  'human health no LT'),\n ('ReCiPe 2016 v1.03, endpoint (I) no LT',\n  'total: natural resources no LT',\n  'natural resources no LT'),\n ('ReCiPe 2016 v1.03, midpoint (E)',\n  'acidification: terrestrial',\n  'terrestrial acidification potential (TAP)'),\n ('ReCiPe 2016 v1.03, midpoint (E)',\n  'climate change',\n  'global warming potential (GWP1000)'),\n ('ReCiPe 2016 v1.03, midpoint (E)',\n  'ecotoxicity: freshwater',\n  'freshwater ecotoxicity potential (FETP)'),\n ('ReCiPe 2016 v1.03, midpoint (E)',\n  'ecotoxicity: marine',\n  'marine ecotoxicity potential (METP)'),\n ('ReCiPe 2016 v1.03, midpoint (E)',\n  'ecotoxicity: terrestrial',\n  'terrestrial ecotoxicity potential (TETP)'),\n ('ReCiPe 2016 v1.03, midpoint (E)',\n  'energy resources: non-renewable, fossil',\n  'fossil fuel potential (FFP)'),\n ('ReCiPe 2016 v1.03, midpoint (E)',\n  'eutrophication: freshwater',\n  'freshwater eutrophication potential (FEP)'),\n ('ReCiPe 2016 v1.03, midpoint (E)',\n  'eutrophication: marine',\n  'marine eutrophication potential (MEP)'),\n ('ReCiPe 2016 v1.03, midpoint (E)',\n  'human toxicity: carcinogenic',\n  'human toxicity potential (HTPc)'),\n ('ReCiPe 2016 v1.03, midpoint (E)',\n  'human toxicity: non-carcinogenic',\n  'human toxicity potential (HTPnc)'),\n ('ReCiPe 2016 v1.03, midpoint (E)',\n  'ionising radiation',\n  'ionising radiation potential (IRP)'),\n ('ReCiPe 2016 v1.03, midpoint (E)',\n  'land use',\n  'agricultural land occupation (LOP)'),\n ('ReCiPe 2016 v1.03, midpoint (E)',\n  'material resources: metals/minerals',\n  'surplus ore potential (SOP)'),\n ('ReCiPe 2016 v1.03, midpoint (E)',\n  'ozone depletion',\n  'ozone depletion potential (ODPinfinite)'),\n ('ReCiPe 2016 v1.03, midpoint (E)',\n  'particulate matter formation',\n  'particulate matter formation potential (PMFP)'),\n ('ReCiPe 2016 v1.03, midpoint (E)',\n  'photochemical oxidant formation: human health',\n  'photochemical oxidant formation potential: humans (HOFP)'),\n ('ReCiPe 2016 v1.03, midpoint (E)',\n  'photochemical oxidant formation: terrestrial ecosystems',\n  'photochemical oxidant formation potential: ecosystems (EOFP)'),\n ('ReCiPe 2016 v1.03, midpoint (E)',\n  'water use',\n  'water consumption potential (WCP)'),\n ('ReCiPe 2016 v1.03, midpoint (E) no LT',\n  'acidification: terrestrial no LT',\n  'terrestrial acidification potential (TAP) no LT'),\n ('ReCiPe 2016 v1.03, midpoint (E) no LT',\n  'climate change no LT',\n  'global warming potential (GWP1000) no LT'),\n ('ReCiPe 2016 v1.03, midpoint (E) no LT',\n  'ecotoxicity: freshwater no LT',\n  'freshwater ecotoxicity potential (FETP) no LT'),\n ('ReCiPe 2016 v1.03, midpoint (E) no LT',\n  'ecotoxicity: marine no LT',\n  'marine ecotoxicity potential (METP) no LT'),\n ('ReCiPe 2016 v1.03, midpoint (E) no LT',\n  'ecotoxicity: terrestrial no LT',\n  'terrestrial ecotoxicity potential (TETP) no LT'),\n ('ReCiPe 2016 v1.03, midpoint (E) no LT',\n  'energy resources: non-renewable, fossil no LT',\n  'fossil fuel potential (FFP) no LT'),\n ('ReCiPe 2016 v1.03, midpoint (E) no LT',\n  'eutrophication: freshwater no LT',\n  'freshwater eutrophication potential (FEP) no LT'),\n ('ReCiPe 2016 v1.03, midpoint (E) no LT',\n  'eutrophication: marine no LT',\n  'marine eutrophication potential (MEP) no LT'),\n ('ReCiPe 2016 v1.03, midpoint (E) no LT',\n  'human toxicity: carcinogenic no LT',\n  'human toxicity potential (HTPc) no LT'),\n ('ReCiPe 2016 v1.03, midpoint (E) no LT',\n  'human toxicity: non-carcinogenic no LT',\n  'human toxicity potential (HTPnc) no LT'),\n ('ReCiPe 2016 v1.03, midpoint (E) no LT',\n  'ionising radiation no LT',\n  'ionising radiation potential (IRP) no LT'),\n ('ReCiPe 2016 v1.03, midpoint (E) no LT',\n  'land use no LT',\n  'agricultural land occupation (LOP) no LT'),\n ('ReCiPe 2016 v1.03, midpoint (E) no LT',\n  'material resources: metals/minerals no LT',\n  'surplus ore potential (SOP) no LT'),\n ('ReCiPe 2016 v1.03, midpoint (E) no LT',\n  'ozone depletion no LT',\n  'ozone depletion potential (ODPinfinite) no LT'),\n ('ReCiPe 2016 v1.03, midpoint (E) no LT',\n  'particulate matter formation no LT',\n  'particulate matter formation potential (PMFP) no LT'),\n ('ReCiPe 2016 v1.03, midpoint (E) no LT',\n  'photochemical oxidant formation: human health no LT',\n  'photochemical oxidant formation potential: humans (HOFP) no LT'),\n ('ReCiPe 2016 v1.03, midpoint (E) no LT',\n  'photochemical oxidant formation: terrestrial ecosystems no LT',\n  'photochemical oxidant formation potential: ecosystems (EOFP) no LT'),\n ('ReCiPe 2016 v1.03, midpoint (E) no LT',\n  'water use no LT',\n  'water consumption potential (WCP) no LT'),\n ('ReCiPe 2016 v1.03, midpoint (H)',\n  'acidification: terrestrial',\n  'terrestrial acidification potential (TAP)'),\n ('ReCiPe 2016 v1.03, midpoint (H)',\n  'climate change',\n  'global warming potential (GWP1000)'),\n ('ReCiPe 2016 v1.03, midpoint (H)',\n  'ecotoxicity: freshwater',\n  'freshwater ecotoxicity potential (FETP)'),\n ('ReCiPe 2016 v1.03, midpoint (H)',\n  'ecotoxicity: marine',\n  'marine ecotoxicity potential (METP)'),\n ('ReCiPe 2016 v1.03, midpoint (H)',\n  'ecotoxicity: terrestrial',\n  'terrestrial ecotoxicity potential (TETP)'),\n ('ReCiPe 2016 v1.03, midpoint (H)',\n  'energy resources: non-renewable, fossil',\n  'fossil fuel potential (FFP)'),\n ('ReCiPe 2016 v1.03, midpoint (H)',\n  'eutrophication: freshwater',\n  'freshwater eutrophication potential (FEP)'),\n ('ReCiPe 2016 v1.03, midpoint (H)',\n  'eutrophication: marine',\n  'marine eutrophication potential (MEP)'),\n ('ReCiPe 2016 v1.03, midpoint (H)',\n  'human toxicity: carcinogenic',\n  'human toxicity potential (HTPc)'),\n ('ReCiPe 2016 v1.03, midpoint (H)',\n  'human toxicity: non-carcinogenic',\n  'human toxicity potential (HTPnc)'),\n ('ReCiPe 2016 v1.03, midpoint (H)',\n  'ionising radiation',\n  'ionising radiation potential (IRP)'),\n ('ReCiPe 2016 v1.03, midpoint (H)',\n  'land use',\n  'agricultural land occupation (LOP)'),\n ('ReCiPe 2016 v1.03, midpoint (H)',\n  'material resources: metals/minerals',\n  'surplus ore potential (SOP)'),\n ('ReCiPe 2016 v1.03, midpoint (H)',\n  'ozone depletion',\n  'ozone depletion potential (ODPinfinite)'),\n ('ReCiPe 2016 v1.03, midpoint (H)',\n  'particulate matter formation',\n  'particulate matter formation potential (PMFP)'),\n ('ReCiPe 2016 v1.03, midpoint (H)',\n  'photochemical oxidant formation: human health',\n  'photochemical oxidant formation potential: humans (HOFP)'),\n ('ReCiPe 2016 v1.03, midpoint (H)',\n  'photochemical oxidant formation: terrestrial ecosystems',\n  'photochemical oxidant formation potential: ecosystems (EOFP)'),\n ('ReCiPe 2016 v1.03, midpoint (H)',\n  'water use',\n  'water consumption potential (WCP)'),\n ('ReCiPe 2016 v1.03, midpoint (H) no LT',\n  'acidification: terrestrial no LT',\n  'terrestrial acidification potential (TAP) no LT'),\n ('ReCiPe 2016 v1.03, midpoint (H) no LT',\n  'climate change no LT',\n  'global warming potential (GWP1000) no LT'),\n ('ReCiPe 2016 v1.03, midpoint (H) no LT',\n  'ecotoxicity: freshwater no LT',\n  'freshwater ecotoxicity potential (FETP) no LT'),\n ('ReCiPe 2016 v1.03, midpoint (H) no LT',\n  'ecotoxicity: marine no LT',\n  'marine ecotoxicity potential (METP) no LT'),\n ('ReCiPe 2016 v1.03, midpoint (H) no LT',\n  'ecotoxicity: terrestrial no LT',\n  'terrestrial ecotoxicity potential (TETP) no LT'),\n ('ReCiPe 2016 v1.03, midpoint (H) no LT',\n  'energy resources: non-renewable, fossil no LT',\n  'fossil fuel potential (FFP) no LT'),\n ('ReCiPe 2016 v1.03, midpoint (H) no LT',\n  'eutrophication: freshwater no LT',\n  'freshwater eutrophication potential (FEP) no LT'),\n ('ReCiPe 2016 v1.03, midpoint (H) no LT',\n  'eutrophication: marine no LT',\n  'marine eutrophication potential (MEP) no LT'),\n ('ReCiPe 2016 v1.03, midpoint (H) no LT',\n  'human toxicity: carcinogenic no LT',\n  'human toxicity potential (HTPc) no LT'),\n ('ReCiPe 2016 v1.03, midpoint (H) no LT',\n  'human toxicity: non-carcinogenic no LT',\n  'human toxicity potential (HTPnc) no LT'),\n ('ReCiPe 2016 v1.03, midpoint (H) no LT',\n  'ionising radiation no LT',\n  'ionising radiation potential (IRP) no LT'),\n ('ReCiPe 2016 v1.03, midpoint (H) no LT',\n  'land use no LT',\n  'agricultural land occupation (LOP) no LT'),\n ('ReCiPe 2016 v1.03, midpoint (H) no LT',\n  'material resources: metals/minerals no LT',\n  'surplus ore potential (SOP) no LT'),\n ('ReCiPe 2016 v1.03, midpoint (H) no LT',\n  'ozone depletion no LT',\n  'ozone depletion potential (ODPinfinite) no LT'),\n ('ReCiPe 2016 v1.03, midpoint (H) no LT',\n  'particulate matter formation no LT',\n  'particulate matter formation potential (PMFP) no LT'),\n ('ReCiPe 2016 v1.03, midpoint (H) no LT',\n  'photochemical oxidant formation: human health no LT',\n  'photochemical oxidant formation potential: humans (HOFP) no LT'),\n ('ReCiPe 2016 v1.03, midpoint (H) no LT',\n  'photochemical oxidant formation: terrestrial ecosystems no LT',\n  'photochemical oxidant formation potential: ecosystems (EOFP) no LT'),\n ('ReCiPe 2016 v1.03, midpoint (H) no LT',\n  'water use no LT',\n  'water consumption potential (WCP) no LT'),\n ('ReCiPe 2016 v1.03, midpoint (I)',\n  'acidification: terrestrial',\n  'terrestrial acidification potential (TAP)'),\n ('ReCiPe 2016 v1.03, midpoint (I)',\n  'climate change',\n  'global warming potential (GWP1000)'),\n ('ReCiPe 2016 v1.03, midpoint (I)',\n  'ecotoxicity: freshwater',\n  'freshwater ecotoxicity potential (FETP)'),\n ('ReCiPe 2016 v1.03, midpoint (I)',\n  'ecotoxicity: marine',\n  'marine ecotoxicity potential (METP)'),\n ('ReCiPe 2016 v1.03, midpoint (I)',\n  'ecotoxicity: terrestrial',\n  'terrestrial ecotoxicity potential (TETP)'),\n ('ReCiPe 2016 v1.03, midpoint (I)',\n  'energy resources: non-renewable, fossil',\n  'fossil fuel potential (FFP)'),\n ('ReCiPe 2016 v1.03, midpoint (I)',\n  'eutrophication: freshwater',\n  'freshwater eutrophication potential (FEP)'),\n ('ReCiPe 2016 v1.03, midpoint (I)',\n  'eutrophication: marine',\n  'marine eutrophication potential (MEP)'),\n ('ReCiPe 2016 v1.03, midpoint (I)',\n  'human toxicity: carcinogenic',\n  'human toxicity potential (HTPc)'),\n ('ReCiPe 2016 v1.03, midpoint (I)',\n  'human toxicity: non-carcinogenic',\n  'human toxicity potential (HTPnc)'),\n ('ReCiPe 2016 v1.03, midpoint (I)',\n  'ionising radiation',\n  'ionising radiation potential (IRP)'),\n ('ReCiPe 2016 v1.03, midpoint (I)',\n  'land use',\n  'agricultural land occupation (LOP)'),\n ('ReCiPe 2016 v1.03, midpoint (I)',\n  'material resources: metals/minerals',\n  'surplus ore potential (SOP)'),\n ('ReCiPe 2016 v1.03, midpoint (I)',\n  'ozone depletion',\n  'ozone depletion potential (ODPinfinite)'),\n ('ReCiPe 2016 v1.03, midpoint (I)',\n  'particulate matter formation',\n  'particulate matter formation potential (PMFP)'),\n ('ReCiPe 2016 v1.03, midpoint (I)',\n  'photochemical oxidant formation: human health',\n  'photochemical oxidant formation potential: humans (HOFP)'),\n ('ReCiPe 2016 v1.03, midpoint (I)',\n  'photochemical oxidant formation: terrestrial ecosystems',\n  'photochemical oxidant formation potential: ecosystems (EOFP)'),\n ('ReCiPe 2016 v1.03, midpoint (I)',\n  'water use',\n  'water consumption potential (WCP)'),\n ('ReCiPe 2016 v1.03, midpoint (I) no LT',\n  'acidification: terrestrial no LT',\n  'terrestrial acidification potential (TAP) no LT'),\n ('ReCiPe 2016 v1.03, midpoint (I) no LT',\n  'climate change no LT',\n  'global warming potential (GWP1000) no LT'),\n ('ReCiPe 2016 v1.03, midpoint (I) no LT',\n  'ecotoxicity: freshwater no LT',\n  'freshwater ecotoxicity potential (FETP) no LT'),\n ('ReCiPe 2016 v1.03, midpoint (I) no LT',\n  'ecotoxicity: marine no LT',\n  'marine ecotoxicity potential (METP) no LT'),\n ('ReCiPe 2016 v1.03, midpoint (I) no LT',\n  'ecotoxicity: terrestrial no LT',\n  'terrestrial ecotoxicity potential (TETP) no LT'),\n ('ReCiPe 2016 v1.03, midpoint (I) no LT',\n  'energy resources: non-renewable, fossil no LT',\n  'fossil fuel potential (FFP) no LT'),\n ('ReCiPe 2016 v1.03, midpoint (I) no LT',\n  'eutrophication: freshwater no LT',\n  'freshwater eutrophication potential (FEP) no LT'),\n ('ReCiPe 2016 v1.03, midpoint (I) no LT',\n  'eutrophication: marine no LT',\n  'marine eutrophication potential (MEP) no LT'),\n ('ReCiPe 2016 v1.03, midpoint (I) no LT',\n  'human toxicity: carcinogenic no LT',\n  'human toxicity potential (HTPc) no LT'),\n ('ReCiPe 2016 v1.03, midpoint (I) no LT',\n  'human toxicity: non-carcinogenic no LT',\n  'human toxicity potential (HTPnc) no LT'),\n ('ReCiPe 2016 v1.03, midpoint (I) no LT',\n  'ionising radiation no LT',\n  'ionising radiation potential (IRP) no LT'),\n ('ReCiPe 2016 v1.03, midpoint (I) no LT',\n  'land use no LT',\n  'agricultural land occupation (LOP) no LT'),\n ('ReCiPe 2016 v1.03, midpoint (I) no LT',\n  'material resources: metals/minerals no LT',\n  'surplus ore potential (SOP) no LT'),\n ('ReCiPe 2016 v1.03, midpoint (I) no LT',\n  'ozone depletion no LT',\n  'ozone depletion potential (ODPinfinite) no LT'),\n ('ReCiPe 2016 v1.03, midpoint (I) no LT',\n  'particulate matter formation no LT',\n  'particulate matter formation potential (PMFP) no LT'),\n ('ReCiPe 2016 v1.03, midpoint (I) no LT',\n  'photochemical oxidant formation: human health no LT',\n  'photochemical oxidant formation potential: humans (HOFP) no LT'),\n ('ReCiPe 2016 v1.03, midpoint (I) no LT',\n  'photochemical oxidant formation: terrestrial ecosystems no LT',\n  'photochemical oxidant formation potential: ecosystems (EOFP) no LT'),\n ('ReCiPe 2016 v1.03, midpoint (I) no LT',\n  'water use no LT',\n  'water consumption potential (WCP) no LT'),\n ('TRACI v2.1', 'acidification', 'acidification potential (AP)'),\n ('TRACI v2.1', 'climate change', 'global warming potential (GWP100)'),\n ('TRACI v2.1', 'ecotoxicity: freshwater', 'ecotoxicity: freshwater'),\n ('TRACI v2.1', 'eutrophication', 'eutrophication potential'),\n ('TRACI v2.1',\n  'human toxicity: carcinogenic',\n  'human toxicity: carcinogenic'),\n ('TRACI v2.1',\n  'human toxicity: non-carcinogenic',\n  'human toxicity: non-carcinogenic'),\n ('TRACI v2.1', 'ozone depletion', 'ozone depletion potential (ODP)'),\n ('TRACI v2.1',\n  'particulate matter formation',\n  'particulate matter formation potential (PMFP)'),\n ('TRACI v2.1',\n  'photochemical oxidant formation',\n  'maximum incremental reactivity (MIR)'),\n ('TRACI v2.1 no LT',\n  'acidification no LT',\n  'acidification potential (AP) no LT'),\n ('TRACI v2.1 no LT',\n  'climate change no LT',\n  'global warming potential (GWP100) no LT'),\n ('TRACI v2.1 no LT',\n  'ecotoxicity: freshwater no LT',\n  'ecotoxicity: freshwater no LT'),\n ('TRACI v2.1 no LT',\n  'eutrophication no LT',\n  'eutrophication potential no LT'),\n ('TRACI v2.1 no LT',\n  'human toxicity: carcinogenic no LT',\n  'human toxicity: carcinogenic no LT'),\n ('TRACI v2.1 no LT',\n  'human toxicity: non-carcinogenic no LT',\n  'human toxicity: non-carcinogenic no LT'),\n ('TRACI v2.1 no LT',\n  'ozone depletion no LT',\n  'ozone depletion potential (ODP) no LT'),\n ('TRACI v2.1 no LT',\n  'particulate matter formation no LT',\n  'particulate matter formation potential (PMFP) no LT'),\n ('TRACI v2.1 no LT',\n  'photochemical oxidant formation no LT',\n  'maximum incremental reactivity (MIR) no LT'),\n ('USEtox', 'ecotoxicity', 'total'),\n ('USEtox', 'human toxicity', 'carcinogenic'),\n ('USEtox', 'human toxicity', 'non-carcinogenic'),\n ('USEtox', 'human toxicity', 'total'),\n ('USEtox no LT', 'ecotoxicity no LT', 'total no LT'),\n ('USEtox no LT', 'human toxicity no LT', 'carcinogenic no LT'),\n ('USEtox no LT', 'human toxicity no LT', 'non-carcinogenic no LT'),\n ('USEtox no LT', 'human toxicity no LT', 'total no LT'),\n ('selected LCI results', 'air', 'CO2, fossil'),\n ('selected LCI results', 'air', 'NMVOC'),\n ('selected LCI results', 'air', 'nitrogen oxides'),\n ('selected LCI results', 'air', 'particulates, < 2.5 um'),\n ('selected LCI results', 'air', 'sulphur dioxide'),\n ('selected LCI results', 'resource', 'land occupation'),\n ('selected LCI results', 'soil', 'cadmium'),\n ('selected LCI results', 'water', 'BOD'),\n ('selected LCI results, additional', 'air', 'N2O'),\n ('selected LCI results, additional', 'air', 'carbon monoxide'),\n ('selected LCI results, additional', 'air', 'lead'),\n ('selected LCI results, additional', 'air', 'methane'),\n ('selected LCI results, additional', 'air', 'particulates'),\n ('selected LCI results, additional', 'air', 'particulates >10 um'),\n ('selected LCI results, additional', 'air', 'particulates, >2.5 um and <10'),\n ('selected LCI results, additional', 'air', 'zinc'),\n ('selected LCI results, additional', 'air, radioactive', 'actinides'),\n ('selected LCI results, additional', 'air, radioactive', 'aerosole'),\n ('selected LCI results, additional', 'air, radioactive', 'noble gas'),\n ('selected LCI results, additional', 'air, radioactive', 'radon (+ radium)'),\n ('selected LCI results, additional', 'resource', 'carbon, biogenic, fixed'),\n ('selected LCI results, additional', 'resource', 'water'),\n ('selected LCI results, additional', 'total', 'heat, waste'),\n ('selected LCI results, additional', 'total', 'oils, unspecified'),\n ('selected LCI results, additional', 'water, radioactive', 'actinides'),\n ('selected LCI results, additional', 'water, radioactive', 'nuclides'),\n ('selected LCI results, additional', 'water, radioactive', 'radium'),\n ('selected LCI results, additional', 'water, radioactive', 'tritium')]"
     },
     "execution_count": 25,
     "metadata": {},
     "output_type": "execute_result"
    }
   ],
   "source": [
    "sorted(bd.methods)"
   ],
   "metadata": {
    "collapsed": false,
    "ExecuteTime": {
     "end_time": "2024-11-26T22:34:51.378899700Z",
     "start_time": "2024-11-26T22:34:51.331819200Z"
    }
   },
   "id": "ed98275cc37dc2a9"
  },
  {
   "cell_type": "markdown",
   "source": [
    "We now will have to make a selection of methods we want to include in our assessment. "
   ],
   "metadata": {
    "collapsed": false
   },
   "id": "a74a78919a8e54c8"
  },
  {
   "cell_type": "markdown",
   "id": "9a2edb6b-1695-43af-a3f9-5292c9006cd3",
   "metadata": {},
   "source": [
    "## 7.2 Single LCIA scores\n",
    "This is already enough to do an single LCA. We will calculate the impact of 1 Kwh produced by our energy mix comparing both the UP and the LCI databases. We will use one of the Recipe Midpoint methods for this.\n",
    "\n",
    "We have left 1 as the amount but we could also be changing this to any other value if we opt for a different functional unit."
   ]
  },
  {
   "cell_type": "code",
   "execution_count": 35,
   "id": "c8a87a8f-3386-4c4a-9077-63e0dbfa4953",
   "metadata": {
    "ExecuteTime": {
     "end_time": "2024-11-26T22:36:57.982004Z",
     "start_time": "2024-11-26T22:36:55.503127300Z"
    }
   },
   "outputs": [
    {
     "name": "stdout",
     "output_type": "stream",
     "text": [
      "4.596451056867587 kg CO2-Eq\n"
     ]
    }
   ],
   "source": [
    "mymethod=('ReCiPe 2016 v1.03, midpoint (E)',\n",
    "  'climate change',\n",
    "  'global warming potential (GWP1000)')\n",
    "\n",
    "my_functional_unit = {enermix: 1}\n",
    "\n",
    "lcaup = bc.LCA(demand=my_functional_unit, method=mymethod)\n",
    "lcaup.lci()\n",
    "lcaup.lcia()\n",
    "upscore = lcaup.score\n",
    "unit = bd.Method(mymethod).metadata[\"unit\"]\n",
    "print (upscore, unit)"
   ]
  },
  {
   "cell_type": "markdown",
   "source": [
    "We can also see the characterization matrix and the impact categories:"
   ],
   "metadata": {
    "collapsed": false
   },
   "id": "d33f492af3979b13"
  },
  {
   "cell_type": "code",
   "execution_count": 39,
   "outputs": [],
   "source": [
    "rowscolsup = lcaup.characterization_matrix.shape\n",
    "charmatrixup = lcaup.characterization_matrix"
   ],
   "metadata": {
    "collapsed": false,
    "ExecuteTime": {
     "end_time": "2024-11-26T22:39:14.938004500Z",
     "start_time": "2024-11-26T22:39:14.916333Z"
    }
   },
   "id": "2ab4b8e6290c97d2"
  },
  {
   "cell_type": "markdown",
   "source": [
    "We can now visualize the characterization matrix"
   ],
   "metadata": {
    "collapsed": false
   },
   "id": "674485976232bec6"
  },
  {
   "cell_type": "code",
   "execution_count": 41,
   "outputs": [
    {
     "data": {
      "text/plain": "      0     1     2     3     4     5     6     7     8     9     ...  2410  \\\n0      0.0   0.0   0.0   0.0   0.0   0.0   0.0   0.0   0.0   0.0  ...   0.0   \n1      0.0   0.0   0.0   0.0   0.0   0.0   0.0   0.0   0.0   0.0  ...   0.0   \n2      0.0   0.0   0.0   0.0   0.0   0.0   0.0   0.0   0.0   0.0  ...   0.0   \n3      0.0   0.0   0.0   0.0   0.0   0.0   0.0   0.0   0.0   0.0  ...   0.0   \n4      0.0   0.0   0.0   0.0   0.0   0.0   0.0   0.0   0.0   0.0  ...   0.0   \n...    ...   ...   ...   ...   ...   ...   ...   ...   ...   ...  ...   ...   \n2415   0.0   0.0   0.0   0.0   0.0   0.0   0.0   0.0   0.0   0.0  ...   0.0   \n2416   0.0   0.0   0.0   0.0   0.0   0.0   0.0   0.0   0.0   0.0  ...   0.0   \n2417   0.0   0.0   0.0   0.0   0.0   0.0   0.0   0.0   0.0   0.0  ...   0.0   \n2418   0.0   0.0   0.0   0.0   0.0   0.0   0.0   0.0   0.0   0.0  ...   0.0   \n2419   0.0   0.0   0.0   0.0   0.0   0.0   0.0   0.0   0.0   0.0  ...   0.0   \n\n      2411  2412  2413  2414  2415  2416  2417  2418  2419  \n0      0.0   0.0   0.0   0.0   0.0   0.0   0.0   0.0   0.0  \n1      0.0   0.0   0.0   0.0   0.0   0.0   0.0   0.0   0.0  \n2      0.0   0.0   0.0   0.0   0.0   0.0   0.0   0.0   0.0  \n3      0.0   0.0   0.0   0.0   0.0   0.0   0.0   0.0   0.0  \n4      0.0   0.0   0.0   0.0   0.0   0.0   0.0   0.0   0.0  \n...    ...   ...   ...   ...   ...   ...   ...   ...   ...  \n2415   0.0   0.0   0.0   0.0   0.0   0.0   0.0   0.0   0.0  \n2416   0.0   0.0   0.0   0.0   0.0   0.0   0.0   0.0   0.0  \n2417   0.0   0.0   0.0   0.0   0.0   0.0   0.0   0.0   0.0  \n2418   0.0   0.0   0.0   0.0   0.0   0.0   0.0   0.0   0.0  \n2419   0.0   0.0   0.0   0.0   0.0   0.0   0.0   0.0   0.0  \n\n[2420 rows x 2420 columns]",
      "text/html": "<div>\n<style scoped>\n    .dataframe tbody tr th:only-of-type {\n        vertical-align: middle;\n    }\n\n    .dataframe tbody tr th {\n        vertical-align: top;\n    }\n\n    .dataframe thead th {\n        text-align: right;\n    }\n</style>\n<table border=\"1\" class=\"dataframe\">\n  <thead>\n    <tr style=\"text-align: right;\">\n      <th></th>\n      <th>0</th>\n      <th>1</th>\n      <th>2</th>\n      <th>3</th>\n      <th>4</th>\n      <th>5</th>\n      <th>6</th>\n      <th>7</th>\n      <th>8</th>\n      <th>9</th>\n      <th>...</th>\n      <th>2410</th>\n      <th>2411</th>\n      <th>2412</th>\n      <th>2413</th>\n      <th>2414</th>\n      <th>2415</th>\n      <th>2416</th>\n      <th>2417</th>\n      <th>2418</th>\n      <th>2419</th>\n    </tr>\n  </thead>\n  <tbody>\n    <tr>\n      <th>0</th>\n      <td>0.0</td>\n      <td>0.0</td>\n      <td>0.0</td>\n      <td>0.0</td>\n      <td>0.0</td>\n      <td>0.0</td>\n      <td>0.0</td>\n      <td>0.0</td>\n      <td>0.0</td>\n      <td>0.0</td>\n      <td>...</td>\n      <td>0.0</td>\n      <td>0.0</td>\n      <td>0.0</td>\n      <td>0.0</td>\n      <td>0.0</td>\n      <td>0.0</td>\n      <td>0.0</td>\n      <td>0.0</td>\n      <td>0.0</td>\n      <td>0.0</td>\n    </tr>\n    <tr>\n      <th>1</th>\n      <td>0.0</td>\n      <td>0.0</td>\n      <td>0.0</td>\n      <td>0.0</td>\n      <td>0.0</td>\n      <td>0.0</td>\n      <td>0.0</td>\n      <td>0.0</td>\n      <td>0.0</td>\n      <td>0.0</td>\n      <td>...</td>\n      <td>0.0</td>\n      <td>0.0</td>\n      <td>0.0</td>\n      <td>0.0</td>\n      <td>0.0</td>\n      <td>0.0</td>\n      <td>0.0</td>\n      <td>0.0</td>\n      <td>0.0</td>\n      <td>0.0</td>\n    </tr>\n    <tr>\n      <th>2</th>\n      <td>0.0</td>\n      <td>0.0</td>\n      <td>0.0</td>\n      <td>0.0</td>\n      <td>0.0</td>\n      <td>0.0</td>\n      <td>0.0</td>\n      <td>0.0</td>\n      <td>0.0</td>\n      <td>0.0</td>\n      <td>...</td>\n      <td>0.0</td>\n      <td>0.0</td>\n      <td>0.0</td>\n      <td>0.0</td>\n      <td>0.0</td>\n      <td>0.0</td>\n      <td>0.0</td>\n      <td>0.0</td>\n      <td>0.0</td>\n      <td>0.0</td>\n    </tr>\n    <tr>\n      <th>3</th>\n      <td>0.0</td>\n      <td>0.0</td>\n      <td>0.0</td>\n      <td>0.0</td>\n      <td>0.0</td>\n      <td>0.0</td>\n      <td>0.0</td>\n      <td>0.0</td>\n      <td>0.0</td>\n      <td>0.0</td>\n      <td>...</td>\n      <td>0.0</td>\n      <td>0.0</td>\n      <td>0.0</td>\n      <td>0.0</td>\n      <td>0.0</td>\n      <td>0.0</td>\n      <td>0.0</td>\n      <td>0.0</td>\n      <td>0.0</td>\n      <td>0.0</td>\n    </tr>\n    <tr>\n      <th>4</th>\n      <td>0.0</td>\n      <td>0.0</td>\n      <td>0.0</td>\n      <td>0.0</td>\n      <td>0.0</td>\n      <td>0.0</td>\n      <td>0.0</td>\n      <td>0.0</td>\n      <td>0.0</td>\n      <td>0.0</td>\n      <td>...</td>\n      <td>0.0</td>\n      <td>0.0</td>\n      <td>0.0</td>\n      <td>0.0</td>\n      <td>0.0</td>\n      <td>0.0</td>\n      <td>0.0</td>\n      <td>0.0</td>\n      <td>0.0</td>\n      <td>0.0</td>\n    </tr>\n    <tr>\n      <th>...</th>\n      <td>...</td>\n      <td>...</td>\n      <td>...</td>\n      <td>...</td>\n      <td>...</td>\n      <td>...</td>\n      <td>...</td>\n      <td>...</td>\n      <td>...</td>\n      <td>...</td>\n      <td>...</td>\n      <td>...</td>\n      <td>...</td>\n      <td>...</td>\n      <td>...</td>\n      <td>...</td>\n      <td>...</td>\n      <td>...</td>\n      <td>...</td>\n      <td>...</td>\n      <td>...</td>\n    </tr>\n    <tr>\n      <th>2415</th>\n      <td>0.0</td>\n      <td>0.0</td>\n      <td>0.0</td>\n      <td>0.0</td>\n      <td>0.0</td>\n      <td>0.0</td>\n      <td>0.0</td>\n      <td>0.0</td>\n      <td>0.0</td>\n      <td>0.0</td>\n      <td>...</td>\n      <td>0.0</td>\n      <td>0.0</td>\n      <td>0.0</td>\n      <td>0.0</td>\n      <td>0.0</td>\n      <td>0.0</td>\n      <td>0.0</td>\n      <td>0.0</td>\n      <td>0.0</td>\n      <td>0.0</td>\n    </tr>\n    <tr>\n      <th>2416</th>\n      <td>0.0</td>\n      <td>0.0</td>\n      <td>0.0</td>\n      <td>0.0</td>\n      <td>0.0</td>\n      <td>0.0</td>\n      <td>0.0</td>\n      <td>0.0</td>\n      <td>0.0</td>\n      <td>0.0</td>\n      <td>...</td>\n      <td>0.0</td>\n      <td>0.0</td>\n      <td>0.0</td>\n      <td>0.0</td>\n      <td>0.0</td>\n      <td>0.0</td>\n      <td>0.0</td>\n      <td>0.0</td>\n      <td>0.0</td>\n      <td>0.0</td>\n    </tr>\n    <tr>\n      <th>2417</th>\n      <td>0.0</td>\n      <td>0.0</td>\n      <td>0.0</td>\n      <td>0.0</td>\n      <td>0.0</td>\n      <td>0.0</td>\n      <td>0.0</td>\n      <td>0.0</td>\n      <td>0.0</td>\n      <td>0.0</td>\n      <td>...</td>\n      <td>0.0</td>\n      <td>0.0</td>\n      <td>0.0</td>\n      <td>0.0</td>\n      <td>0.0</td>\n      <td>0.0</td>\n      <td>0.0</td>\n      <td>0.0</td>\n      <td>0.0</td>\n      <td>0.0</td>\n    </tr>\n    <tr>\n      <th>2418</th>\n      <td>0.0</td>\n      <td>0.0</td>\n      <td>0.0</td>\n      <td>0.0</td>\n      <td>0.0</td>\n      <td>0.0</td>\n      <td>0.0</td>\n      <td>0.0</td>\n      <td>0.0</td>\n      <td>0.0</td>\n      <td>...</td>\n      <td>0.0</td>\n      <td>0.0</td>\n      <td>0.0</td>\n      <td>0.0</td>\n      <td>0.0</td>\n      <td>0.0</td>\n      <td>0.0</td>\n      <td>0.0</td>\n      <td>0.0</td>\n      <td>0.0</td>\n    </tr>\n    <tr>\n      <th>2419</th>\n      <td>0.0</td>\n      <td>0.0</td>\n      <td>0.0</td>\n      <td>0.0</td>\n      <td>0.0</td>\n      <td>0.0</td>\n      <td>0.0</td>\n      <td>0.0</td>\n      <td>0.0</td>\n      <td>0.0</td>\n      <td>...</td>\n      <td>0.0</td>\n      <td>0.0</td>\n      <td>0.0</td>\n      <td>0.0</td>\n      <td>0.0</td>\n      <td>0.0</td>\n      <td>0.0</td>\n      <td>0.0</td>\n      <td>0.0</td>\n      <td>0.0</td>\n    </tr>\n  </tbody>\n</table>\n<p>2420 rows × 2420 columns</p>\n</div>"
     },
     "execution_count": 41,
     "metadata": {},
     "output_type": "execute_result"
    }
   ],
   "source": [
    "charmatrix_df = pd.DataFrame(lcaup.characterization_matrix.toarray())\n",
    "\n",
    "# Display the DataFrame as a table\n",
    "charmatrix_df"
   ],
   "metadata": {
    "collapsed": false,
    "ExecuteTime": {
     "end_time": "2024-11-26T22:40:22.677690800Z",
     "start_time": "2024-11-26T22:40:22.641588700Z"
    }
   },
   "id": "6308f135260532a8"
  },
  {
   "cell_type": "markdown",
   "source": [
    "Here is the matrix showing in rows the "
   ],
   "metadata": {
    "collapsed": false
   },
   "id": "ae622a292a3860e"
  },
  {
   "cell_type": "markdown",
   "source": [
    "## 7.3 Multi LCIA scores\n",
    "This is quite tedious and we want to automatize the calculation of the scores for all the methods we have in our project. \n",
    "We will start by identifying the methods we would like ot use for the assessment:"
   ],
   "metadata": {
    "collapsed": false
   },
   "id": "67cd57cd50c71ed4"
  },
  {
   "cell_type": "code",
   "execution_count": 57,
   "outputs": [
    {
     "data": {
      "text/plain": "[('ReCiPe 2016 v1.03, midpoint (H)',\n  'acidification: terrestrial',\n  'terrestrial acidification potential (TAP)'),\n ('ReCiPe 2016 v1.03, midpoint (H)',\n  'climate change',\n  'global warming potential (GWP1000)'),\n ('ReCiPe 2016 v1.03, midpoint (H)',\n  'ecotoxicity: freshwater',\n  'freshwater ecotoxicity potential (FETP)'),\n ('ReCiPe 2016 v1.03, midpoint (H)',\n  'ecotoxicity: marine',\n  'marine ecotoxicity potential (METP)'),\n ('ReCiPe 2016 v1.03, midpoint (H)',\n  'ecotoxicity: terrestrial',\n  'terrestrial ecotoxicity potential (TETP)'),\n ('ReCiPe 2016 v1.03, midpoint (H)',\n  'energy resources: non-renewable, fossil',\n  'fossil fuel potential (FFP)'),\n ('ReCiPe 2016 v1.03, midpoint (H)',\n  'eutrophication: freshwater',\n  'freshwater eutrophication potential (FEP)'),\n ('ReCiPe 2016 v1.03, midpoint (H)',\n  'eutrophication: marine',\n  'marine eutrophication potential (MEP)'),\n ('ReCiPe 2016 v1.03, midpoint (H)',\n  'human toxicity: carcinogenic',\n  'human toxicity potential (HTPc)'),\n ('ReCiPe 2016 v1.03, midpoint (H)',\n  'human toxicity: non-carcinogenic',\n  'human toxicity potential (HTPnc)'),\n ('ReCiPe 2016 v1.03, midpoint (H)',\n  'ionising radiation',\n  'ionising radiation potential (IRP)'),\n ('ReCiPe 2016 v1.03, midpoint (H)',\n  'land use',\n  'agricultural land occupation (LOP)'),\n ('ReCiPe 2016 v1.03, midpoint (H)',\n  'material resources: metals/minerals',\n  'surplus ore potential (SOP)'),\n ('ReCiPe 2016 v1.03, midpoint (H)',\n  'ozone depletion',\n  'ozone depletion potential (ODPinfinite)'),\n ('ReCiPe 2016 v1.03, midpoint (H)',\n  'particulate matter formation',\n  'particulate matter formation potential (PMFP)'),\n ('ReCiPe 2016 v1.03, midpoint (H)',\n  'photochemical oxidant formation: human health',\n  'photochemical oxidant formation potential: humans (HOFP)'),\n ('ReCiPe 2016 v1.03, midpoint (H)',\n  'photochemical oxidant formation: terrestrial ecosystems',\n  'photochemical oxidant formation potential: ecosystems (EOFP)'),\n ('ReCiPe 2016 v1.03, midpoint (H)',\n  'water use',\n  'water consumption potential (WCP)')]"
     },
     "execution_count": 57,
     "metadata": {},
     "output_type": "execute_result"
    }
   ],
   "source": [
    "my_functional_unit = {enermix: 1}\n",
    "my_methods = [method for method in bd.methods if method[0] == 'ReCiPe 2016 v1.03, midpoint (H)']\n",
    "my_methods"
   ],
   "metadata": {
    "collapsed": false,
    "ExecuteTime": {
     "end_time": "2024-11-26T22:58:05.109624700Z",
     "start_time": "2024-11-26T22:58:05.093618600Z"
    }
   },
   "id": "b90d881c9263050c"
  },
  {
   "cell_type": "markdown",
   "source": [
    "Now we can calculate the scores for the methods we have selected:"
   ],
   "metadata": {
    "collapsed": false
   },
   "id": "fe8a0dd8286cbef0"
  },
  {
   "cell_type": "code",
   "execution_count": 60,
   "outputs": [
    {
     "name": "stdout",
     "output_type": "stream",
     "text": [
      "                                               Method       Score\n",
      "0   (ReCiPe 2016 v1.03, midpoint (H), acidificatio...    0.047025\n",
      "1   (ReCiPe 2016 v1.03, midpoint (H), climate chan...    5.098535\n",
      "2   (ReCiPe 2016 v1.03, midpoint (H), ecotoxicity:...    2.560546\n",
      "3   (ReCiPe 2016 v1.03, midpoint (H), ecotoxicity:...    3.505242\n",
      "4   (ReCiPe 2016 v1.03, midpoint (H), ecotoxicity:...  144.626386\n",
      "5   (ReCiPe 2016 v1.03, midpoint (H), energy resou...    1.469639\n",
      "6   (ReCiPe 2016 v1.03, midpoint (H), eutrophicati...    0.003982\n",
      "7   (ReCiPe 2016 v1.03, midpoint (H), eutrophicati...    0.000243\n",
      "8   (ReCiPe 2016 v1.03, midpoint (H), human toxici...    1.018486\n",
      "9   (ReCiPe 2016 v1.03, midpoint (H), human toxici...  108.924636\n",
      "10  (ReCiPe 2016 v1.03, midpoint (H), ionising rad...    0.570723\n",
      "11  (ReCiPe 2016 v1.03, midpoint (H), land use, ag...    0.244537\n",
      "12  (ReCiPe 2016 v1.03, midpoint (H), material res...    0.592252\n",
      "13  (ReCiPe 2016 v1.03, midpoint (H), ozone deplet...    0.000002\n",
      "14  (ReCiPe 2016 v1.03, midpoint (H), particulate ...    0.018368\n",
      "15  (ReCiPe 2016 v1.03, midpoint (H), photochemica...    0.013541\n",
      "16  (ReCiPe 2016 v1.03, midpoint (H), photochemica...    0.014060\n",
      "17  (ReCiPe 2016 v1.03, midpoint (H), water use, w...    0.059683\n"
     ]
    }
   ],
   "source": [
    "scores = {}\n",
    "\n",
    "# Iterate over each method to calculate the LCA score\n",
    "for method in my_methods:\n",
    "    lca = bc.LCA(demand=my_functional_unit, method=method)\n",
    "    lca.lci()\n",
    "    lca.lcia()\n",
    "    scores[method] = lca.score\n",
    "\n",
    "# Convert the results to a DataFrame for easier analysis\n",
    "results_df = pd.DataFrame(list(scores.items()), columns=['Method', 'Score'])\n",
    "\n",
    "# Display the results\n",
    "print(results_df)"
   ],
   "metadata": {
    "collapsed": false,
    "ExecuteTime": {
     "end_time": "2024-11-26T23:04:30.712711500Z",
     "start_time": "2024-11-26T23:03:46.081736Z"
    }
   },
   "id": "2a0b169eb714df3d"
  },
  {
   "cell_type": "markdown",
   "source": [
    "## 7.4 Contribution analysis\n",
    "We are not only interested in the total scores but also in the contribution of each process to the total score. "
   ],
   "metadata": {
    "collapsed": false
   },
   "id": "b11c0a0a8ede73d"
  },
  {
   "cell_type": "code",
   "execution_count": 105,
   "outputs": [
    {
     "data": {
      "text/plain": "              label         parent     score  fraction    amount  \\\n0              root           None  3.505242  1.000000  1.000000   \n1            root_c           root  3.490506  0.995796  2.000000   \n2          root_c_f         root_c  0.465891  0.132913  0.010000   \n3        root_c_f_b       root_c_f  0.215682  0.061531  0.001705   \n4      root_c_f_b_s     root_c_f_b  0.055992  0.015974 -0.242137   \n5    root_c_f_b_s_a   root_c_f_b_s  0.055992  0.015974 -0.242137   \n6      root_c_f_b_y     root_c_f_b  0.043235  0.012334 -0.186510   \n7    root_c_f_b_y_a   root_c_f_b_y  0.043235  0.012334 -0.186510   \n8        root_c_f_l       root_c_f  0.240821  0.068703  0.006050   \n9      root_c_f_l_c     root_c_f_l  0.239681  0.068378  0.006005   \n10   root_c_f_l_c_a   root_c_f_l_c  0.085884  0.024501  0.002240   \n11   root_c_f_l_c_b   root_c_f_l_c  0.101042  0.028826  0.002284   \n12         root_c_g         root_c  0.044882  0.012804  2.550000   \n13         root_c_l         root_c  2.476521  0.706519  1.420000   \n14       root_c_l_c       root_c_l  2.270992  0.647885  0.565448   \n15     root_c_l_c_e     root_c_l_c  2.200852  0.627874  0.940499   \n16   root_c_l_c_e_b   root_c_l_c_e  1.869716  0.533406  0.782570   \n17   root_c_l_c_e_d   root_c_l_c_e  0.309330  0.088248  0.143209   \n18     root_c_l_c_f     root_c_l_c  0.054604  0.015578 -0.214826   \n19   root_c_l_c_f_a   root_c_l_c_f  0.054571  0.015569 -0.214826   \n20       root_c_l_d       root_c_l  0.176550  0.050367  0.071642   \n21    root_c_l_d_kc     root_c_l_d  0.163923  0.046765  0.068000   \n22  root_c_l_d_kc_h  root_c_l_d_kc  0.161955  0.046204  0.067073   \n23         root_c_q         root_c  0.272371  0.077704  0.000200   \n24       root_c_q_c       root_c_q  0.252143  0.071933  0.000150   \n25    root_c_q_c_as     root_c_q_c  0.041762  0.011914 -0.210620   \n26  root_c_q_c_as_a  root_c_q_c_as  0.041762  0.011914 -0.210620   \n27    root_c_q_c_au     root_c_q_c  0.134752  0.038443 -0.679696   \n28  root_c_q_c_au_a  root_c_q_c_au  0.134752  0.038443 -0.679696   \n29         root_c_s         root_c  0.037502  0.010699  0.126000   \n30         root_c_t         root_c  0.118473  0.033799  0.008000   \n31       root_c_t_b       root_c_t  0.111783  0.031890  0.007545   \n32    root_c_t_b_bf     root_c_t_b  0.111376  0.031774  0.015595   \n33  root_c_t_b_bf_a  root_c_t_b_bf  0.111340  0.031764  0.015595   \n\n                                                 name  \\\n0                              Energy Mix Spain RICSE   \n1   battery production, lead acid, rechargeable, s...   \n2                          market for copper, cathode   \n3   copper production, cathode, solvent extraction...   \n4   market for sulfidic tailings, from copper mine...   \n5   treatment of sulfidic tailings, from copper mi...   \n6   market for sulfidic tailings, from copper mine...   \n7   treatment of sulfidic tailings, from copper mi...   \n8                    electrorefining of copper, anode   \n9                            market for copper, anode   \n10        smelting of copper concentrate, sulfide ore   \n11        smelting of copper concentrate, sulfide ore   \n12       market group for electricity, medium voltage   \n13                                    market for lead   \n14           primary lead production from concentrate   \n15                        market for lead concentrate   \n16                                zinc mine operation   \n17              silver mine operation with extraction   \n18                       market for lead smelter slag   \n19  treatment of lead smelter slag, residual mater...   \n20           primary zinc production from concentrate   \n21                        market for zinc concentrate   \n22                                zinc mine operation   \n23                                  market for silver   \n24           silver-gold mine operation with refinery   \n25  market for sulfidic tailings, from silver mine...   \n26  treatment of sulfidic tailings, from silver mi...   \n27  market for sulfidic tailings, from silver mine...   \n28  treatment of sulfidic tailings, from silver mi...   \n29                           market for sulfuric acid   \n30                                     market for tin   \n31                                     tin production   \n32                         market for tin concentrate   \n33                                 tin mine operation   \n\n                                                  key  \n0                      (myfg_db, energy mix SP ricse)  \n1   (ei_391_cutoff, eb8e90990c77f3710bbe07cd2e866ba1)  \n2   (ei_391_cutoff, 8b62f30ed586a5f23611ef196cc97b93)  \n3   (ei_391_cutoff, b3abcc9039e33e44a31c2f47a7106bb1)  \n4   (ei_391_cutoff, 8d757c61c1baccc26447217cc0a63488)  \n5   (ei_391_cutoff, 28a584909463426e3f43c1a8c6ce020c)  \n6   (ei_391_cutoff, a7a72ef65e0cad7c6cd45a77fd84e4d4)  \n7   (ei_391_cutoff, 3ccd8ad1852f5bd019a2ebf26393c029)  \n8   (ei_391_cutoff, a594f63d4bf82f582375545495ac230a)  \n9   (ei_391_cutoff, 6d673652ae29f74dc59fb0fc229bf6db)  \n10  (ei_391_cutoff, 4de8bcff4e2682173961fa7469f1b30a)  \n11  (ei_391_cutoff, b917c4e54d3db7125f4270b08f35910a)  \n12  (ei_391_cutoff, 2df74714a5a7c8cc88d704fee4a848dd)  \n13  (ei_391_cutoff, fbb0f24cb8a09b37b43d853dea138347)  \n14  (ei_391_cutoff, 8311780013b1bafd8a33cf5072e04705)  \n15  (ei_391_cutoff, da0aef15e575e0900e7eee0297941ba9)  \n16  (ei_391_cutoff, 5e2a286ad07c0dc32aaa224149b8f920)  \n17  (ei_391_cutoff, 28e06008393ea8928f04a2f7f1ce790d)  \n18  (ei_391_cutoff, 467e2807c618b1740f07d06dd20282dc)  \n19  (ei_391_cutoff, 77669877f6669d92a322517ece9c2110)  \n20  (ei_391_cutoff, f9aedfddfde4336bda343e418ddefe81)  \n21  (ei_391_cutoff, 4bbab70f8c40533af6f5dc3018d8139f)  \n22  (ei_391_cutoff, 995d28c3395fcf3a9f7919e1f67ee76a)  \n23  (ei_391_cutoff, e82e91c0b572e044b71a69b32bf53388)  \n24  (ei_391_cutoff, f64ea10b36c9b6f772a93f90ca059a14)  \n25  (ei_391_cutoff, 841a03cd914a93b03ce15aff491b62ad)  \n26  (ei_391_cutoff, a71311350cde020b1cdbeeaf46189bb5)  \n27  (ei_391_cutoff, 179f60cce3f6d3506eb68a1017b432ce)  \n28  (ei_391_cutoff, da2cea65b78698349ef2838002ff2f33)  \n29  (ei_391_cutoff, bd7dddfe46e52010e6555a437bd04f4e)  \n30  (ei_391_cutoff, ddff069daa805b575e737187192b3402)  \n31  (ei_391_cutoff, 8eae74dc7bc4adedb97d688eb000bffa)  \n32  (ei_391_cutoff, 1bc863a377c63072694d33d69f9fd94f)  \n33  (ei_391_cutoff, 2bcd4f3cc31080dab4f16f13441fe19b)  ",
      "text/html": "<div>\n<style scoped>\n    .dataframe tbody tr th:only-of-type {\n        vertical-align: middle;\n    }\n\n    .dataframe tbody tr th {\n        vertical-align: top;\n    }\n\n    .dataframe thead th {\n        text-align: right;\n    }\n</style>\n<table border=\"1\" class=\"dataframe\">\n  <thead>\n    <tr style=\"text-align: right;\">\n      <th></th>\n      <th>label</th>\n      <th>parent</th>\n      <th>score</th>\n      <th>fraction</th>\n      <th>amount</th>\n      <th>name</th>\n      <th>key</th>\n    </tr>\n  </thead>\n  <tbody>\n    <tr>\n      <th>0</th>\n      <td>root</td>\n      <td>None</td>\n      <td>3.505242</td>\n      <td>1.000000</td>\n      <td>1.000000</td>\n      <td>Energy Mix Spain RICSE</td>\n      <td>(myfg_db, energy mix SP ricse)</td>\n    </tr>\n    <tr>\n      <th>1</th>\n      <td>root_c</td>\n      <td>root</td>\n      <td>3.490506</td>\n      <td>0.995796</td>\n      <td>2.000000</td>\n      <td>battery production, lead acid, rechargeable, s...</td>\n      <td>(ei_391_cutoff, eb8e90990c77f3710bbe07cd2e866ba1)</td>\n    </tr>\n    <tr>\n      <th>2</th>\n      <td>root_c_f</td>\n      <td>root_c</td>\n      <td>0.465891</td>\n      <td>0.132913</td>\n      <td>0.010000</td>\n      <td>market for copper, cathode</td>\n      <td>(ei_391_cutoff, 8b62f30ed586a5f23611ef196cc97b93)</td>\n    </tr>\n    <tr>\n      <th>3</th>\n      <td>root_c_f_b</td>\n      <td>root_c_f</td>\n      <td>0.215682</td>\n      <td>0.061531</td>\n      <td>0.001705</td>\n      <td>copper production, cathode, solvent extraction...</td>\n      <td>(ei_391_cutoff, b3abcc9039e33e44a31c2f47a7106bb1)</td>\n    </tr>\n    <tr>\n      <th>4</th>\n      <td>root_c_f_b_s</td>\n      <td>root_c_f_b</td>\n      <td>0.055992</td>\n      <td>0.015974</td>\n      <td>-0.242137</td>\n      <td>market for sulfidic tailings, from copper mine...</td>\n      <td>(ei_391_cutoff, 8d757c61c1baccc26447217cc0a63488)</td>\n    </tr>\n    <tr>\n      <th>5</th>\n      <td>root_c_f_b_s_a</td>\n      <td>root_c_f_b_s</td>\n      <td>0.055992</td>\n      <td>0.015974</td>\n      <td>-0.242137</td>\n      <td>treatment of sulfidic tailings, from copper mi...</td>\n      <td>(ei_391_cutoff, 28a584909463426e3f43c1a8c6ce020c)</td>\n    </tr>\n    <tr>\n      <th>6</th>\n      <td>root_c_f_b_y</td>\n      <td>root_c_f_b</td>\n      <td>0.043235</td>\n      <td>0.012334</td>\n      <td>-0.186510</td>\n      <td>market for sulfidic tailings, from copper mine...</td>\n      <td>(ei_391_cutoff, a7a72ef65e0cad7c6cd45a77fd84e4d4)</td>\n    </tr>\n    <tr>\n      <th>7</th>\n      <td>root_c_f_b_y_a</td>\n      <td>root_c_f_b_y</td>\n      <td>0.043235</td>\n      <td>0.012334</td>\n      <td>-0.186510</td>\n      <td>treatment of sulfidic tailings, from copper mi...</td>\n      <td>(ei_391_cutoff, 3ccd8ad1852f5bd019a2ebf26393c029)</td>\n    </tr>\n    <tr>\n      <th>8</th>\n      <td>root_c_f_l</td>\n      <td>root_c_f</td>\n      <td>0.240821</td>\n      <td>0.068703</td>\n      <td>0.006050</td>\n      <td>electrorefining of copper, anode</td>\n      <td>(ei_391_cutoff, a594f63d4bf82f582375545495ac230a)</td>\n    </tr>\n    <tr>\n      <th>9</th>\n      <td>root_c_f_l_c</td>\n      <td>root_c_f_l</td>\n      <td>0.239681</td>\n      <td>0.068378</td>\n      <td>0.006005</td>\n      <td>market for copper, anode</td>\n      <td>(ei_391_cutoff, 6d673652ae29f74dc59fb0fc229bf6db)</td>\n    </tr>\n    <tr>\n      <th>10</th>\n      <td>root_c_f_l_c_a</td>\n      <td>root_c_f_l_c</td>\n      <td>0.085884</td>\n      <td>0.024501</td>\n      <td>0.002240</td>\n      <td>smelting of copper concentrate, sulfide ore</td>\n      <td>(ei_391_cutoff, 4de8bcff4e2682173961fa7469f1b30a)</td>\n    </tr>\n    <tr>\n      <th>11</th>\n      <td>root_c_f_l_c_b</td>\n      <td>root_c_f_l_c</td>\n      <td>0.101042</td>\n      <td>0.028826</td>\n      <td>0.002284</td>\n      <td>smelting of copper concentrate, sulfide ore</td>\n      <td>(ei_391_cutoff, b917c4e54d3db7125f4270b08f35910a)</td>\n    </tr>\n    <tr>\n      <th>12</th>\n      <td>root_c_g</td>\n      <td>root_c</td>\n      <td>0.044882</td>\n      <td>0.012804</td>\n      <td>2.550000</td>\n      <td>market group for electricity, medium voltage</td>\n      <td>(ei_391_cutoff, 2df74714a5a7c8cc88d704fee4a848dd)</td>\n    </tr>\n    <tr>\n      <th>13</th>\n      <td>root_c_l</td>\n      <td>root_c</td>\n      <td>2.476521</td>\n      <td>0.706519</td>\n      <td>1.420000</td>\n      <td>market for lead</td>\n      <td>(ei_391_cutoff, fbb0f24cb8a09b37b43d853dea138347)</td>\n    </tr>\n    <tr>\n      <th>14</th>\n      <td>root_c_l_c</td>\n      <td>root_c_l</td>\n      <td>2.270992</td>\n      <td>0.647885</td>\n      <td>0.565448</td>\n      <td>primary lead production from concentrate</td>\n      <td>(ei_391_cutoff, 8311780013b1bafd8a33cf5072e04705)</td>\n    </tr>\n    <tr>\n      <th>15</th>\n      <td>root_c_l_c_e</td>\n      <td>root_c_l_c</td>\n      <td>2.200852</td>\n      <td>0.627874</td>\n      <td>0.940499</td>\n      <td>market for lead concentrate</td>\n      <td>(ei_391_cutoff, da0aef15e575e0900e7eee0297941ba9)</td>\n    </tr>\n    <tr>\n      <th>16</th>\n      <td>root_c_l_c_e_b</td>\n      <td>root_c_l_c_e</td>\n      <td>1.869716</td>\n      <td>0.533406</td>\n      <td>0.782570</td>\n      <td>zinc mine operation</td>\n      <td>(ei_391_cutoff, 5e2a286ad07c0dc32aaa224149b8f920)</td>\n    </tr>\n    <tr>\n      <th>17</th>\n      <td>root_c_l_c_e_d</td>\n      <td>root_c_l_c_e</td>\n      <td>0.309330</td>\n      <td>0.088248</td>\n      <td>0.143209</td>\n      <td>silver mine operation with extraction</td>\n      <td>(ei_391_cutoff, 28e06008393ea8928f04a2f7f1ce790d)</td>\n    </tr>\n    <tr>\n      <th>18</th>\n      <td>root_c_l_c_f</td>\n      <td>root_c_l_c</td>\n      <td>0.054604</td>\n      <td>0.015578</td>\n      <td>-0.214826</td>\n      <td>market for lead smelter slag</td>\n      <td>(ei_391_cutoff, 467e2807c618b1740f07d06dd20282dc)</td>\n    </tr>\n    <tr>\n      <th>19</th>\n      <td>root_c_l_c_f_a</td>\n      <td>root_c_l_c_f</td>\n      <td>0.054571</td>\n      <td>0.015569</td>\n      <td>-0.214826</td>\n      <td>treatment of lead smelter slag, residual mater...</td>\n      <td>(ei_391_cutoff, 77669877f6669d92a322517ece9c2110)</td>\n    </tr>\n    <tr>\n      <th>20</th>\n      <td>root_c_l_d</td>\n      <td>root_c_l</td>\n      <td>0.176550</td>\n      <td>0.050367</td>\n      <td>0.071642</td>\n      <td>primary zinc production from concentrate</td>\n      <td>(ei_391_cutoff, f9aedfddfde4336bda343e418ddefe81)</td>\n    </tr>\n    <tr>\n      <th>21</th>\n      <td>root_c_l_d_kc</td>\n      <td>root_c_l_d</td>\n      <td>0.163923</td>\n      <td>0.046765</td>\n      <td>0.068000</td>\n      <td>market for zinc concentrate</td>\n      <td>(ei_391_cutoff, 4bbab70f8c40533af6f5dc3018d8139f)</td>\n    </tr>\n    <tr>\n      <th>22</th>\n      <td>root_c_l_d_kc_h</td>\n      <td>root_c_l_d_kc</td>\n      <td>0.161955</td>\n      <td>0.046204</td>\n      <td>0.067073</td>\n      <td>zinc mine operation</td>\n      <td>(ei_391_cutoff, 995d28c3395fcf3a9f7919e1f67ee76a)</td>\n    </tr>\n    <tr>\n      <th>23</th>\n      <td>root_c_q</td>\n      <td>root_c</td>\n      <td>0.272371</td>\n      <td>0.077704</td>\n      <td>0.000200</td>\n      <td>market for silver</td>\n      <td>(ei_391_cutoff, e82e91c0b572e044b71a69b32bf53388)</td>\n    </tr>\n    <tr>\n      <th>24</th>\n      <td>root_c_q_c</td>\n      <td>root_c_q</td>\n      <td>0.252143</td>\n      <td>0.071933</td>\n      <td>0.000150</td>\n      <td>silver-gold mine operation with refinery</td>\n      <td>(ei_391_cutoff, f64ea10b36c9b6f772a93f90ca059a14)</td>\n    </tr>\n    <tr>\n      <th>25</th>\n      <td>root_c_q_c_as</td>\n      <td>root_c_q_c</td>\n      <td>0.041762</td>\n      <td>0.011914</td>\n      <td>-0.210620</td>\n      <td>market for sulfidic tailings, from silver mine...</td>\n      <td>(ei_391_cutoff, 841a03cd914a93b03ce15aff491b62ad)</td>\n    </tr>\n    <tr>\n      <th>26</th>\n      <td>root_c_q_c_as_a</td>\n      <td>root_c_q_c_as</td>\n      <td>0.041762</td>\n      <td>0.011914</td>\n      <td>-0.210620</td>\n      <td>treatment of sulfidic tailings, from silver mi...</td>\n      <td>(ei_391_cutoff, a71311350cde020b1cdbeeaf46189bb5)</td>\n    </tr>\n    <tr>\n      <th>27</th>\n      <td>root_c_q_c_au</td>\n      <td>root_c_q_c</td>\n      <td>0.134752</td>\n      <td>0.038443</td>\n      <td>-0.679696</td>\n      <td>market for sulfidic tailings, from silver mine...</td>\n      <td>(ei_391_cutoff, 179f60cce3f6d3506eb68a1017b432ce)</td>\n    </tr>\n    <tr>\n      <th>28</th>\n      <td>root_c_q_c_au_a</td>\n      <td>root_c_q_c_au</td>\n      <td>0.134752</td>\n      <td>0.038443</td>\n      <td>-0.679696</td>\n      <td>treatment of sulfidic tailings, from silver mi...</td>\n      <td>(ei_391_cutoff, da2cea65b78698349ef2838002ff2f33)</td>\n    </tr>\n    <tr>\n      <th>29</th>\n      <td>root_c_s</td>\n      <td>root_c</td>\n      <td>0.037502</td>\n      <td>0.010699</td>\n      <td>0.126000</td>\n      <td>market for sulfuric acid</td>\n      <td>(ei_391_cutoff, bd7dddfe46e52010e6555a437bd04f4e)</td>\n    </tr>\n    <tr>\n      <th>30</th>\n      <td>root_c_t</td>\n      <td>root_c</td>\n      <td>0.118473</td>\n      <td>0.033799</td>\n      <td>0.008000</td>\n      <td>market for tin</td>\n      <td>(ei_391_cutoff, ddff069daa805b575e737187192b3402)</td>\n    </tr>\n    <tr>\n      <th>31</th>\n      <td>root_c_t_b</td>\n      <td>root_c_t</td>\n      <td>0.111783</td>\n      <td>0.031890</td>\n      <td>0.007545</td>\n      <td>tin production</td>\n      <td>(ei_391_cutoff, 8eae74dc7bc4adedb97d688eb000bffa)</td>\n    </tr>\n    <tr>\n      <th>32</th>\n      <td>root_c_t_b_bf</td>\n      <td>root_c_t_b</td>\n      <td>0.111376</td>\n      <td>0.031774</td>\n      <td>0.015595</td>\n      <td>market for tin concentrate</td>\n      <td>(ei_391_cutoff, 1bc863a377c63072694d33d69f9fd94f)</td>\n    </tr>\n    <tr>\n      <th>33</th>\n      <td>root_c_t_b_bf_a</td>\n      <td>root_c_t_b_bf</td>\n      <td>0.111340</td>\n      <td>0.031764</td>\n      <td>0.015595</td>\n      <td>tin mine operation</td>\n      <td>(ei_391_cutoff, 2bcd4f3cc31080dab4f16f13441fe19b)</td>\n    </tr>\n  </tbody>\n</table>\n</div>"
     },
     "execution_count": 105,
     "metadata": {},
     "output_type": "execute_result"
    }
   ],
   "source": [
    "ca = bwa.utils.recursive_calculation_to_object((enermix.key),\n",
    "    my_methods[3],\n",
    "    amount=1,  # How much of the activity? (same as in our FU)\n",
    "    max_level=5,  # How many levels deep in the CA do you want to go?\n",
    ")\n",
    "cadata=pd.DataFrame(ca)\n",
    "cadata"
   ],
   "metadata": {
    "collapsed": false,
    "ExecuteTime": {
     "end_time": "2024-11-27T00:44:22.663492700Z",
     "start_time": "2024-11-27T00:14:07.756039700Z"
    }
   },
   "id": "3e34f88874307942"
  },
  {
   "cell_type": "markdown",
   "source": [
    "We can now plot and explore the results:"
   ],
   "metadata": {
    "collapsed": false
   },
   "id": "3f33ce8f5e8d83ba"
  },
  {
   "cell_type": "code",
   "execution_count": 110,
   "outputs": [
    {
     "data": {
      "application/vnd.plotly.v1+json": {
       "data": [
        {
         "link": {
          "source": [
           34,
           0,
           1,
           2,
           3,
           4,
           1,
           4,
           1,
           8,
           6,
           10,
           6,
           2,
           13,
           14,
           17,
           9,
           1,
           18,
           19,
           20,
           11,
           11,
           12,
           24,
           3,
           26,
           1,
           30,
           12,
           9,
           31,
           1
          ],
          "target": [
           0,
           1,
           2,
           3,
           4,
           5,
           6,
           7,
           8,
           9,
           10,
           11,
           12,
           13,
           14,
           15,
           16,
           17,
           18,
           19,
           20,
           21,
           22,
           23,
           24,
           25,
           26,
           27,
           28,
           29,
           30,
           31,
           32,
           33
          ],
          "value": [
           3.5052417450803866,
           3.490505957373084,
           2.476521110839897,
           2.270992100307674,
           2.200851623979006,
           1.8697160222049451,
           0.4658905912282125,
           0.309329567625276,
           0.27237052851373517,
           0.2521433228940766,
           0.24082051639643154,
           0.23968080384567736,
           0.21568224751937026,
           0.17654950636582376,
           0.1639230307462517,
           0.16195514406030434,
           0.13475156461429627,
           0.13475156461392962,
           0.11847262505860669,
           0.11178320255281607,
           0.11137647055796221,
           0.1113404532191196,
           0.10104177705036324,
           0.08588362597510293,
           0.05599234416561417,
           0.05599234416070389,
           0.054604057467467035,
           0.05457145599130511,
           0.044881837609030695,
           0.04323497043151168,
           0.04323497043151168,
           0.04176223368511661,
           0.04176223368511661,
           0.03750222713823138
          ]
         },
         "node": {
          "label": [
           "Energy Mix Spain RICSE",
           "battery production, lead acid, rechargeable, stationary",
           "market for lead",
           "primary lead production from concentrate",
           "market for lead concentrate",
           "zinc mine operation",
           "market for copper, cathode",
           "silver mine operation with extraction",
           "market for silver",
           "silver-gold mine operation with refinery",
           "electrorefining of copper, anode",
           "market for copper, anode",
           "copper production, cathode, solvent extraction and electrowinning process",
           "primary zinc production from concentrate",
           "market for zinc concentrate",
           "zinc mine operation",
           "treatment of sulfidic tailings, from silver mine operation, tailings impoundment",
           "market for sulfidic tailings, from silver mine operation",
           "market for tin",
           "tin production",
           "market for tin concentrate",
           "tin mine operation",
           "smelting of copper concentrate, sulfide ore",
           "smelting of copper concentrate, sulfide ore",
           "market for sulfidic tailings, from copper mine operation",
           "treatment of sulfidic tailings, from copper mine operation, tailings impoundment",
           "market for lead smelter slag",
           "treatment of lead smelter slag, residual material landfill",
           "market group for electricity, medium voltage",
           "treatment of sulfidic tailings, from copper mine operation, tailings impoundment",
           "market for sulfidic tailings, from copper mine operation",
           "market for sulfidic tailings, from silver mine operation",
           "treatment of sulfidic tailings, from silver mine operation, tailings impoundment",
           "market for sulfuric acid",
           null
          ],
          "line": {
           "color": "black",
           "width": 0.5
          },
          "pad": 15,
          "thickness": 20
         },
         "type": "sankey"
        }
       ],
       "layout": {
        "template": {
         "data": {
          "histogram2dcontour": [
           {
            "type": "histogram2dcontour",
            "colorbar": {
             "outlinewidth": 0,
             "ticks": ""
            },
            "colorscale": [
             [
              0.0,
              "#0d0887"
             ],
             [
              0.1111111111111111,
              "#46039f"
             ],
             [
              0.2222222222222222,
              "#7201a8"
             ],
             [
              0.3333333333333333,
              "#9c179e"
             ],
             [
              0.4444444444444444,
              "#bd3786"
             ],
             [
              0.5555555555555556,
              "#d8576b"
             ],
             [
              0.6666666666666666,
              "#ed7953"
             ],
             [
              0.7777777777777778,
              "#fb9f3a"
             ],
             [
              0.8888888888888888,
              "#fdca26"
             ],
             [
              1.0,
              "#f0f921"
             ]
            ]
           }
          ],
          "choropleth": [
           {
            "type": "choropleth",
            "colorbar": {
             "outlinewidth": 0,
             "ticks": ""
            }
           }
          ],
          "histogram2d": [
           {
            "type": "histogram2d",
            "colorbar": {
             "outlinewidth": 0,
             "ticks": ""
            },
            "colorscale": [
             [
              0.0,
              "#0d0887"
             ],
             [
              0.1111111111111111,
              "#46039f"
             ],
             [
              0.2222222222222222,
              "#7201a8"
             ],
             [
              0.3333333333333333,
              "#9c179e"
             ],
             [
              0.4444444444444444,
              "#bd3786"
             ],
             [
              0.5555555555555556,
              "#d8576b"
             ],
             [
              0.6666666666666666,
              "#ed7953"
             ],
             [
              0.7777777777777778,
              "#fb9f3a"
             ],
             [
              0.8888888888888888,
              "#fdca26"
             ],
             [
              1.0,
              "#f0f921"
             ]
            ]
           }
          ],
          "heatmap": [
           {
            "type": "heatmap",
            "colorbar": {
             "outlinewidth": 0,
             "ticks": ""
            },
            "colorscale": [
             [
              0.0,
              "#0d0887"
             ],
             [
              0.1111111111111111,
              "#46039f"
             ],
             [
              0.2222222222222222,
              "#7201a8"
             ],
             [
              0.3333333333333333,
              "#9c179e"
             ],
             [
              0.4444444444444444,
              "#bd3786"
             ],
             [
              0.5555555555555556,
              "#d8576b"
             ],
             [
              0.6666666666666666,
              "#ed7953"
             ],
             [
              0.7777777777777778,
              "#fb9f3a"
             ],
             [
              0.8888888888888888,
              "#fdca26"
             ],
             [
              1.0,
              "#f0f921"
             ]
            ]
           }
          ],
          "heatmapgl": [
           {
            "type": "heatmapgl",
            "colorbar": {
             "outlinewidth": 0,
             "ticks": ""
            },
            "colorscale": [
             [
              0.0,
              "#0d0887"
             ],
             [
              0.1111111111111111,
              "#46039f"
             ],
             [
              0.2222222222222222,
              "#7201a8"
             ],
             [
              0.3333333333333333,
              "#9c179e"
             ],
             [
              0.4444444444444444,
              "#bd3786"
             ],
             [
              0.5555555555555556,
              "#d8576b"
             ],
             [
              0.6666666666666666,
              "#ed7953"
             ],
             [
              0.7777777777777778,
              "#fb9f3a"
             ],
             [
              0.8888888888888888,
              "#fdca26"
             ],
             [
              1.0,
              "#f0f921"
             ]
            ]
           }
          ],
          "contourcarpet": [
           {
            "type": "contourcarpet",
            "colorbar": {
             "outlinewidth": 0,
             "ticks": ""
            }
           }
          ],
          "contour": [
           {
            "type": "contour",
            "colorbar": {
             "outlinewidth": 0,
             "ticks": ""
            },
            "colorscale": [
             [
              0.0,
              "#0d0887"
             ],
             [
              0.1111111111111111,
              "#46039f"
             ],
             [
              0.2222222222222222,
              "#7201a8"
             ],
             [
              0.3333333333333333,
              "#9c179e"
             ],
             [
              0.4444444444444444,
              "#bd3786"
             ],
             [
              0.5555555555555556,
              "#d8576b"
             ],
             [
              0.6666666666666666,
              "#ed7953"
             ],
             [
              0.7777777777777778,
              "#fb9f3a"
             ],
             [
              0.8888888888888888,
              "#fdca26"
             ],
             [
              1.0,
              "#f0f921"
             ]
            ]
           }
          ],
          "surface": [
           {
            "type": "surface",
            "colorbar": {
             "outlinewidth": 0,
             "ticks": ""
            },
            "colorscale": [
             [
              0.0,
              "#0d0887"
             ],
             [
              0.1111111111111111,
              "#46039f"
             ],
             [
              0.2222222222222222,
              "#7201a8"
             ],
             [
              0.3333333333333333,
              "#9c179e"
             ],
             [
              0.4444444444444444,
              "#bd3786"
             ],
             [
              0.5555555555555556,
              "#d8576b"
             ],
             [
              0.6666666666666666,
              "#ed7953"
             ],
             [
              0.7777777777777778,
              "#fb9f3a"
             ],
             [
              0.8888888888888888,
              "#fdca26"
             ],
             [
              1.0,
              "#f0f921"
             ]
            ]
           }
          ],
          "mesh3d": [
           {
            "type": "mesh3d",
            "colorbar": {
             "outlinewidth": 0,
             "ticks": ""
            }
           }
          ],
          "scatter": [
           {
            "marker": {
             "line": {
              "color": "#283442"
             }
            },
            "type": "scatter"
           }
          ],
          "parcoords": [
           {
            "type": "parcoords",
            "line": {
             "colorbar": {
              "outlinewidth": 0,
              "ticks": ""
             }
            }
           }
          ],
          "scatterpolargl": [
           {
            "type": "scatterpolargl",
            "marker": {
             "colorbar": {
              "outlinewidth": 0,
              "ticks": ""
             }
            }
           }
          ],
          "bar": [
           {
            "error_x": {
             "color": "#f2f5fa"
            },
            "error_y": {
             "color": "#f2f5fa"
            },
            "marker": {
             "line": {
              "color": "rgb(17,17,17)",
              "width": 0.5
             },
             "pattern": {
              "fillmode": "overlay",
              "size": 10,
              "solidity": 0.2
             }
            },
            "type": "bar"
           }
          ],
          "scattergeo": [
           {
            "type": "scattergeo",
            "marker": {
             "colorbar": {
              "outlinewidth": 0,
              "ticks": ""
             }
            }
           }
          ],
          "scatterpolar": [
           {
            "type": "scatterpolar",
            "marker": {
             "colorbar": {
              "outlinewidth": 0,
              "ticks": ""
             }
            }
           }
          ],
          "histogram": [
           {
            "marker": {
             "pattern": {
              "fillmode": "overlay",
              "size": 10,
              "solidity": 0.2
             }
            },
            "type": "histogram"
           }
          ],
          "scattergl": [
           {
            "marker": {
             "line": {
              "color": "#283442"
             }
            },
            "type": "scattergl"
           }
          ],
          "scatter3d": [
           {
            "type": "scatter3d",
            "line": {
             "colorbar": {
              "outlinewidth": 0,
              "ticks": ""
             }
            },
            "marker": {
             "colorbar": {
              "outlinewidth": 0,
              "ticks": ""
             }
            }
           }
          ],
          "scattermapbox": [
           {
            "type": "scattermapbox",
            "marker": {
             "colorbar": {
              "outlinewidth": 0,
              "ticks": ""
             }
            }
           }
          ],
          "scatterternary": [
           {
            "type": "scatterternary",
            "marker": {
             "colorbar": {
              "outlinewidth": 0,
              "ticks": ""
             }
            }
           }
          ],
          "scattercarpet": [
           {
            "type": "scattercarpet",
            "marker": {
             "colorbar": {
              "outlinewidth": 0,
              "ticks": ""
             }
            }
           }
          ],
          "carpet": [
           {
            "aaxis": {
             "endlinecolor": "#A2B1C6",
             "gridcolor": "#506784",
             "linecolor": "#506784",
             "minorgridcolor": "#506784",
             "startlinecolor": "#A2B1C6"
            },
            "baxis": {
             "endlinecolor": "#A2B1C6",
             "gridcolor": "#506784",
             "linecolor": "#506784",
             "minorgridcolor": "#506784",
             "startlinecolor": "#A2B1C6"
            },
            "type": "carpet"
           }
          ],
          "table": [
           {
            "cells": {
             "fill": {
              "color": "#506784"
             },
             "line": {
              "color": "rgb(17,17,17)"
             }
            },
            "header": {
             "fill": {
              "color": "#2a3f5f"
             },
             "line": {
              "color": "rgb(17,17,17)"
             }
            },
            "type": "table"
           }
          ],
          "barpolar": [
           {
            "marker": {
             "line": {
              "color": "rgb(17,17,17)",
              "width": 0.5
             },
             "pattern": {
              "fillmode": "overlay",
              "size": 10,
              "solidity": 0.2
             }
            },
            "type": "barpolar"
           }
          ],
          "pie": [
           {
            "automargin": true,
            "type": "pie"
           }
          ]
         },
         "layout": {
          "autotypenumbers": "strict",
          "colorway": [
           "#636efa",
           "#EF553B",
           "#00cc96",
           "#ab63fa",
           "#FFA15A",
           "#19d3f3",
           "#FF6692",
           "#B6E880",
           "#FF97FF",
           "#FECB52"
          ],
          "font": {
           "color": "#f2f5fa"
          },
          "hovermode": "closest",
          "hoverlabel": {
           "align": "left"
          },
          "paper_bgcolor": "rgb(17,17,17)",
          "plot_bgcolor": "rgb(17,17,17)",
          "polar": {
           "bgcolor": "rgb(17,17,17)",
           "angularaxis": {
            "gridcolor": "#506784",
            "linecolor": "#506784",
            "ticks": ""
           },
           "radialaxis": {
            "gridcolor": "#506784",
            "linecolor": "#506784",
            "ticks": ""
           }
          },
          "ternary": {
           "bgcolor": "rgb(17,17,17)",
           "aaxis": {
            "gridcolor": "#506784",
            "linecolor": "#506784",
            "ticks": ""
           },
           "baxis": {
            "gridcolor": "#506784",
            "linecolor": "#506784",
            "ticks": ""
           },
           "caxis": {
            "gridcolor": "#506784",
            "linecolor": "#506784",
            "ticks": ""
           }
          },
          "coloraxis": {
           "colorbar": {
            "outlinewidth": 0,
            "ticks": ""
           }
          },
          "colorscale": {
           "sequential": [
            [
             0.0,
             "#0d0887"
            ],
            [
             0.1111111111111111,
             "#46039f"
            ],
            [
             0.2222222222222222,
             "#7201a8"
            ],
            [
             0.3333333333333333,
             "#9c179e"
            ],
            [
             0.4444444444444444,
             "#bd3786"
            ],
            [
             0.5555555555555556,
             "#d8576b"
            ],
            [
             0.6666666666666666,
             "#ed7953"
            ],
            [
             0.7777777777777778,
             "#fb9f3a"
            ],
            [
             0.8888888888888888,
             "#fdca26"
            ],
            [
             1.0,
             "#f0f921"
            ]
           ],
           "sequentialminus": [
            [
             0.0,
             "#0d0887"
            ],
            [
             0.1111111111111111,
             "#46039f"
            ],
            [
             0.2222222222222222,
             "#7201a8"
            ],
            [
             0.3333333333333333,
             "#9c179e"
            ],
            [
             0.4444444444444444,
             "#bd3786"
            ],
            [
             0.5555555555555556,
             "#d8576b"
            ],
            [
             0.6666666666666666,
             "#ed7953"
            ],
            [
             0.7777777777777778,
             "#fb9f3a"
            ],
            [
             0.8888888888888888,
             "#fdca26"
            ],
            [
             1.0,
             "#f0f921"
            ]
           ],
           "diverging": [
            [
             0,
             "#8e0152"
            ],
            [
             0.1,
             "#c51b7d"
            ],
            [
             0.2,
             "#de77ae"
            ],
            [
             0.3,
             "#f1b6da"
            ],
            [
             0.4,
             "#fde0ef"
            ],
            [
             0.5,
             "#f7f7f7"
            ],
            [
             0.6,
             "#e6f5d0"
            ],
            [
             0.7,
             "#b8e186"
            ],
            [
             0.8,
             "#7fbc41"
            ],
            [
             0.9,
             "#4d9221"
            ],
            [
             1,
             "#276419"
            ]
           ]
          },
          "xaxis": {
           "gridcolor": "#283442",
           "linecolor": "#506784",
           "ticks": "",
           "title": {
            "standoff": 15
           },
           "zerolinecolor": "#283442",
           "automargin": true,
           "zerolinewidth": 2
          },
          "yaxis": {
           "gridcolor": "#283442",
           "linecolor": "#506784",
           "ticks": "",
           "title": {
            "standoff": 15
           },
           "zerolinecolor": "#283442",
           "automargin": true,
           "zerolinewidth": 2
          },
          "scene": {
           "xaxis": {
            "backgroundcolor": "rgb(17,17,17)",
            "gridcolor": "#506784",
            "linecolor": "#506784",
            "showbackground": true,
            "ticks": "",
            "zerolinecolor": "#C8D4E3",
            "gridwidth": 2
           },
           "yaxis": {
            "backgroundcolor": "rgb(17,17,17)",
            "gridcolor": "#506784",
            "linecolor": "#506784",
            "showbackground": true,
            "ticks": "",
            "zerolinecolor": "#C8D4E3",
            "gridwidth": 2
           },
           "zaxis": {
            "backgroundcolor": "rgb(17,17,17)",
            "gridcolor": "#506784",
            "linecolor": "#506784",
            "showbackground": true,
            "ticks": "",
            "zerolinecolor": "#C8D4E3",
            "gridwidth": 2
           }
          },
          "shapedefaults": {
           "line": {
            "color": "#f2f5fa"
           }
          },
          "annotationdefaults": {
           "arrowcolor": "#f2f5fa",
           "arrowhead": 0,
           "arrowwidth": 1
          },
          "geo": {
           "bgcolor": "rgb(17,17,17)",
           "landcolor": "rgb(17,17,17)",
           "subunitcolor": "#506784",
           "showland": true,
           "showlakes": true,
           "lakecolor": "rgb(17,17,17)"
          },
          "title": {
           "x": 0.05
          },
          "updatemenudefaults": {
           "bgcolor": "#506784",
           "borderwidth": 0
          },
          "sliderdefaults": {
           "bgcolor": "#C8D4E3",
           "borderwidth": 1,
           "bordercolor": "rgb(17,17,17)",
           "tickwidth": 0
          },
          "mapbox": {
           "style": "dark"
          }
         }
        },
        "title": {
         "text": "Sankey Diagram of LCA Scores"
        },
        "font": {
         "size": 10
        },
        "width": 1000,
        "height": 1000
       },
       "config": {
        "plotlyServerURL": "https://plot.ly"
       }
      },
      "text/html": "<div>                            <div id=\"b52b4da7-9359-4415-bf0c-6aa6a8b7612a\" class=\"plotly-graph-div\" style=\"height:1000px; width:1000px;\"></div>            <script type=\"text/javascript\">                require([\"plotly\"], function(Plotly) {                    window.PLOTLYENV=window.PLOTLYENV || {};                                    if (document.getElementById(\"b52b4da7-9359-4415-bf0c-6aa6a8b7612a\")) {                    Plotly.newPlot(                        \"b52b4da7-9359-4415-bf0c-6aa6a8b7612a\",                        [{\"link\":{\"source\":[34,0,1,2,3,4,1,4,1,8,6,10,6,2,13,14,17,9,1,18,19,20,11,11,12,24,3,26,1,30,12,9,31,1],\"target\":[0,1,2,3,4,5,6,7,8,9,10,11,12,13,14,15,16,17,18,19,20,21,22,23,24,25,26,27,28,29,30,31,32,33],\"value\":[3.5052417450803866,3.490505957373084,2.476521110839897,2.270992100307674,2.200851623979006,1.8697160222049451,0.4658905912282125,0.309329567625276,0.27237052851373517,0.2521433228940766,0.24082051639643154,0.23968080384567736,0.21568224751937026,0.17654950636582376,0.1639230307462517,0.16195514406030434,0.13475156461429627,0.13475156461392962,0.11847262505860669,0.11178320255281607,0.11137647055796221,0.1113404532191196,0.10104177705036324,0.08588362597510293,0.05599234416561417,0.05599234416070389,0.054604057467467035,0.05457145599130511,0.044881837609030695,0.04323497043151168,0.04323497043151168,0.04176223368511661,0.04176223368511661,0.03750222713823138]},\"node\":{\"label\":[\"Energy Mix Spain RICSE\",\"battery production, lead acid, rechargeable, stationary\",\"market for lead\",\"primary lead production from concentrate\",\"market for lead concentrate\",\"zinc mine operation\",\"market for copper, cathode\",\"silver mine operation with extraction\",\"market for silver\",\"silver-gold mine operation with refinery\",\"electrorefining of copper, anode\",\"market for copper, anode\",\"copper production, cathode, solvent extraction and electrowinning process\",\"primary zinc production from concentrate\",\"market for zinc concentrate\",\"zinc mine operation\",\"treatment of sulfidic tailings, from silver mine operation, tailings impoundment\",\"market for sulfidic tailings, from silver mine operation\",\"market for tin\",\"tin production\",\"market for tin concentrate\",\"tin mine operation\",\"smelting of copper concentrate, sulfide ore\",\"smelting of copper concentrate, sulfide ore\",\"market for sulfidic tailings, from copper mine operation\",\"treatment of sulfidic tailings, from copper mine operation, tailings impoundment\",\"market for lead smelter slag\",\"treatment of lead smelter slag, residual material landfill\",\"market group for electricity, medium voltage\",\"treatment of sulfidic tailings, from copper mine operation, tailings impoundment\",\"market for sulfidic tailings, from copper mine operation\",\"market for sulfidic tailings, from silver mine operation\",\"treatment of sulfidic tailings, from silver mine operation, tailings impoundment\",\"market for sulfuric acid\",null],\"line\":{\"color\":\"black\",\"width\":0.5},\"pad\":15,\"thickness\":20},\"type\":\"sankey\"}],                        {\"template\":{\"data\":{\"histogram2dcontour\":[{\"type\":\"histogram2dcontour\",\"colorbar\":{\"outlinewidth\":0,\"ticks\":\"\"},\"colorscale\":[[0.0,\"#0d0887\"],[0.1111111111111111,\"#46039f\"],[0.2222222222222222,\"#7201a8\"],[0.3333333333333333,\"#9c179e\"],[0.4444444444444444,\"#bd3786\"],[0.5555555555555556,\"#d8576b\"],[0.6666666666666666,\"#ed7953\"],[0.7777777777777778,\"#fb9f3a\"],[0.8888888888888888,\"#fdca26\"],[1.0,\"#f0f921\"]]}],\"choropleth\":[{\"type\":\"choropleth\",\"colorbar\":{\"outlinewidth\":0,\"ticks\":\"\"}}],\"histogram2d\":[{\"type\":\"histogram2d\",\"colorbar\":{\"outlinewidth\":0,\"ticks\":\"\"},\"colorscale\":[[0.0,\"#0d0887\"],[0.1111111111111111,\"#46039f\"],[0.2222222222222222,\"#7201a8\"],[0.3333333333333333,\"#9c179e\"],[0.4444444444444444,\"#bd3786\"],[0.5555555555555556,\"#d8576b\"],[0.6666666666666666,\"#ed7953\"],[0.7777777777777778,\"#fb9f3a\"],[0.8888888888888888,\"#fdca26\"],[1.0,\"#f0f921\"]]}],\"heatmap\":[{\"type\":\"heatmap\",\"colorbar\":{\"outlinewidth\":0,\"ticks\":\"\"},\"colorscale\":[[0.0,\"#0d0887\"],[0.1111111111111111,\"#46039f\"],[0.2222222222222222,\"#7201a8\"],[0.3333333333333333,\"#9c179e\"],[0.4444444444444444,\"#bd3786\"],[0.5555555555555556,\"#d8576b\"],[0.6666666666666666,\"#ed7953\"],[0.7777777777777778,\"#fb9f3a\"],[0.8888888888888888,\"#fdca26\"],[1.0,\"#f0f921\"]]}],\"heatmapgl\":[{\"type\":\"heatmapgl\",\"colorbar\":{\"outlinewidth\":0,\"ticks\":\"\"},\"colorscale\":[[0.0,\"#0d0887\"],[0.1111111111111111,\"#46039f\"],[0.2222222222222222,\"#7201a8\"],[0.3333333333333333,\"#9c179e\"],[0.4444444444444444,\"#bd3786\"],[0.5555555555555556,\"#d8576b\"],[0.6666666666666666,\"#ed7953\"],[0.7777777777777778,\"#fb9f3a\"],[0.8888888888888888,\"#fdca26\"],[1.0,\"#f0f921\"]]}],\"contourcarpet\":[{\"type\":\"contourcarpet\",\"colorbar\":{\"outlinewidth\":0,\"ticks\":\"\"}}],\"contour\":[{\"type\":\"contour\",\"colorbar\":{\"outlinewidth\":0,\"ticks\":\"\"},\"colorscale\":[[0.0,\"#0d0887\"],[0.1111111111111111,\"#46039f\"],[0.2222222222222222,\"#7201a8\"],[0.3333333333333333,\"#9c179e\"],[0.4444444444444444,\"#bd3786\"],[0.5555555555555556,\"#d8576b\"],[0.6666666666666666,\"#ed7953\"],[0.7777777777777778,\"#fb9f3a\"],[0.8888888888888888,\"#fdca26\"],[1.0,\"#f0f921\"]]}],\"surface\":[{\"type\":\"surface\",\"colorbar\":{\"outlinewidth\":0,\"ticks\":\"\"},\"colorscale\":[[0.0,\"#0d0887\"],[0.1111111111111111,\"#46039f\"],[0.2222222222222222,\"#7201a8\"],[0.3333333333333333,\"#9c179e\"],[0.4444444444444444,\"#bd3786\"],[0.5555555555555556,\"#d8576b\"],[0.6666666666666666,\"#ed7953\"],[0.7777777777777778,\"#fb9f3a\"],[0.8888888888888888,\"#fdca26\"],[1.0,\"#f0f921\"]]}],\"mesh3d\":[{\"type\":\"mesh3d\",\"colorbar\":{\"outlinewidth\":0,\"ticks\":\"\"}}],\"scatter\":[{\"marker\":{\"line\":{\"color\":\"#283442\"}},\"type\":\"scatter\"}],\"parcoords\":[{\"type\":\"parcoords\",\"line\":{\"colorbar\":{\"outlinewidth\":0,\"ticks\":\"\"}}}],\"scatterpolargl\":[{\"type\":\"scatterpolargl\",\"marker\":{\"colorbar\":{\"outlinewidth\":0,\"ticks\":\"\"}}}],\"bar\":[{\"error_x\":{\"color\":\"#f2f5fa\"},\"error_y\":{\"color\":\"#f2f5fa\"},\"marker\":{\"line\":{\"color\":\"rgb(17,17,17)\",\"width\":0.5},\"pattern\":{\"fillmode\":\"overlay\",\"size\":10,\"solidity\":0.2}},\"type\":\"bar\"}],\"scattergeo\":[{\"type\":\"scattergeo\",\"marker\":{\"colorbar\":{\"outlinewidth\":0,\"ticks\":\"\"}}}],\"scatterpolar\":[{\"type\":\"scatterpolar\",\"marker\":{\"colorbar\":{\"outlinewidth\":0,\"ticks\":\"\"}}}],\"histogram\":[{\"marker\":{\"pattern\":{\"fillmode\":\"overlay\",\"size\":10,\"solidity\":0.2}},\"type\":\"histogram\"}],\"scattergl\":[{\"marker\":{\"line\":{\"color\":\"#283442\"}},\"type\":\"scattergl\"}],\"scatter3d\":[{\"type\":\"scatter3d\",\"line\":{\"colorbar\":{\"outlinewidth\":0,\"ticks\":\"\"}},\"marker\":{\"colorbar\":{\"outlinewidth\":0,\"ticks\":\"\"}}}],\"scattermapbox\":[{\"type\":\"scattermapbox\",\"marker\":{\"colorbar\":{\"outlinewidth\":0,\"ticks\":\"\"}}}],\"scatterternary\":[{\"type\":\"scatterternary\",\"marker\":{\"colorbar\":{\"outlinewidth\":0,\"ticks\":\"\"}}}],\"scattercarpet\":[{\"type\":\"scattercarpet\",\"marker\":{\"colorbar\":{\"outlinewidth\":0,\"ticks\":\"\"}}}],\"carpet\":[{\"aaxis\":{\"endlinecolor\":\"#A2B1C6\",\"gridcolor\":\"#506784\",\"linecolor\":\"#506784\",\"minorgridcolor\":\"#506784\",\"startlinecolor\":\"#A2B1C6\"},\"baxis\":{\"endlinecolor\":\"#A2B1C6\",\"gridcolor\":\"#506784\",\"linecolor\":\"#506784\",\"minorgridcolor\":\"#506784\",\"startlinecolor\":\"#A2B1C6\"},\"type\":\"carpet\"}],\"table\":[{\"cells\":{\"fill\":{\"color\":\"#506784\"},\"line\":{\"color\":\"rgb(17,17,17)\"}},\"header\":{\"fill\":{\"color\":\"#2a3f5f\"},\"line\":{\"color\":\"rgb(17,17,17)\"}},\"type\":\"table\"}],\"barpolar\":[{\"marker\":{\"line\":{\"color\":\"rgb(17,17,17)\",\"width\":0.5},\"pattern\":{\"fillmode\":\"overlay\",\"size\":10,\"solidity\":0.2}},\"type\":\"barpolar\"}],\"pie\":[{\"automargin\":true,\"type\":\"pie\"}]},\"layout\":{\"autotypenumbers\":\"strict\",\"colorway\":[\"#636efa\",\"#EF553B\",\"#00cc96\",\"#ab63fa\",\"#FFA15A\",\"#19d3f3\",\"#FF6692\",\"#B6E880\",\"#FF97FF\",\"#FECB52\"],\"font\":{\"color\":\"#f2f5fa\"},\"hovermode\":\"closest\",\"hoverlabel\":{\"align\":\"left\"},\"paper_bgcolor\":\"rgb(17,17,17)\",\"plot_bgcolor\":\"rgb(17,17,17)\",\"polar\":{\"bgcolor\":\"rgb(17,17,17)\",\"angularaxis\":{\"gridcolor\":\"#506784\",\"linecolor\":\"#506784\",\"ticks\":\"\"},\"radialaxis\":{\"gridcolor\":\"#506784\",\"linecolor\":\"#506784\",\"ticks\":\"\"}},\"ternary\":{\"bgcolor\":\"rgb(17,17,17)\",\"aaxis\":{\"gridcolor\":\"#506784\",\"linecolor\":\"#506784\",\"ticks\":\"\"},\"baxis\":{\"gridcolor\":\"#506784\",\"linecolor\":\"#506784\",\"ticks\":\"\"},\"caxis\":{\"gridcolor\":\"#506784\",\"linecolor\":\"#506784\",\"ticks\":\"\"}},\"coloraxis\":{\"colorbar\":{\"outlinewidth\":0,\"ticks\":\"\"}},\"colorscale\":{\"sequential\":[[0.0,\"#0d0887\"],[0.1111111111111111,\"#46039f\"],[0.2222222222222222,\"#7201a8\"],[0.3333333333333333,\"#9c179e\"],[0.4444444444444444,\"#bd3786\"],[0.5555555555555556,\"#d8576b\"],[0.6666666666666666,\"#ed7953\"],[0.7777777777777778,\"#fb9f3a\"],[0.8888888888888888,\"#fdca26\"],[1.0,\"#f0f921\"]],\"sequentialminus\":[[0.0,\"#0d0887\"],[0.1111111111111111,\"#46039f\"],[0.2222222222222222,\"#7201a8\"],[0.3333333333333333,\"#9c179e\"],[0.4444444444444444,\"#bd3786\"],[0.5555555555555556,\"#d8576b\"],[0.6666666666666666,\"#ed7953\"],[0.7777777777777778,\"#fb9f3a\"],[0.8888888888888888,\"#fdca26\"],[1.0,\"#f0f921\"]],\"diverging\":[[0,\"#8e0152\"],[0.1,\"#c51b7d\"],[0.2,\"#de77ae\"],[0.3,\"#f1b6da\"],[0.4,\"#fde0ef\"],[0.5,\"#f7f7f7\"],[0.6,\"#e6f5d0\"],[0.7,\"#b8e186\"],[0.8,\"#7fbc41\"],[0.9,\"#4d9221\"],[1,\"#276419\"]]},\"xaxis\":{\"gridcolor\":\"#283442\",\"linecolor\":\"#506784\",\"ticks\":\"\",\"title\":{\"standoff\":15},\"zerolinecolor\":\"#283442\",\"automargin\":true,\"zerolinewidth\":2},\"yaxis\":{\"gridcolor\":\"#283442\",\"linecolor\":\"#506784\",\"ticks\":\"\",\"title\":{\"standoff\":15},\"zerolinecolor\":\"#283442\",\"automargin\":true,\"zerolinewidth\":2},\"scene\":{\"xaxis\":{\"backgroundcolor\":\"rgb(17,17,17)\",\"gridcolor\":\"#506784\",\"linecolor\":\"#506784\",\"showbackground\":true,\"ticks\":\"\",\"zerolinecolor\":\"#C8D4E3\",\"gridwidth\":2},\"yaxis\":{\"backgroundcolor\":\"rgb(17,17,17)\",\"gridcolor\":\"#506784\",\"linecolor\":\"#506784\",\"showbackground\":true,\"ticks\":\"\",\"zerolinecolor\":\"#C8D4E3\",\"gridwidth\":2},\"zaxis\":{\"backgroundcolor\":\"rgb(17,17,17)\",\"gridcolor\":\"#506784\",\"linecolor\":\"#506784\",\"showbackground\":true,\"ticks\":\"\",\"zerolinecolor\":\"#C8D4E3\",\"gridwidth\":2}},\"shapedefaults\":{\"line\":{\"color\":\"#f2f5fa\"}},\"annotationdefaults\":{\"arrowcolor\":\"#f2f5fa\",\"arrowhead\":0,\"arrowwidth\":1},\"geo\":{\"bgcolor\":\"rgb(17,17,17)\",\"landcolor\":\"rgb(17,17,17)\",\"subunitcolor\":\"#506784\",\"showland\":true,\"showlakes\":true,\"lakecolor\":\"rgb(17,17,17)\"},\"title\":{\"x\":0.05},\"updatemenudefaults\":{\"bgcolor\":\"#506784\",\"borderwidth\":0},\"sliderdefaults\":{\"bgcolor\":\"#C8D4E3\",\"borderwidth\":1,\"bordercolor\":\"rgb(17,17,17)\",\"tickwidth\":0},\"mapbox\":{\"style\":\"dark\"}}},\"title\":{\"text\":\"Sankey Diagram of LCA Scores\"},\"font\":{\"size\":10},\"width\":1000,\"height\":1000},                        {\"responsive\": true}                    ).then(function(){\n                            \nvar gd = document.getElementById('b52b4da7-9359-4415-bf0c-6aa6a8b7612a');\nvar x = new MutationObserver(function (mutations, observer) {{\n        var display = window.getComputedStyle(gd).display;\n        if (!display || display === 'none') {{\n            console.log([gd, 'removed!']);\n            Plotly.purge(gd);\n            observer.disconnect();\n        }}\n}});\n\n// Listen for the removal of the full notebook cells\nvar notebookContainer = gd.closest('#notebook-container');\nif (notebookContainer) {{\n    x.observe(notebookContainer, {childList: true});\n}}\n\n// Listen for the clearing of the current output cell\nvar outputEl = gd.closest('.output');\nif (outputEl) {{\n    x.observe(outputEl, {childList: true});\n}}\n\n                        })                };                });            </script>        </div>"
     },
     "metadata": {},
     "output_type": "display_data"
    }
   ],
   "source": [
    "import plotly.graph_objects as go\n",
    "\n",
    "# Sort the DataFrame by 'score' in descending order\n",
    "cadata_sorted = cadata.sort_values(by='score', ascending=False)\n",
    "\n",
    "# Create a list of unique labels and parents\n",
    "unique_labels = list(cadata_sorted['label'].unique()) + list(cadata_sorted['parent'].unique())\n",
    "\n",
    "# Combine and deduplicate the labels and parents\n",
    "label_list = list(dict.fromkeys(unique_labels))\n",
    "\n",
    "# Create a mapping from labels to indices\n",
    "label_indices = {label: idx for idx, label in enumerate(label_list)}\n",
    "\n",
    "# Ensure all parents are in the mapping\n",
    "for parent in cadata_sorted['parent']:\n",
    "    if parent not in label_indices:\n",
    "        label_indices[parent] = len(label_indices)\n",
    "        label_list.append(parent)\n",
    "\n",
    "# Ensure all labels are in the mapping\n",
    "for label in cadata_sorted['label']:\n",
    "    if label not in label_indices:\n",
    "        label_indices[label] = len(label_indices)\n",
    "        label_list.append(label)\n",
    "\n",
    "# Create the Sankey diagram\n",
    "fig = go.Figure(data=[go.Sankey(\n",
    "    node=dict(\n",
    "        pad=15,\n",
    "        thickness=20,\n",
    "        line=dict(color=\"black\", width=0.5),\n",
    "        label=[cadata_sorted[cadata_sorted['label'] == label]['name'].values[0] if label in cadata_sorted['label'].values else label for label in label_list],\n",
    "    ),\n",
    "    link=dict(\n",
    "        source=[label_indices[parent] for parent in cadata_sorted['parent']],\n",
    "        target=[label_indices[label] for label in cadata_sorted['label']],\n",
    "        value=cadata_sorted['score'],\n",
    "    )\n",
    ")])\n",
    "\n",
    "fig.update_layout(title_text=\"Sankey Diagram of LCA Scores\", font_size=10, width=1000,height=1000)\n",
    "fig.show()"
   ],
   "metadata": {
    "collapsed": false,
    "ExecuteTime": {
     "end_time": "2024-11-27T00:55:40.365003Z",
     "start_time": "2024-11-27T00:55:40.333349400Z"
    }
   },
   "id": "423f4c223a5374f8"
  }
 ],
 "metadata": {
  "kernelspec": {
   "name": "python3",
   "language": "python",
   "display_name": "Python 3 (ipykernel)"
  },
  "language_info": {
   "codemirror_mode": {
    "name": "ipython",
    "version": 3
   },
   "file_extension": ".py",
   "mimetype": "text/x-python",
   "name": "python",
   "nbconvert_exporter": "python",
   "pygments_lexer": "ipython3",
   "version": "3.11.10"
  }
 },
 "nbformat": 4,
 "nbformat_minor": 5
}
